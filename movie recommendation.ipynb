{
 "cells": [
  {
   "cell_type": "code",
   "execution_count": 1,
   "id": "6ec8d3a1",
   "metadata": {},
   "outputs": [],
   "source": [
    "# import libraries\n",
    "import warnings\n",
    "warnings.simplefilter('ignore')\n",
    "warnings.filterwarnings('ignore')\n",
    "import pandas as pd\n",
    "import numpy as np\n",
    "import seaborn as sns\n",
    "import matplotlib.pyplot as plt\n",
    "%matplotlib inline"
   ]
  },
  {
   "cell_type": "code",
   "execution_count": 2,
   "id": "48b6f926",
   "metadata": {},
   "outputs": [],
   "source": [
    "# import database\n",
    "df = pd.read_csv('Movies Recommendation.csv')"
   ]
  },
  {
   "cell_type": "code",
   "execution_count": 3,
   "id": "52f4fec9",
   "metadata": {},
   "outputs": [
    {
     "data": {
      "text/html": [
       "<div>\n",
       "<style scoped>\n",
       "    .dataframe tbody tr th:only-of-type {\n",
       "        vertical-align: middle;\n",
       "    }\n",
       "\n",
       "    .dataframe tbody tr th {\n",
       "        vertical-align: top;\n",
       "    }\n",
       "\n",
       "    .dataframe thead th {\n",
       "        text-align: right;\n",
       "    }\n",
       "</style>\n",
       "<table border=\"1\" class=\"dataframe\">\n",
       "  <thead>\n",
       "    <tr style=\"text-align: right;\">\n",
       "      <th></th>\n",
       "      <th>Movie_ID</th>\n",
       "      <th>Movie_Title</th>\n",
       "      <th>Movie_Genre</th>\n",
       "      <th>Movie_Language</th>\n",
       "      <th>Movie_Budget</th>\n",
       "      <th>Movie_Popularity</th>\n",
       "      <th>Movie_Release_Date</th>\n",
       "      <th>Movie_Revenue</th>\n",
       "      <th>Movie_Runtime</th>\n",
       "      <th>Movie_Vote</th>\n",
       "      <th>...</th>\n",
       "      <th>Movie_Homepage</th>\n",
       "      <th>Movie_Keywords</th>\n",
       "      <th>Movie_Overview</th>\n",
       "      <th>Movie_Production_House</th>\n",
       "      <th>Movie_Production_Country</th>\n",
       "      <th>Movie_Spoken_Language</th>\n",
       "      <th>Movie_Tagline</th>\n",
       "      <th>Movie_Cast</th>\n",
       "      <th>Movie_Crew</th>\n",
       "      <th>Movie_Director</th>\n",
       "    </tr>\n",
       "  </thead>\n",
       "  <tbody>\n",
       "    <tr>\n",
       "      <th>0</th>\n",
       "      <td>1</td>\n",
       "      <td>Four Rooms</td>\n",
       "      <td>Crime Comedy</td>\n",
       "      <td>en</td>\n",
       "      <td>4000000</td>\n",
       "      <td>22.876230</td>\n",
       "      <td>09-12-1995</td>\n",
       "      <td>4300000</td>\n",
       "      <td>98.0</td>\n",
       "      <td>6.5</td>\n",
       "      <td>...</td>\n",
       "      <td>NaN</td>\n",
       "      <td>hotel new year's eve witch bet hotel room</td>\n",
       "      <td>It's Ted the Bellhop's first night on the job....</td>\n",
       "      <td>[{\"name\": \"Miramax Films\", \"id\": 14}, {\"name\":...</td>\n",
       "      <td>[{\"iso_3166_1\": \"US\", \"name\": \"United States o...</td>\n",
       "      <td>[{\"iso_639_1\": \"en\", \"name\": \"English\"}]</td>\n",
       "      <td>Twelve outrageous guests. Four scandalous requ...</td>\n",
       "      <td>Tim Roth Antonio Banderas Jennifer Beals Madon...</td>\n",
       "      <td>[{'name': 'Allison Anders', 'gender': 1, 'depa...</td>\n",
       "      <td>Allison Anders</td>\n",
       "    </tr>\n",
       "    <tr>\n",
       "      <th>1</th>\n",
       "      <td>2</td>\n",
       "      <td>Star Wars</td>\n",
       "      <td>Adventure Action Science Fiction</td>\n",
       "      <td>en</td>\n",
       "      <td>11000000</td>\n",
       "      <td>126.393695</td>\n",
       "      <td>25-05-1977</td>\n",
       "      <td>775398007</td>\n",
       "      <td>121.0</td>\n",
       "      <td>8.1</td>\n",
       "      <td>...</td>\n",
       "      <td>http://www.starwars.com/films/star-wars-episod...</td>\n",
       "      <td>android galaxy hermit death star lightsaber</td>\n",
       "      <td>Princess Leia is captured and held hostage by ...</td>\n",
       "      <td>[{\"name\": \"Lucasfilm\", \"id\": 1}, {\"name\": \"Twe...</td>\n",
       "      <td>[{\"iso_3166_1\": \"US\", \"name\": \"United States o...</td>\n",
       "      <td>[{\"iso_639_1\": \"en\", \"name\": \"English\"}]</td>\n",
       "      <td>A long time ago in a galaxy far, far away...</td>\n",
       "      <td>Mark Hamill Harrison Ford Carrie Fisher Peter ...</td>\n",
       "      <td>[{'name': 'George Lucas', 'gender': 2, 'depart...</td>\n",
       "      <td>George Lucas</td>\n",
       "    </tr>\n",
       "    <tr>\n",
       "      <th>2</th>\n",
       "      <td>3</td>\n",
       "      <td>Finding Nemo</td>\n",
       "      <td>Animation Family</td>\n",
       "      <td>en</td>\n",
       "      <td>94000000</td>\n",
       "      <td>85.688789</td>\n",
       "      <td>30-05-2003</td>\n",
       "      <td>940335536</td>\n",
       "      <td>100.0</td>\n",
       "      <td>7.6</td>\n",
       "      <td>...</td>\n",
       "      <td>http://movies.disney.com/finding-nemo</td>\n",
       "      <td>father son relationship harbor underwater fish...</td>\n",
       "      <td>Nemo, an adventurous young clownfish, is unexp...</td>\n",
       "      <td>[{\"name\": \"Pixar Animation Studios\", \"id\": 3}]</td>\n",
       "      <td>[{\"iso_3166_1\": \"US\", \"name\": \"United States o...</td>\n",
       "      <td>[{\"iso_639_1\": \"en\", \"name\": \"English\"}]</td>\n",
       "      <td>There are 3.7 trillion fish in the ocean, they...</td>\n",
       "      <td>Albert Brooks Ellen DeGeneres Alexander Gould ...</td>\n",
       "      <td>[{'name': 'Andrew Stanton', 'gender': 2, 'depa...</td>\n",
       "      <td>Andrew Stanton</td>\n",
       "    </tr>\n",
       "    <tr>\n",
       "      <th>3</th>\n",
       "      <td>4</td>\n",
       "      <td>Forrest Gump</td>\n",
       "      <td>Comedy Drama Romance</td>\n",
       "      <td>en</td>\n",
       "      <td>55000000</td>\n",
       "      <td>138.133331</td>\n",
       "      <td>06-07-1994</td>\n",
       "      <td>677945399</td>\n",
       "      <td>142.0</td>\n",
       "      <td>8.2</td>\n",
       "      <td>...</td>\n",
       "      <td>NaN</td>\n",
       "      <td>vietnam veteran hippie mentally disabled runni...</td>\n",
       "      <td>A man with a low IQ has accomplished great thi...</td>\n",
       "      <td>[{\"name\": \"Paramount Pictures\", \"id\": 4}]</td>\n",
       "      <td>[{\"iso_3166_1\": \"US\", \"name\": \"United States o...</td>\n",
       "      <td>[{\"iso_639_1\": \"en\", \"name\": \"English\"}]</td>\n",
       "      <td>The world will never be the same, once you've ...</td>\n",
       "      <td>Tom Hanks Robin Wright Gary Sinise Mykelti Wil...</td>\n",
       "      <td>[{'name': 'Alan Silvestri', 'gender': 2, 'depa...</td>\n",
       "      <td>Robert Zemeckis</td>\n",
       "    </tr>\n",
       "    <tr>\n",
       "      <th>4</th>\n",
       "      <td>5</td>\n",
       "      <td>American Beauty</td>\n",
       "      <td>Drama</td>\n",
       "      <td>en</td>\n",
       "      <td>15000000</td>\n",
       "      <td>80.878605</td>\n",
       "      <td>15-09-1999</td>\n",
       "      <td>356296601</td>\n",
       "      <td>122.0</td>\n",
       "      <td>7.9</td>\n",
       "      <td>...</td>\n",
       "      <td>http://www.dreamworks.com/ab/</td>\n",
       "      <td>male nudity female nudity adultery midlife cri...</td>\n",
       "      <td>Lester Burnham, a depressed suburban father in...</td>\n",
       "      <td>[{\"name\": \"DreamWorks SKG\", \"id\": 27}, {\"name\"...</td>\n",
       "      <td>[{\"iso_3166_1\": \"US\", \"name\": \"United States o...</td>\n",
       "      <td>[{\"iso_639_1\": \"en\", \"name\": \"English\"}]</td>\n",
       "      <td>Look closer.</td>\n",
       "      <td>Kevin Spacey Annette Bening Thora Birch Wes Be...</td>\n",
       "      <td>[{'name': 'Thomas Newman', 'gender': 2, 'depar...</td>\n",
       "      <td>Sam Mendes</td>\n",
       "    </tr>\n",
       "  </tbody>\n",
       "</table>\n",
       "<p>5 rows × 21 columns</p>\n",
       "</div>"
      ],
      "text/plain": [
       "   Movie_ID      Movie_Title                       Movie_Genre Movie_Language  \\\n",
       "0         1       Four Rooms                      Crime Comedy             en   \n",
       "1         2        Star Wars  Adventure Action Science Fiction             en   \n",
       "2         3     Finding Nemo                  Animation Family             en   \n",
       "3         4     Forrest Gump              Comedy Drama Romance             en   \n",
       "4         5  American Beauty                             Drama             en   \n",
       "\n",
       "   Movie_Budget  Movie_Popularity Movie_Release_Date  Movie_Revenue  \\\n",
       "0       4000000         22.876230         09-12-1995        4300000   \n",
       "1      11000000        126.393695         25-05-1977      775398007   \n",
       "2      94000000         85.688789         30-05-2003      940335536   \n",
       "3      55000000        138.133331         06-07-1994      677945399   \n",
       "4      15000000         80.878605         15-09-1999      356296601   \n",
       "\n",
       "   Movie_Runtime  Movie_Vote  ...  \\\n",
       "0           98.0         6.5  ...   \n",
       "1          121.0         8.1  ...   \n",
       "2          100.0         7.6  ...   \n",
       "3          142.0         8.2  ...   \n",
       "4          122.0         7.9  ...   \n",
       "\n",
       "                                      Movie_Homepage  \\\n",
       "0                                                NaN   \n",
       "1  http://www.starwars.com/films/star-wars-episod...   \n",
       "2              http://movies.disney.com/finding-nemo   \n",
       "3                                                NaN   \n",
       "4                      http://www.dreamworks.com/ab/   \n",
       "\n",
       "                                      Movie_Keywords  \\\n",
       "0          hotel new year's eve witch bet hotel room   \n",
       "1        android galaxy hermit death star lightsaber   \n",
       "2  father son relationship harbor underwater fish...   \n",
       "3  vietnam veteran hippie mentally disabled runni...   \n",
       "4  male nudity female nudity adultery midlife cri...   \n",
       "\n",
       "                                      Movie_Overview  \\\n",
       "0  It's Ted the Bellhop's first night on the job....   \n",
       "1  Princess Leia is captured and held hostage by ...   \n",
       "2  Nemo, an adventurous young clownfish, is unexp...   \n",
       "3  A man with a low IQ has accomplished great thi...   \n",
       "4  Lester Burnham, a depressed suburban father in...   \n",
       "\n",
       "                              Movie_Production_House  \\\n",
       "0  [{\"name\": \"Miramax Films\", \"id\": 14}, {\"name\":...   \n",
       "1  [{\"name\": \"Lucasfilm\", \"id\": 1}, {\"name\": \"Twe...   \n",
       "2     [{\"name\": \"Pixar Animation Studios\", \"id\": 3}]   \n",
       "3          [{\"name\": \"Paramount Pictures\", \"id\": 4}]   \n",
       "4  [{\"name\": \"DreamWorks SKG\", \"id\": 27}, {\"name\"...   \n",
       "\n",
       "                            Movie_Production_Country  \\\n",
       "0  [{\"iso_3166_1\": \"US\", \"name\": \"United States o...   \n",
       "1  [{\"iso_3166_1\": \"US\", \"name\": \"United States o...   \n",
       "2  [{\"iso_3166_1\": \"US\", \"name\": \"United States o...   \n",
       "3  [{\"iso_3166_1\": \"US\", \"name\": \"United States o...   \n",
       "4  [{\"iso_3166_1\": \"US\", \"name\": \"United States o...   \n",
       "\n",
       "                      Movie_Spoken_Language  \\\n",
       "0  [{\"iso_639_1\": \"en\", \"name\": \"English\"}]   \n",
       "1  [{\"iso_639_1\": \"en\", \"name\": \"English\"}]   \n",
       "2  [{\"iso_639_1\": \"en\", \"name\": \"English\"}]   \n",
       "3  [{\"iso_639_1\": \"en\", \"name\": \"English\"}]   \n",
       "4  [{\"iso_639_1\": \"en\", \"name\": \"English\"}]   \n",
       "\n",
       "                                       Movie_Tagline  \\\n",
       "0  Twelve outrageous guests. Four scandalous requ...   \n",
       "1       A long time ago in a galaxy far, far away...   \n",
       "2  There are 3.7 trillion fish in the ocean, they...   \n",
       "3  The world will never be the same, once you've ...   \n",
       "4                                       Look closer.   \n",
       "\n",
       "                                          Movie_Cast  \\\n",
       "0  Tim Roth Antonio Banderas Jennifer Beals Madon...   \n",
       "1  Mark Hamill Harrison Ford Carrie Fisher Peter ...   \n",
       "2  Albert Brooks Ellen DeGeneres Alexander Gould ...   \n",
       "3  Tom Hanks Robin Wright Gary Sinise Mykelti Wil...   \n",
       "4  Kevin Spacey Annette Bening Thora Birch Wes Be...   \n",
       "\n",
       "                                          Movie_Crew   Movie_Director  \n",
       "0  [{'name': 'Allison Anders', 'gender': 1, 'depa...   Allison Anders  \n",
       "1  [{'name': 'George Lucas', 'gender': 2, 'depart...     George Lucas  \n",
       "2  [{'name': 'Andrew Stanton', 'gender': 2, 'depa...   Andrew Stanton  \n",
       "3  [{'name': 'Alan Silvestri', 'gender': 2, 'depa...  Robert Zemeckis  \n",
       "4  [{'name': 'Thomas Newman', 'gender': 2, 'depar...       Sam Mendes  \n",
       "\n",
       "[5 rows x 21 columns]"
      ]
     },
     "execution_count": 3,
     "metadata": {},
     "output_type": "execute_result"
    }
   ],
   "source": [
    "df.head()"
   ]
  },
  {
   "cell_type": "code",
   "execution_count": 5,
   "id": "274f98ce",
   "metadata": {},
   "outputs": [
    {
     "data": {
      "text/plain": [
       "(4760, 21)"
      ]
     },
     "execution_count": 5,
     "metadata": {},
     "output_type": "execute_result"
    }
   ],
   "source": [
    "df.shape"
   ]
  },
  {
   "cell_type": "code",
   "execution_count": 9,
   "id": "e6803134",
   "metadata": {},
   "outputs": [
    {
     "data": {
      "text/plain": [
       "Index(['Movie_ID', 'Movie_Title', 'Movie_Genre', 'Movie_Language',\n",
       "       'Movie_Budget', 'Movie_Popularity', 'Movie_Release_Date',\n",
       "       'Movie_Revenue', 'Movie_Runtime', 'Movie_Vote', 'Movie_Vote_Count',\n",
       "       'Movie_Homepage', 'Movie_Keywords', 'Movie_Overview',\n",
       "       'Movie_Production_House', 'Movie_Production_Country',\n",
       "       'Movie_Spoken_Language', 'Movie_Tagline', 'Movie_Cast', 'Movie_Crew',\n",
       "       'Movie_Director'],\n",
       "      dtype='object')"
      ]
     },
     "execution_count": 9,
     "metadata": {},
     "output_type": "execute_result"
    }
   ],
   "source": [
    "df.columns"
   ]
  },
  {
   "cell_type": "code",
   "execution_count": 10,
   "id": "24634763",
   "metadata": {},
   "outputs": [
    {
     "name": "stdout",
     "output_type": "stream",
     "text": [
      "<class 'pandas.core.frame.DataFrame'>\n",
      "RangeIndex: 4760 entries, 0 to 4759\n",
      "Data columns (total 21 columns):\n",
      " #   Column                    Non-Null Count  Dtype  \n",
      "---  ------                    --------------  -----  \n",
      " 0   Movie_ID                  4760 non-null   int64  \n",
      " 1   Movie_Title               4760 non-null   object \n",
      " 2   Movie_Genre               4760 non-null   object \n",
      " 3   Movie_Language            4760 non-null   object \n",
      " 4   Movie_Budget              4760 non-null   int64  \n",
      " 5   Movie_Popularity          4760 non-null   float64\n",
      " 6   Movie_Release_Date        4760 non-null   object \n",
      " 7   Movie_Revenue             4760 non-null   int64  \n",
      " 8   Movie_Runtime             4758 non-null   float64\n",
      " 9   Movie_Vote                4760 non-null   float64\n",
      " 10  Movie_Vote_Count          4760 non-null   int64  \n",
      " 11  Movie_Homepage            1699 non-null   object \n",
      " 12  Movie_Keywords            4373 non-null   object \n",
      " 13  Movie_Overview            4757 non-null   object \n",
      " 14  Movie_Production_House    4760 non-null   object \n",
      " 15  Movie_Production_Country  4760 non-null   object \n",
      " 16  Movie_Spoken_Language     4760 non-null   object \n",
      " 17  Movie_Tagline             3942 non-null   object \n",
      " 18  Movie_Cast                4733 non-null   object \n",
      " 19  Movie_Crew                4760 non-null   object \n",
      " 20  Movie_Director            4738 non-null   object \n",
      "dtypes: float64(3), int64(4), object(14)\n",
      "memory usage: 781.1+ KB\n"
     ]
    }
   ],
   "source": [
    "df.info()"
   ]
  },
  {
   "cell_type": "code",
   "execution_count": 12,
   "id": "e4828568",
   "metadata": {},
   "outputs": [
    {
     "data": {
      "text/plain": [
       "Movie_ID                       0\n",
       "Movie_Title                    0\n",
       "Movie_Genre                    0\n",
       "Movie_Language                 0\n",
       "Movie_Budget                   0\n",
       "Movie_Popularity               0\n",
       "Movie_Release_Date             0\n",
       "Movie_Revenue                  0\n",
       "Movie_Runtime                  2\n",
       "Movie_Vote                     0\n",
       "Movie_Vote_Count               0\n",
       "Movie_Homepage              3061\n",
       "Movie_Keywords               387\n",
       "Movie_Overview                 3\n",
       "Movie_Production_House         0\n",
       "Movie_Production_Country       0\n",
       "Movie_Spoken_Language          0\n",
       "Movie_Tagline                818\n",
       "Movie_Cast                    27\n",
       "Movie_Crew                     0\n",
       "Movie_Director                22\n",
       "dtype: int64"
      ]
     },
     "execution_count": 12,
     "metadata": {},
     "output_type": "execute_result"
    }
   ],
   "source": [
    "df.isnull().sum()"
   ]
  },
  {
   "cell_type": "code",
   "execution_count": 13,
   "id": "f645979e",
   "metadata": {},
   "outputs": [
    {
     "data": {
      "text/html": [
       "<div>\n",
       "<style scoped>\n",
       "    .dataframe tbody tr th:only-of-type {\n",
       "        vertical-align: middle;\n",
       "    }\n",
       "\n",
       "    .dataframe tbody tr th {\n",
       "        vertical-align: top;\n",
       "    }\n",
       "\n",
       "    .dataframe thead th {\n",
       "        text-align: right;\n",
       "    }\n",
       "</style>\n",
       "<table border=\"1\" class=\"dataframe\">\n",
       "  <thead>\n",
       "    <tr style=\"text-align: right;\">\n",
       "      <th></th>\n",
       "      <th>Unique Value</th>\n",
       "    </tr>\n",
       "  </thead>\n",
       "  <tbody>\n",
       "    <tr>\n",
       "      <th>Movie_ID</th>\n",
       "      <td>4760</td>\n",
       "    </tr>\n",
       "    <tr>\n",
       "      <th>Movie_Title</th>\n",
       "      <td>4757</td>\n",
       "    </tr>\n",
       "    <tr>\n",
       "      <th>Movie_Genre</th>\n",
       "      <td>1164</td>\n",
       "    </tr>\n",
       "    <tr>\n",
       "      <th>Movie_Language</th>\n",
       "      <td>37</td>\n",
       "    </tr>\n",
       "    <tr>\n",
       "      <th>Movie_Budget</th>\n",
       "      <td>436</td>\n",
       "    </tr>\n",
       "    <tr>\n",
       "      <th>Movie_Popularity</th>\n",
       "      <td>4759</td>\n",
       "    </tr>\n",
       "    <tr>\n",
       "      <th>Movie_Release_Date</th>\n",
       "      <td>3260</td>\n",
       "    </tr>\n",
       "    <tr>\n",
       "      <th>Movie_Revenue</th>\n",
       "      <td>3285</td>\n",
       "    </tr>\n",
       "    <tr>\n",
       "      <th>Movie_Runtime</th>\n",
       "      <td>156</td>\n",
       "    </tr>\n",
       "    <tr>\n",
       "      <th>Movie_Vote</th>\n",
       "      <td>69</td>\n",
       "    </tr>\n",
       "    <tr>\n",
       "      <th>Movie_Vote_Count</th>\n",
       "      <td>1604</td>\n",
       "    </tr>\n",
       "    <tr>\n",
       "      <th>Movie_Homepage</th>\n",
       "      <td>1678</td>\n",
       "    </tr>\n",
       "    <tr>\n",
       "      <th>Movie_Keywords</th>\n",
       "      <td>4202</td>\n",
       "    </tr>\n",
       "    <tr>\n",
       "      <th>Movie_Overview</th>\n",
       "      <td>4757</td>\n",
       "    </tr>\n",
       "    <tr>\n",
       "      <th>Movie_Production_House</th>\n",
       "      <td>3682</td>\n",
       "    </tr>\n",
       "    <tr>\n",
       "      <th>Movie_Production_Country</th>\n",
       "      <td>466</td>\n",
       "    </tr>\n",
       "    <tr>\n",
       "      <th>Movie_Spoken_Language</th>\n",
       "      <td>541</td>\n",
       "    </tr>\n",
       "    <tr>\n",
       "      <th>Movie_Tagline</th>\n",
       "      <td>3927</td>\n",
       "    </tr>\n",
       "    <tr>\n",
       "      <th>Movie_Cast</th>\n",
       "      <td>4714</td>\n",
       "    </tr>\n",
       "    <tr>\n",
       "      <th>Movie_Crew</th>\n",
       "      <td>4747</td>\n",
       "    </tr>\n",
       "    <tr>\n",
       "      <th>Movie_Director</th>\n",
       "      <td>2331</td>\n",
       "    </tr>\n",
       "  </tbody>\n",
       "</table>\n",
       "</div>"
      ],
      "text/plain": [
       "                          Unique Value\n",
       "Movie_ID                          4760\n",
       "Movie_Title                       4757\n",
       "Movie_Genre                       1164\n",
       "Movie_Language                      37\n",
       "Movie_Budget                       436\n",
       "Movie_Popularity                  4759\n",
       "Movie_Release_Date                3260\n",
       "Movie_Revenue                     3285\n",
       "Movie_Runtime                      156\n",
       "Movie_Vote                          69\n",
       "Movie_Vote_Count                  1604\n",
       "Movie_Homepage                    1678\n",
       "Movie_Keywords                    4202\n",
       "Movie_Overview                    4757\n",
       "Movie_Production_House            3682\n",
       "Movie_Production_Country           466\n",
       "Movie_Spoken_Language              541\n",
       "Movie_Tagline                     3927\n",
       "Movie_Cast                        4714\n",
       "Movie_Crew                        4747\n",
       "Movie_Director                    2331"
      ]
     },
     "execution_count": 13,
     "metadata": {},
     "output_type": "execute_result"
    }
   ],
   "source": [
    "df.nunique().to_frame('Unique Value')"
   ]
  },
  {
   "cell_type": "code",
   "execution_count": 14,
   "id": "fa45b5d3",
   "metadata": {},
   "outputs": [
    {
     "data": {
      "text/html": [
       "<div>\n",
       "<style scoped>\n",
       "    .dataframe tbody tr th:only-of-type {\n",
       "        vertical-align: middle;\n",
       "    }\n",
       "\n",
       "    .dataframe tbody tr th {\n",
       "        vertical-align: top;\n",
       "    }\n",
       "\n",
       "    .dataframe thead th {\n",
       "        text-align: right;\n",
       "    }\n",
       "</style>\n",
       "<table border=\"1\" class=\"dataframe\">\n",
       "  <thead>\n",
       "    <tr style=\"text-align: right;\">\n",
       "      <th></th>\n",
       "      <th>count</th>\n",
       "      <th>mean</th>\n",
       "      <th>std</th>\n",
       "      <th>min</th>\n",
       "      <th>25%</th>\n",
       "      <th>50%</th>\n",
       "      <th>75%</th>\n",
       "      <th>max</th>\n",
       "    </tr>\n",
       "  </thead>\n",
       "  <tbody>\n",
       "    <tr>\n",
       "      <th>Movie_ID</th>\n",
       "      <td>4760.0</td>\n",
       "      <td>2.382566e+03</td>\n",
       "      <td>1.377270e+03</td>\n",
       "      <td>1.000000</td>\n",
       "      <td>1190.750000</td>\n",
       "      <td>2.380500e+03</td>\n",
       "      <td>3.572250e+03</td>\n",
       "      <td>4.788000e+03</td>\n",
       "    </tr>\n",
       "    <tr>\n",
       "      <th>Movie_Budget</th>\n",
       "      <td>4760.0</td>\n",
       "      <td>2.920129e+07</td>\n",
       "      <td>4.075620e+07</td>\n",
       "      <td>0.000000</td>\n",
       "      <td>925750.000000</td>\n",
       "      <td>1.500000e+07</td>\n",
       "      <td>4.000000e+07</td>\n",
       "      <td>3.800000e+08</td>\n",
       "    </tr>\n",
       "    <tr>\n",
       "      <th>Movie_Popularity</th>\n",
       "      <td>4760.0</td>\n",
       "      <td>2.159951e+01</td>\n",
       "      <td>3.188792e+01</td>\n",
       "      <td>0.000372</td>\n",
       "      <td>4.807074</td>\n",
       "      <td>1.311906e+01</td>\n",
       "      <td>2.841193e+01</td>\n",
       "      <td>8.755813e+02</td>\n",
       "    </tr>\n",
       "    <tr>\n",
       "      <th>Movie_Revenue</th>\n",
       "      <td>4760.0</td>\n",
       "      <td>8.263743e+07</td>\n",
       "      <td>1.630554e+08</td>\n",
       "      <td>0.000000</td>\n",
       "      <td>0.000000</td>\n",
       "      <td>1.944716e+07</td>\n",
       "      <td>9.341276e+07</td>\n",
       "      <td>2.787965e+09</td>\n",
       "    </tr>\n",
       "    <tr>\n",
       "      <th>Movie_Runtime</th>\n",
       "      <td>4758.0</td>\n",
       "      <td>1.071841e+02</td>\n",
       "      <td>2.196033e+01</td>\n",
       "      <td>0.000000</td>\n",
       "      <td>94.000000</td>\n",
       "      <td>1.040000e+02</td>\n",
       "      <td>1.180000e+02</td>\n",
       "      <td>3.380000e+02</td>\n",
       "    </tr>\n",
       "    <tr>\n",
       "      <th>Movie_Vote</th>\n",
       "      <td>4760.0</td>\n",
       "      <td>6.113866e+00</td>\n",
       "      <td>1.141294e+00</td>\n",
       "      <td>0.000000</td>\n",
       "      <td>5.600000</td>\n",
       "      <td>6.200000e+00</td>\n",
       "      <td>6.800000e+00</td>\n",
       "      <td>1.000000e+01</td>\n",
       "    </tr>\n",
       "    <tr>\n",
       "      <th>Movie_Vote_Count</th>\n",
       "      <td>4760.0</td>\n",
       "      <td>6.925084e+02</td>\n",
       "      <td>1.235007e+03</td>\n",
       "      <td>0.000000</td>\n",
       "      <td>55.000000</td>\n",
       "      <td>2.380000e+02</td>\n",
       "      <td>7.402500e+02</td>\n",
       "      <td>1.375200e+04</td>\n",
       "    </tr>\n",
       "  </tbody>\n",
       "</table>\n",
       "</div>"
      ],
      "text/plain": [
       "                   count          mean           std       min            25%  \\\n",
       "Movie_ID          4760.0  2.382566e+03  1.377270e+03  1.000000    1190.750000   \n",
       "Movie_Budget      4760.0  2.920129e+07  4.075620e+07  0.000000  925750.000000   \n",
       "Movie_Popularity  4760.0  2.159951e+01  3.188792e+01  0.000372       4.807074   \n",
       "Movie_Revenue     4760.0  8.263743e+07  1.630554e+08  0.000000       0.000000   \n",
       "Movie_Runtime     4758.0  1.071841e+02  2.196033e+01  0.000000      94.000000   \n",
       "Movie_Vote        4760.0  6.113866e+00  1.141294e+00  0.000000       5.600000   \n",
       "Movie_Vote_Count  4760.0  6.925084e+02  1.235007e+03  0.000000      55.000000   \n",
       "\n",
       "                           50%           75%           max  \n",
       "Movie_ID          2.380500e+03  3.572250e+03  4.788000e+03  \n",
       "Movie_Budget      1.500000e+07  4.000000e+07  3.800000e+08  \n",
       "Movie_Popularity  1.311906e+01  2.841193e+01  8.755813e+02  \n",
       "Movie_Revenue     1.944716e+07  9.341276e+07  2.787965e+09  \n",
       "Movie_Runtime     1.040000e+02  1.180000e+02  3.380000e+02  \n",
       "Movie_Vote        6.200000e+00  6.800000e+00  1.000000e+01  \n",
       "Movie_Vote_Count  2.380000e+02  7.402500e+02  1.375200e+04  "
      ]
     },
     "execution_count": 14,
     "metadata": {},
     "output_type": "execute_result"
    }
   ],
   "source": [
    "df.describe().T"
   ]
  },
  {
   "cell_type": "code",
   "execution_count": 15,
   "id": "d76da2e9",
   "metadata": {},
   "outputs": [],
   "source": [
    "df_feature = df[['Movie_Genre','Movie_Keywords','Movie_Production_House','Movie_Production_Country','Movie_Tagline','Movie_Cast','Movie_Director']].fillna('')"
   ]
  },
  {
   "cell_type": "code",
   "execution_count": 17,
   "id": "e3ff1199",
   "metadata": {},
   "outputs": [
    {
     "data": {
      "text/plain": [
       "(4760, 7)"
      ]
     },
     "execution_count": 17,
     "metadata": {},
     "output_type": "execute_result"
    }
   ],
   "source": [
    "df_feature.shape"
   ]
  },
  {
   "cell_type": "code",
   "execution_count": 19,
   "id": "19e8457c",
   "metadata": {},
   "outputs": [
    {
     "data": {
      "text/html": [
       "<div>\n",
       "<style scoped>\n",
       "    .dataframe tbody tr th:only-of-type {\n",
       "        vertical-align: middle;\n",
       "    }\n",
       "\n",
       "    .dataframe tbody tr th {\n",
       "        vertical-align: top;\n",
       "    }\n",
       "\n",
       "    .dataframe thead th {\n",
       "        text-align: right;\n",
       "    }\n",
       "</style>\n",
       "<table border=\"1\" class=\"dataframe\">\n",
       "  <thead>\n",
       "    <tr style=\"text-align: right;\">\n",
       "      <th></th>\n",
       "      <th>Movie_Genre</th>\n",
       "      <th>Movie_Keywords</th>\n",
       "      <th>Movie_Production_House</th>\n",
       "      <th>Movie_Production_Country</th>\n",
       "      <th>Movie_Tagline</th>\n",
       "      <th>Movie_Cast</th>\n",
       "      <th>Movie_Director</th>\n",
       "    </tr>\n",
       "  </thead>\n",
       "  <tbody>\n",
       "    <tr>\n",
       "      <th>0</th>\n",
       "      <td>Crime Comedy</td>\n",
       "      <td>hotel new year's eve witch bet hotel room</td>\n",
       "      <td>[{\"name\": \"Miramax Films\", \"id\": 14}, {\"name\":...</td>\n",
       "      <td>[{\"iso_3166_1\": \"US\", \"name\": \"United States o...</td>\n",
       "      <td>Twelve outrageous guests. Four scandalous requ...</td>\n",
       "      <td>Tim Roth Antonio Banderas Jennifer Beals Madon...</td>\n",
       "      <td>Allison Anders</td>\n",
       "    </tr>\n",
       "    <tr>\n",
       "      <th>1</th>\n",
       "      <td>Adventure Action Science Fiction</td>\n",
       "      <td>android galaxy hermit death star lightsaber</td>\n",
       "      <td>[{\"name\": \"Lucasfilm\", \"id\": 1}, {\"name\": \"Twe...</td>\n",
       "      <td>[{\"iso_3166_1\": \"US\", \"name\": \"United States o...</td>\n",
       "      <td>A long time ago in a galaxy far, far away...</td>\n",
       "      <td>Mark Hamill Harrison Ford Carrie Fisher Peter ...</td>\n",
       "      <td>George Lucas</td>\n",
       "    </tr>\n",
       "    <tr>\n",
       "      <th>2</th>\n",
       "      <td>Animation Family</td>\n",
       "      <td>father son relationship harbor underwater fish...</td>\n",
       "      <td>[{\"name\": \"Pixar Animation Studios\", \"id\": 3}]</td>\n",
       "      <td>[{\"iso_3166_1\": \"US\", \"name\": \"United States o...</td>\n",
       "      <td>There are 3.7 trillion fish in the ocean, they...</td>\n",
       "      <td>Albert Brooks Ellen DeGeneres Alexander Gould ...</td>\n",
       "      <td>Andrew Stanton</td>\n",
       "    </tr>\n",
       "    <tr>\n",
       "      <th>3</th>\n",
       "      <td>Comedy Drama Romance</td>\n",
       "      <td>vietnam veteran hippie mentally disabled runni...</td>\n",
       "      <td>[{\"name\": \"Paramount Pictures\", \"id\": 4}]</td>\n",
       "      <td>[{\"iso_3166_1\": \"US\", \"name\": \"United States o...</td>\n",
       "      <td>The world will never be the same, once you've ...</td>\n",
       "      <td>Tom Hanks Robin Wright Gary Sinise Mykelti Wil...</td>\n",
       "      <td>Robert Zemeckis</td>\n",
       "    </tr>\n",
       "    <tr>\n",
       "      <th>4</th>\n",
       "      <td>Drama</td>\n",
       "      <td>male nudity female nudity adultery midlife cri...</td>\n",
       "      <td>[{\"name\": \"DreamWorks SKG\", \"id\": 27}, {\"name\"...</td>\n",
       "      <td>[{\"iso_3166_1\": \"US\", \"name\": \"United States o...</td>\n",
       "      <td>Look closer.</td>\n",
       "      <td>Kevin Spacey Annette Bening Thora Birch Wes Be...</td>\n",
       "      <td>Sam Mendes</td>\n",
       "    </tr>\n",
       "    <tr>\n",
       "      <th>...</th>\n",
       "      <td>...</td>\n",
       "      <td>...</td>\n",
       "      <td>...</td>\n",
       "      <td>...</td>\n",
       "      <td>...</td>\n",
       "      <td>...</td>\n",
       "      <td>...</td>\n",
       "    </tr>\n",
       "    <tr>\n",
       "      <th>4755</th>\n",
       "      <td>Horror</td>\n",
       "      <td></td>\n",
       "      <td>[]</td>\n",
       "      <td>[]</td>\n",
       "      <td>The hot spot where Satan's waitin'.</td>\n",
       "      <td>Lisa Hart Carroll Michael Des Barres Paul Drak...</td>\n",
       "      <td>Pece Dingo</td>\n",
       "    </tr>\n",
       "    <tr>\n",
       "      <th>4756</th>\n",
       "      <td>Comedy Family Drama</td>\n",
       "      <td></td>\n",
       "      <td>[]</td>\n",
       "      <td>[]</td>\n",
       "      <td>It’s better to stand out than to fit in.</td>\n",
       "      <td>Roni Akurati Brighton Sharbino Jason Lee Anjul...</td>\n",
       "      <td>Frank Lotito</td>\n",
       "    </tr>\n",
       "    <tr>\n",
       "      <th>4757</th>\n",
       "      <td>Thriller Drama</td>\n",
       "      <td>christian film sex trafficking</td>\n",
       "      <td>[{\"name\": \"After Eden Pictures\", \"id\": 85248}]</td>\n",
       "      <td>[{\"iso_3166_1\": \"US\", \"name\": \"United States o...</td>\n",
       "      <td>She never knew it could happen to her...</td>\n",
       "      <td>Nicole Smolen Kim Baldwin Ariana Stephens Brys...</td>\n",
       "      <td>Jaco Booyens</td>\n",
       "    </tr>\n",
       "    <tr>\n",
       "      <th>4758</th>\n",
       "      <td>Family</td>\n",
       "      <td></td>\n",
       "      <td>[{\"name\": \"New Kingdom Pictures\", \"id\": 41671}]</td>\n",
       "      <td>[{\"iso_3166_1\": \"US\", \"name\": \"United States o...</td>\n",
       "      <td></td>\n",
       "      <td></td>\n",
       "      <td></td>\n",
       "    </tr>\n",
       "    <tr>\n",
       "      <th>4759</th>\n",
       "      <td>Documentary</td>\n",
       "      <td>music actors legendary perfomer classic hollyw...</td>\n",
       "      <td>[{\"name\": \"Eyeline Entertainment\", \"id\": 60343}]</td>\n",
       "      <td>[{\"iso_3166_1\": \"GB\", \"name\": \"United Kingdom\"}]</td>\n",
       "      <td></td>\n",
       "      <td>Tony Oppedisano</td>\n",
       "      <td>Simon Napier-Bell</td>\n",
       "    </tr>\n",
       "  </tbody>\n",
       "</table>\n",
       "<p>4760 rows × 7 columns</p>\n",
       "</div>"
      ],
      "text/plain": [
       "                           Movie_Genre  \\\n",
       "0                         Crime Comedy   \n",
       "1     Adventure Action Science Fiction   \n",
       "2                     Animation Family   \n",
       "3                 Comedy Drama Romance   \n",
       "4                                Drama   \n",
       "...                                ...   \n",
       "4755                            Horror   \n",
       "4756               Comedy Family Drama   \n",
       "4757                    Thriller Drama   \n",
       "4758                            Family   \n",
       "4759                       Documentary   \n",
       "\n",
       "                                         Movie_Keywords  \\\n",
       "0             hotel new year's eve witch bet hotel room   \n",
       "1           android galaxy hermit death star lightsaber   \n",
       "2     father son relationship harbor underwater fish...   \n",
       "3     vietnam veteran hippie mentally disabled runni...   \n",
       "4     male nudity female nudity adultery midlife cri...   \n",
       "...                                                 ...   \n",
       "4755                                                      \n",
       "4756                                                      \n",
       "4757                     christian film sex trafficking   \n",
       "4758                                                      \n",
       "4759  music actors legendary perfomer classic hollyw...   \n",
       "\n",
       "                                 Movie_Production_House  \\\n",
       "0     [{\"name\": \"Miramax Films\", \"id\": 14}, {\"name\":...   \n",
       "1     [{\"name\": \"Lucasfilm\", \"id\": 1}, {\"name\": \"Twe...   \n",
       "2        [{\"name\": \"Pixar Animation Studios\", \"id\": 3}]   \n",
       "3             [{\"name\": \"Paramount Pictures\", \"id\": 4}]   \n",
       "4     [{\"name\": \"DreamWorks SKG\", \"id\": 27}, {\"name\"...   \n",
       "...                                                 ...   \n",
       "4755                                                 []   \n",
       "4756                                                 []   \n",
       "4757     [{\"name\": \"After Eden Pictures\", \"id\": 85248}]   \n",
       "4758    [{\"name\": \"New Kingdom Pictures\", \"id\": 41671}]   \n",
       "4759   [{\"name\": \"Eyeline Entertainment\", \"id\": 60343}]   \n",
       "\n",
       "                               Movie_Production_Country  \\\n",
       "0     [{\"iso_3166_1\": \"US\", \"name\": \"United States o...   \n",
       "1     [{\"iso_3166_1\": \"US\", \"name\": \"United States o...   \n",
       "2     [{\"iso_3166_1\": \"US\", \"name\": \"United States o...   \n",
       "3     [{\"iso_3166_1\": \"US\", \"name\": \"United States o...   \n",
       "4     [{\"iso_3166_1\": \"US\", \"name\": \"United States o...   \n",
       "...                                                 ...   \n",
       "4755                                                 []   \n",
       "4756                                                 []   \n",
       "4757  [{\"iso_3166_1\": \"US\", \"name\": \"United States o...   \n",
       "4758  [{\"iso_3166_1\": \"US\", \"name\": \"United States o...   \n",
       "4759   [{\"iso_3166_1\": \"GB\", \"name\": \"United Kingdom\"}]   \n",
       "\n",
       "                                          Movie_Tagline  \\\n",
       "0     Twelve outrageous guests. Four scandalous requ...   \n",
       "1          A long time ago in a galaxy far, far away...   \n",
       "2     There are 3.7 trillion fish in the ocean, they...   \n",
       "3     The world will never be the same, once you've ...   \n",
       "4                                          Look closer.   \n",
       "...                                                 ...   \n",
       "4755                The hot spot where Satan's waitin'.   \n",
       "4756           It’s better to stand out than to fit in.   \n",
       "4757           She never knew it could happen to her...   \n",
       "4758                                                      \n",
       "4759                                                      \n",
       "\n",
       "                                             Movie_Cast     Movie_Director  \n",
       "0     Tim Roth Antonio Banderas Jennifer Beals Madon...     Allison Anders  \n",
       "1     Mark Hamill Harrison Ford Carrie Fisher Peter ...       George Lucas  \n",
       "2     Albert Brooks Ellen DeGeneres Alexander Gould ...     Andrew Stanton  \n",
       "3     Tom Hanks Robin Wright Gary Sinise Mykelti Wil...    Robert Zemeckis  \n",
       "4     Kevin Spacey Annette Bening Thora Birch Wes Be...         Sam Mendes  \n",
       "...                                                 ...                ...  \n",
       "4755  Lisa Hart Carroll Michael Des Barres Paul Drak...         Pece Dingo  \n",
       "4756  Roni Akurati Brighton Sharbino Jason Lee Anjul...       Frank Lotito  \n",
       "4757  Nicole Smolen Kim Baldwin Ariana Stephens Brys...       Jaco Booyens  \n",
       "4758                                                                        \n",
       "4759                                    Tony Oppedisano  Simon Napier-Bell  \n",
       "\n",
       "[4760 rows x 7 columns]"
      ]
     },
     "execution_count": 19,
     "metadata": {},
     "output_type": "execute_result"
    }
   ],
   "source": [
    "df_feature"
   ]
  },
  {
   "cell_type": "code",
   "execution_count": 20,
   "id": "15ff889e",
   "metadata": {},
   "outputs": [],
   "source": [
    "x = df['Movie_Genre'] + ' ' + df['Movie_Keywords'] + ' ' + df['Movie_Production_House'] + ' ' + df['Movie_Production_Country'] + ' ' + df['Movie_Tagline'] + ' ' + df['Movie_Cast'] + ' ' + df['Movie_Director'] "
   ]
  },
  {
   "cell_type": "code",
   "execution_count": 21,
   "id": "32c90fcb",
   "metadata": {},
   "outputs": [
    {
     "data": {
      "text/plain": [
       "0       Crime Comedy hotel new year's eve witch bet ho...\n",
       "1       Adventure Action Science Fiction android galax...\n",
       "2       Animation Family father son relationship harbo...\n",
       "3       Comedy Drama Romance vietnam veteran hippie me...\n",
       "4       Drama male nudity female nudity adultery midli...\n",
       "                              ...                        \n",
       "4755                                                  NaN\n",
       "4756                                                  NaN\n",
       "4757    Thriller Drama christian film sex trafficking ...\n",
       "4758                                                  NaN\n",
       "4759                                                  NaN\n",
       "Length: 4760, dtype: object"
      ]
     },
     "execution_count": 21,
     "metadata": {},
     "output_type": "execute_result"
    }
   ],
   "source": [
    "x"
   ]
  },
  {
   "cell_type": "code",
   "execution_count": 29,
   "id": "ba26efd0",
   "metadata": {},
   "outputs": [],
   "source": [
    "x = x.dropna()"
   ]
  },
  {
   "cell_type": "code",
   "execution_count": 30,
   "id": "f77486cd",
   "metadata": {},
   "outputs": [
    {
     "data": {
      "text/plain": [
       "(3736,)"
      ]
     },
     "execution_count": 30,
     "metadata": {},
     "output_type": "execute_result"
    }
   ],
   "source": [
    "x.shape"
   ]
  },
  {
   "cell_type": "code",
   "execution_count": 31,
   "id": "a2f0a7d6",
   "metadata": {},
   "outputs": [],
   "source": [
    "from sklearn.feature_extraction.text import TfidfVectorizer"
   ]
  },
  {
   "cell_type": "code",
   "execution_count": 32,
   "id": "b9e46e3a",
   "metadata": {},
   "outputs": [],
   "source": [
    "tfidf = TfidfVectorizer()"
   ]
  },
  {
   "cell_type": "code",
   "execution_count": 33,
   "id": "df059026",
   "metadata": {},
   "outputs": [],
   "source": [
    "x = tfidf.fit_transform(x)"
   ]
  },
  {
   "cell_type": "code",
   "execution_count": 35,
   "id": "b7f67240",
   "metadata": {},
   "outputs": [
    {
     "data": {
      "text/plain": [
       "(3736, 21569)"
      ]
     },
     "execution_count": 35,
     "metadata": {},
     "output_type": "execute_result"
    }
   ],
   "source": [
    "x.shape"
   ]
  },
  {
   "cell_type": "code",
   "execution_count": 36,
   "id": "0686505f",
   "metadata": {},
   "outputs": [
    {
     "name": "stdout",
     "output_type": "stream",
     "text": [
      "  (0, 4709)\t0.15898397937583378\n",
      "  (0, 4580)\t0.13751468375424794\n",
      "  (0, 19652)\t0.1409439367101891\n",
      "  (0, 13791)\t0.13751468375424794\n",
      "  (0, 13584)\t0.16195453340376104\n",
      "  (0, 5510)\t0.16195453340376104\n",
      "  (0, 12026)\t0.09422575283210287\n",
      "  (0, 5339)\t0.13549091558359305\n",
      "  (0, 4826)\t0.13192391537736678\n",
      "  (0, 17293)\t0.1288506077725576\n",
      "  (0, 19580)\t0.1025749863656543\n",
      "  (0, 13172)\t0.0820593179797027\n",
      "  (0, 21085)\t0.16943973173904206\n",
      "  (0, 9801)\t0.08021140930069842\n",
      "  (0, 21046)\t0.10171095116738392\n",
      "  (0, 12097)\t0.1274597730436742\n",
      "  (0, 19442)\t0.08475099901029882\n",
      "  (0, 15389)\t0.06832181509311383\n",
      "  (0, 8008)\t0.11379251278929865\n",
      "  (0, 9685)\t0.10538876659574933\n",
      "  (0, 11233)\t0.18696333283357314\n",
      "  (0, 11643)\t0.13570888530820305\n",
      "  (0, 5613)\t0.18982363600921529\n",
      "  (0, 13336)\t0.143564151059143\n",
      "  (0, 15392)\t0.07637144726688043\n",
      "  :\t:\n",
      "  (3735, 7605)\t0.17994833623559572\n",
      "  (3735, 10849)\t0.20231581599750087\n",
      "  (3735, 18029)\t0.1483998377827186\n",
      "  (3735, 17925)\t0.13658475869039555\n",
      "  (3735, 4394)\t0.18576080920270685\n",
      "  (3735, 15073)\t0.17506274403448366\n",
      "  (3735, 7037)\t0.15244706496056293\n",
      "  (3735, 12624)\t0.21588648706159674\n",
      "  (3735, 11108)\t0.15332468174345207\n",
      "  (3735, 12538)\t0.16260908689448758\n",
      "  (3735, 19527)\t0.0689265195924821\n",
      "  (3735, 19614)\t0.08549375106314837\n",
      "  (3735, 11864)\t0.0978497467608517\n",
      "  (3735, 15015)\t0.12947399000605872\n",
      "  (3735, 15991)\t0.05207822566872983\n",
      "  (3735, 8605)\t0.05470882169677273\n",
      "  (3735, 9589)\t0.0782512126623599\n",
      "  (3735, 4662)\t0.034618054856324236\n",
      "  (3735, 15309)\t0.03362628984460691\n",
      "  (3735, 18726)\t0.03464606625609849\n",
      "  (3735, 20382)\t0.03302674528840457\n",
      "  (3735, 20443)\t0.03458074601757513\n",
      "  (3735, 11857)\t0.031003519192285535\n",
      "  (3735, 11538)\t0.03140436661374347\n",
      "  (3735, 14875)\t0.06194070037008166\n"
     ]
    }
   ],
   "source": [
    "print(x)"
   ]
  },
  {
   "cell_type": "code",
   "execution_count": 37,
   "id": "149e0b84",
   "metadata": {},
   "outputs": [],
   "source": [
    "from sklearn.metrics.pairwise import cosine_similarity"
   ]
  },
  {
   "cell_type": "code",
   "execution_count": 38,
   "id": "335de15a",
   "metadata": {},
   "outputs": [],
   "source": [
    "similarity_score = cosine_similarity(x)"
   ]
  },
  {
   "cell_type": "code",
   "execution_count": 39,
   "id": "4c91f1ab",
   "metadata": {},
   "outputs": [
    {
     "data": {
      "text/plain": [
       "array([[1.        , 0.02453897, 0.03956815, ..., 0.01325   , 0.08872781,\n",
       "        0.01132457],\n",
       "       [0.02453897, 1.        , 0.01786286, ..., 0.00845444, 0.02974507,\n",
       "        0.01837273],\n",
       "       [0.03956815, 0.01786286, 1.        , ..., 0.02094361, 0.07553827,\n",
       "        0.00999281],\n",
       "       ...,\n",
       "       [0.01325   , 0.00845444, 0.02094361, ..., 1.        , 0.00761701,\n",
       "        0.01104119],\n",
       "       [0.08872781, 0.02974507, 0.07553827, ..., 0.00761701, 1.        ,\n",
       "        0.01178333],\n",
       "       [0.01132457, 0.01837273, 0.00999281, ..., 0.01104119, 0.01178333,\n",
       "        1.        ]])"
      ]
     },
     "execution_count": 39,
     "metadata": {},
     "output_type": "execute_result"
    }
   ],
   "source": [
    "similarity_score"
   ]
  },
  {
   "cell_type": "code",
   "execution_count": 41,
   "id": "3d566eef",
   "metadata": {},
   "outputs": [
    {
     "data": {
      "text/plain": [
       "(3736, 3736)"
      ]
     },
     "execution_count": 41,
     "metadata": {},
     "output_type": "execute_result"
    }
   ],
   "source": [
    "similarity_score.shape"
   ]
  },
  {
   "cell_type": "code",
   "execution_count": 42,
   "id": "cb08590b",
   "metadata": {},
   "outputs": [
    {
     "name": "stdout",
     "output_type": "stream",
     "text": [
      "Enter your favourite movie name:avtaar\n"
     ]
    }
   ],
   "source": [
    "favourite_movie_name = input(\"Enter your favourite movie name:\")"
   ]
  },
  {
   "cell_type": "code",
   "execution_count": 44,
   "id": "e8a1c2d4",
   "metadata": {},
   "outputs": [],
   "source": [
    "all_movie_title_list = df['Movie_Title'].tolist()"
   ]
  },
  {
   "cell_type": "code",
   "execution_count": 45,
   "id": "c91ce257",
   "metadata": {},
   "outputs": [],
   "source": [
    "import difflib"
   ]
  },
  {
   "cell_type": "code",
   "execution_count": 47,
   "id": "9f9f27b4",
   "metadata": {},
   "outputs": [
    {
     "name": "stdout",
     "output_type": "stream",
     "text": [
      "['Avatar', 'Gattaca']\n"
     ]
    }
   ],
   "source": [
    "movie_recommendation = difflib.get_close_matches(favourite_movie_name,all_movie_title_list)\n",
    "print(movie_recommendation)"
   ]
  },
  {
   "cell_type": "code",
   "execution_count": 48,
   "id": "4738a6fb",
   "metadata": {},
   "outputs": [
    {
     "name": "stdout",
     "output_type": "stream",
     "text": [
      "Avatar\n"
     ]
    }
   ],
   "source": [
    "close_match = movie_recommendation[0]\n",
    "print(close_match)"
   ]
  },
  {
   "cell_type": "code",
   "execution_count": 50,
   "id": "afaa1170",
   "metadata": {},
   "outputs": [
    {
     "name": "stdout",
     "output_type": "stream",
     "text": [
      "2692\n"
     ]
    }
   ],
   "source": [
    "index_of_close_match_movie = df[df.Movie_Title == close_match]['Movie_ID'].values[0]\n",
    "print(index_of_close_match_movie)"
   ]
  },
  {
   "cell_type": "code",
   "execution_count": 51,
   "id": "6e1d75f9",
   "metadata": {
    "scrolled": true
   },
   "outputs": [
    {
     "name": "stdout",
     "output_type": "stream",
     "text": [
      "[(0, 0.03371543095783723), (1, 0.013427636132117294), (2, 0.013417537044080248), (3, 0.03672200571440758), (4, 0.01720929540299173), (5, 0.047907771411831786), (6, 0.0197169948525249), (7, 0.016933744113945708), (8, 0.027825451360219737), (9, 0.019325681623712895), (10, 0.032804975780204554), (11, 0.0301348867253983), (12, 0.024873379219291447), (13, 0.04698764966829802), (14, 0.06636738523669591), (15, 0.008643810931648335), (16, 0.029319520846986233), (17, 0.04506312785705567), (18, 0.020094239719034478), (19, 0.024446480367592022), (20, 0.023287922414867334), (21, 0.014595699178141977), (22, 0.0392148964861221), (23, 0.036718305623324815), (24, 0.04212452226813274), (25, 0.022928275135047062), (26, 0.021382113288543877), (27, 0.018389207810476278), (28, 0.04679725810381952), (29, 0.01767987295844039), (30, 0.025206548613693355), (31, 0.010180433078253358), (32, 0.03840854320069706), (33, 0.017615431233427965), (34, 0.04622665872816289), (35, 0.018327903452991505), (36, 0.032856869370450216), (37, 0.03302033798546729), (38, 0.027316766224741888), (39, 0.04264543982144108), (40, 0.025501003746110765), (41, 0.036787855426361274), (42, 0.010318910974814998), (43, 0.03139143062214448), (44, 0.02350273889668438), (45, 0.020167083306480448), (46, 0.03218714386595185), (47, 0.0617640011852272), (48, 0.02451330995711042), (49, 0.031169530902702802), (50, 0.02494814765912856), (51, 0.03684562872597988), (52, 0.02669492275330918), (53, 0.027491153003468077), (54, 0.03232770953315381), (55, 0.02016332005621677), (56, 0.013037671662646275), (57, 0.033416048692365405), (58, 0.029706322495695995), (59, 0.030386943873327778), (60, 0.04001594818948817), (61, 0.04879797802949048), (62, 0.023702111567907046), (63, 0.026364016229318298), (64, 0.023923805766836014), (65, 0.027646882551398345), (66, 0.044548168168592084), (67, 0.024569736659127588), (68, 0.02210566616341692), (69, 0.030550132463110884), (70, 0.042772750903853386), (71, 0.03141375420735962), (72, 0.0306137017031363), (73, 0.023244246508514997), (74, 0.006926525167301192), (75, 0.017737488950134425), (76, 0.03530357075414603), (77, 0.017177895528819757), (78, 0.019637942452748535), (79, 0.06384282005359809), (80, 0.03338314826114028), (81, 0.02812132233686467), (82, 0.031382141937703806), (83, 0.05838204506361647), (84, 0.047007489317544414), (85, 0.01693026045268625), (86, 0.028548046511518033), (87, 0.015018091486749282), (88, 0.02352800340667167), (89, 0.01956674951376204), (90, 0.02292921607578893), (91, 0.01722147195280851), (92, 0.01579605872740027), (93, 0.029321374339500057), (94, 0.033579159002275934), (95, 0.01875442036775608), (96, 0.016417882244759374), (97, 0.022355625726536682), (98, 0.027069322144210442), (99, 0.033335752453493725), (100, 0.015404676784644477), (101, 0.022631409826509095), (102, 0.08593571843252205), (103, 0.02516246558725627), (104, 0.030599918597578477), (105, 0.052795502129262845), (106, 0.035867860211619744), (107, 0.029762182232907566), (108, 0.02741079308783834), (109, 0.022701683872020248), (110, 0.03178223606751551), (111, 0.03212220918355326), (112, 0.03239304241649687), (113, 0.023939550127251002), (114, 0.01673230468648871), (115, 0.04493068974657821), (116, 0.03532268221916746), (117, 0.03381125323946591), (118, 0.04500834093433462), (119, 0.046972691780402046), (120, 0.03163962293928697), (121, 0.025258184329314246), (122, 0.014453520115943651), (123, 0.02261235710442806), (124, 0.024885918622762484), (125, 0.08167817070475686), (126, 0.02967531442093161), (127, 0.059428064073090585), (128, 0.019655420934523916), (129, 0.03271777933260343), (130, 0.018516586020492533), (131, 0.03226334679393414), (132, 0.023897869294906827), (133, 0.023976688777700157), (134, 0.022373026790593768), (135, 0.05085495484575566), (136, 0.04698049097736023), (137, 0.015955231649501984), (138, 0.016418818668585255), (139, 0.02292130078778061), (140, 0.014354345947781542), (141, 0.020358489417450207), (142, 0.0345540356976208), (143, 0.032820099387777406), (144, 0.01747055796070903), (145, 0.030254896787186132), (146, 0.020258722066154665), (147, 0.033332095586690244), (148, 0.02270793867611935), (149, 0.019794556632753167), (150, 0.027919736808123416), (151, 0.04354025623744492), (152, 0.039173829491888995), (153, 0.029844860212006094), (154, 0.013958729688640618), (155, 0.019127709612692095), (156, 0.017882672766511613), (157, 0.021834346754534613), (158, 0.030880584037473537), (159, 0.03665712131069817), (160, 0.039996643560507264), (161, 0.06196315322655698), (162, 0.03450747823774246), (163, 0.04142203176734968), (164, 0.018342793620652383), (165, 0.03675477962447336), (166, 0.018132117622240734), (167, 0.0481831495279348), (168, 0.020240993417327983), (169, 0.018977559684844707), (170, 0.03932976408881346), (171, 0.03441949158354534), (172, 0.02896850522838229), (173, 0.02109635533088016), (174, 0.019784693163592475), (175, 0.021546129394221264), (176, 0.014121529550502582), (177, 0.015708723262948192), (178, 0.020803616550212088), (179, 0.03479303385202122), (180, 0.043098607375767484), (181, 0.04680733446023353), (182, 0.034332036411512855), (183, 0.04652968191661259), (184, 0.03796340828793166), (185, 0.0221539845664369), (186, 0.024818193691390985), (187, 0.021531486622613533), (188, 0.023952907102896014), (189, 0.03678723554864742), (190, 0.01923334412074606), (191, 0.0735131441184695), (192, 0.02503085339248019), (193, 0.020010644270730966), (194, 0.015565669441152525), (195, 0.036968082417142584), (196, 0.02178336693857626), (197, 0.05671804882747949), (198, 0.04080123314800838), (199, 0.019497911223637164), (200, 0.0340545486081887), (201, 0.03226337596647225), (202, 0.025788787341465738), (203, 0.03781812997678624), (204, 0.035265855753384576), (205, 0.05229748955464208), (206, 0.03624683614558825), (207, 0.030287108720514707), (208, 0.03410206999387969), (209, 0.02588167831189285), (210, 0.01592644955631383), (211, 0.07308905175648031), (212, 0.02767763739521329), (213, 0.024829310446583132), (214, 0.042487293499200954), (215, 0.01918497864938396), (216, 0.04621892685130033), (217, 0.047404007702650644), (218, 0.01896819645793081), (219, 0.0635077630152648), (220, 0.022708599725549807), (221, 0.011656791680037385), (222, 0.03399666321978938), (223, 0.025939862849502577), (224, 0.03580893488134406), (225, 0.023988200108063518), (226, 0.015227734644172836), (227, 0.03153351730751887), (228, 0.020656902425129055), (229, 0.019704317322218223), (230, 0.02984873762453728), (231, 0.024110339200419537), (232, 0.09615281947952904), (233, 0.06686760544568045), (234, 0.031480701047193936), (235, 0.035960592542760975), (236, 0.0313099375653209), (237, 0.028959460367938145), (238, 0.0161417545243348), (239, 0.05296603948615685), (240, 0.01446752012405363), (241, 0.036126623924493), (242, 0.027912233842253584), (243, 0.02799882095286163), (244, 0.07115081599346221), (245, 0.06739485450725821), (246, 0.048757808436512305), (247, 0.013936622957192404), (248, 0.05032415235858714), (249, 0.017615343624008302), (250, 0.015465669532672381), (251, 0.03932861706255125), (252, 0.0279920693343585), (253, 0.023899610103236116), (254, 0.0319224634573266), (255, 0.023216183664756012), (256, 0.017758506117842326), (257, 0.04242787528139884), (258, 0.015454287727647776), (259, 0.04325538586634411), (260, 0.03578196616609801), (261, 0.028161649461714892), (262, 0.0379192245711572), (263, 0.025635712962220794), (264, 0.040083986533112445), (265, 0.014650509595406825), (266, 0.01655137783381791), (267, 0.02661691012698244), (268, 0.032061256253488615), (269, 0.023615422229467067), (270, 0.04830061508255142), (271, 0.018518950993834115), (272, 0.024825954407520414), (273, 0.02822385417212358), (274, 0.011312090579196903), (275, 0.019919929578829227), (276, 0.04146308285345594), (277, 0.01102840668342904), (278, 0.04385657734473922), (279, 0.0490286451289306), (280, 0.025362653515547465), (281, 0.020207618382546696), (282, 0.024547356500008548), (283, 0.03416247844115895), (284, 0.020129785238222432), (285, 0.015291216723031563), (286, 0.06919067333022909), (287, 0.038022428910846374), (288, 0.019080460383165652), (289, 0.03400081700247163), (290, 0.038770025401013986), (291, 0.01457277764521717), (292, 0.03238818170140065), (293, 0.022052071671688427), (294, 0.036022597358813455), (295, 0.02592351492156627), (296, 0.014768475971619496), (297, 0.04104027688345476), (298, 0.03587191227009697), (299, 0.027011963440663957), (300, 0.028302430786803744), (301, 0.027104776207505343), (302, 0.05389932858391814), (303, 0.03724351276476782), (304, 0.028932482095491503), (305, 0.02742226125693822), (306, 0.04013394251503011), (307, 0.032901226682385924), (308, 0.03531909132089401), (309, 0.03543002369844053), (310, 0.034751709478607055), (311, 0.027293217849058055), (312, 0.027547863378295158), (313, 0.05187690069515141), (314, 0.01726497951388789), (315, 0.03624418689917733), (316, 0.029415271562798127), (317, 0.027772231059691076), (318, 0.037304328247800715), (319, 0.021503163224134036), (320, 0.019852212512529954), (321, 0.02209909024341905), (322, 0.03896461347646166), (323, 0.025339131588241796), (324, 0.020555899017141763), (325, 0.02854383554780822), (326, 0.03484756802531766), (327, 0.03497594888008244), (328, 0.023822108929586222), (329, 0.053130741890045255), (330, 0.01617544550435788), (331, 0.01901434295371158), (332, 0.035379634127780425), (333, 0.04073719310139363), (334, 0.027879580990250348), (335, 0.03774524387775637), (336, 0.053404503351261234), (337, 0.0319074657911152), (338, 0.018474398264975295), (339, 0.023054726276236375), (340, 0.022295552050537088), (341, 0.019700630994356073), (342, 0.04055352619619234), (343, 0.016343187467571678), (344, 0.020875488682976822), (345, 0.021718750833240878), (346, 0.021038327782048716), (347, 0.024452610811364846), (348, 0.022456323060113192), (349, 0.02142027744967126), (350, 0.03756410501048506), (351, 0.037831482286050405), (352, 0.036989118340736586), (353, 0.029824052163239086), (354, 0.014291111509760528), (355, 0.01223347786259995), (356, 0.04352434832760189), (357, 0.03238356158565536), (358, 0.011130596443949817), (359, 0.0212045066418876), (360, 0.030896210299340865), (361, 0.021833029330484442), (362, 0.017861689103646713), (363, 0.036890556968123094), (364, 0.0772844010342507), (365, 0.021901320881775516), (366, 0.03322356507898648), (367, 0.029315578278397463), (368, 0.02948609840102523), (369, 0.06165205034193201), (370, 0.04306153656397987), (371, 0.01412909960535013), (372, 0.03275078801689607), (373, 0.02156765191890772), (374, 0.014087267755539833), (375, 0.01707375144054474), (376, 0.022337781992614464), (377, 0.021864380855738774), (378, 0.01401128069169984), (379, 0.06887953551058269), (380, 0.028685888811727962), (381, 0.021324498246552002), (382, 0.12145468496042415), (383, 0.042685080821624026), (384, 0.04135649877655206), (385, 0.022326846716539672), (386, 0.04247047084535588), (387, 0.019726002593113016), (388, 0.03478672194252613), (389, 0.054723488726730746), (390, 0.015993896917616948), (391, 0.019357867777613946), (392, 0.031200267488071243), (393, 0.043387388833466475), (394, 0.0383716919125412), (395, 0.01985143863229781), (396, 0.02210658800499159), (397, 0.03352621643127639), (398, 0.015294200116128661), (399, 0.022159698600444172), (400, 0.05739452354089486), (401, 0.041569006500167566), (402, 0.019696485820503616), (403, 0.06587815136949701), (404, 0.018069599078939107), (405, 0.016566045760244612), (406, 0.01410606211044814), (407, 0.045114773416859495), (408, 0.028162468514982504), (409, 0.01330529772910723), (410, 0.02688539154322938), (411, 0.014409591670718695), (412, 0.046938104821050375), (413, 0.032311591226750105), (414, 0.03559097639624384), (415, 0.026557064000114285), (416, 0.024828901869125806), (417, 0.02401060357918689), (418, 0.029631774057008006), (419, 0.032146259857243974), (420, 0.03058126164700388), (421, 0.03431424883228566), (422, 0.023143940273191436), (423, 0.02401697847238819), (424, 0.03794991082624273), (425, 0.029455623193557302), (426, 0.012739356373933747), (427, 0.022271424132503007), (428, 0.044568175447609396), (429, 0.03933708523317578), (430, 0.016754193144342115), (431, 0.024660244000695337), (432, 0.016221073067012582), (433, 0.02627455279720477), (434, 0.033383571346369934), (435, 0.036022393916982365), (436, 0.025132782133620073), (437, 0.023129277431103677), (438, 0.02893784784311939), (439, 0.0782029188358282), (440, 0.08023598712460209), (441, 0.028929018033706958), (442, 0.026029637529426043), (443, 0.04910671438237565), (444, 0.028503228743003737), (445, 0.026762029360325505), (446, 0.03375736615279605), (447, 0.020273851100059366), (448, 0.018914483545772624), (449, 0.02395944993158016), (450, 0.0335762164605235), (451, 0.027244341335227996), (452, 0.02658981345371579), (453, 0.024731160028546202), (454, 0.021208796994683643), (455, 0.040505152489723105), (456, 0.03471124492820702), (457, 0.05302342182766643), (458, 0.011419571892799494), (459, 0.05346469592694357), (460, 0.020760235722990093), (461, 0.023932596317761436), (462, 0.03154903984493993), (463, 0.02912516093919786), (464, 0.02043835480084448), (465, 0.02377789905439414), (466, 0.01700094185110359), (467, 0.03631167541754647), (468, 0.019135201935123976), (469, 0.031132900284943605), (470, 0.025394830242839762), (471, 0.01996939751530124), (472, 0.038160731542620126), (473, 0.02657748632478315), (474, 0.035046451533836495), (475, 0.018043022030095605), (476, 0.02016663156786853), (477, 0.031997064149275556), (478, 0.02743177946110466), (479, 0.057760614825605), (480, 0.02077950222463091), (481, 0.06151441057034374), (482, 0.041089890036092355), (483, 0.01873782393190369), (484, 0.04582653779759504), (485, 0.02927578250869598), (486, 0.045079856137141376), (487, 0.01458553065372358), (488, 0.03255153537582399), (489, 0.03205389082349277), (490, 0.03323228957334492), (491, 0.036466886390994616), (492, 0.02310292947307125), (493, 0.04169941400902216), (494, 0.04477677299282178), (495, 0.022231819404311064), (496, 0.020549307061459916), (497, 0.08136735854516704), (498, 0.01203798221446141), (499, 0.01897810150696723), (500, 0.036140131452876076), (501, 0.051736952758778786), (502, 0.018313389488126868), (503, 0.04553983524438439), (504, 0.049029941571092056), (505, 0.01968366325384066), (506, 0.01930787342764387), (507, 0.02790503148012393), (508, 0.0155929788698559), (509, 0.01905306860467601), (510, 0.042364320724513765), (511, 0.0216876526537797), (512, 0.03271711659772487), (513, 0.031213370165507598), (514, 0.02656281095145841), (515, 0.025153021107581747), (516, 0.028784525952967988), (517, 0.019861268935728895), (518, 0.004638577843744997), (519, 0.025681807310638786), (520, 0.030026433138799553), (521, 0.03836333476228096), (522, 0.0359031592954755), (523, 0.020888353974912368), (524, 0.04580736204391699), (525, 0.011622010285481252), (526, 0.030575416146986185), (527, 0.1067170690493703), (528, 0.013095223093427035), (529, 0.012135057797686335), (530, 0.012742641973432622), (531, 0.016362685735360403), (532, 0.031827889295991306), (533, 0.025906761444706074), (534, 0.02715773442937546), (535, 0.02753822394876296), (536, 0.016319980756541064), (537, 0.031062107161725146), (538, 0.06262161355186098), (539, 0.02817165172228414), (540, 0.055365901476418795), (541, 0.01781077997085349), (542, 0.032982426711477324), (543, 0.03761119080564171), (544, 0.039881165953900906), (545, 0.024019513100019124), (546, 0.029673923628778368), (547, 0.018684448863220453), (548, 0.046810183624420666), (549, 0.029505284611365017), (550, 0.024390045791021726), (551, 0.018824540566022688), (552, 0.03606953832017328), (553, 0.010831284659917506), (554, 0.010370782011222877), (555, 0.025116680142701485), (556, 0.022984113620788782), (557, 0.06445596667607559), (558, 0.02747815000568243), (559, 0.035095885112818866), (560, 0.02269254102772275), (561, 0.08645696390481837), (562, 0.018246142343347226), (563, 0.022023356759861203), (564, 0.031576239406684706), (565, 0.03487715869506963), (566, 0.030843168904655247), (567, 0.0378570095890549), (568, 0.014438656650037499), (569, 0.026061108852937564), (570, 0.03694639356149188), (571, 0.02350359023644423), (572, 0.0297043105802937), (573, 0.02109612662843221), (574, 0.04080433795433304), (575, 0.0319937452684771), (576, 0.03464319270574147), (577, 0.020160173099706892), (578, 0.015957148856968494), (579, 0.015009543960844229), (580, 0.01794454216761663), (581, 0.017691697473609727), (582, 0.03427507312646946), (583, 0.02535691334958552), (584, 0.025967885100915973), (585, 0.02082788451270944), (586, 0.04735861380258708), (587, 0.03181282484159857), (588, 0.031754329472620954), (589, 0.028514198864350054), (590, 0.023631645950084625), (591, 0.037123874444319235), (592, 0.028499534607464662), (593, 0.020405602697984575), (594, 0.026431120560039302), (595, 0.018703843146193493), (596, 0.02458364833180361), (597, 0.02225887269591107), (598, 0.03328916202920915), (599, 0.03323795085550768), (600, 0.01940033572428324), (601, 0.025337743302655077), (602, 0.025319864615783165), (603, 0.0525564767080494), (604, 0.04892360554455795), (605, 0.033679088276314294), (606, 0.027384144092795777), (607, 0.0427676344146996), (608, 0.035046712632050295), (609, 0.06068653936045433), (610, 0.06223033152688003), (611, 0.02192459693512842), (612, 0.026548027685523983), (613, 0.024926292131862794), (614, 0.028407810221782667), (615, 0.033543846231987036), (616, 0.02688677805862198), (617, 0.016798366766738144), (618, 0.051661411913968495), (619, 0.018428646591124434), (620, 0.03189458392707134), (621, 0.03321953745878965), (622, 0.021593570796605385), (623, 0.02070947429247793), (624, 0.06243522573683687), (625, 0.03882668249311913), (626, 0.02157013518705301), (627, 0.027658167107247066), (628, 0.0633036397578601), (629, 0.029763594326329267), (630, 0.02039437315916337), (631, 0.023493942901808007), (632, 0.0340899087710151), (633, 0.03915724191647376), (634, 0.13520044024672911), (635, 0.020651738003609844), (636, 0.029819472581329148), (637, 0.03534939177225456), (638, 0.02758610614792709), (639, 0.04544726504469981), (640, 0.03791829156763085), (641, 0.034735812301883814), (642, 0.027737029938975602), (643, 0.0286486726538871), (644, 0.046901933577827494), (645, 0.0165093421090902), (646, 0.026489648318523913), (647, 0.04420810433223378), (648, 0.027217284634410074), (649, 0.03629620633328298), (650, 0.025756507597219907), (651, 0.0244532787173773), (652, 0.05322406054694356), (653, 0.02501636858272957), (654, 0.018035584219206997), (655, 0.03474998186310867), (656, 0.03328279200069039), (657, 0.023248172355175983), (658, 0.02403717021032569), (659, 0.0976951620206031), (660, 0.020313773215307085), (661, 0.025530804740411632), (662, 0.02119030576690712), (663, 0.02724263148095274), (664, 0.015355207204061826), (665, 0.030749564357645035), (666, 0.020067437026502814), (667, 0.04281341570986934), (668, 0.02469499108121334), (669, 0.027786100119247627), (670, 0.03744844965326828), (671, 0.051547104039969927), (672, 0.02867346268345775), (673, 0.028525781023848035), (674, 0.020830679040732873), (675, 0.029958340652663187), (676, 0.051156666466003226), (677, 0.03274644008747393), (678, 0.03402640332575938), (679, 0.02896632453477933), (680, 0.05725514956236245), (681, 0.030683714628761197), (682, 0.03356063936484527), (683, 0.04236488082612171), (684, 0.036396607615090726), (685, 0.03751773721114024), (686, 0.02174635997837073), (687, 0.044839474097478606), (688, 0.01859514854238972), (689, 0.01656194560806485), (690, 0.03487051578407564), (691, 0.04158178197103708), (692, 0.05500874982171645), (693, 0.028214455174752025), (694, 0.027808707180044842), (695, 0.036361519622536725), (696, 0.03605176219088411), (697, 0.019905423330656244), (698, 0.017329174737860813), (699, 0.05383779355463386), (700, 0.030099481203510654), (701, 0.022468908922855843), (702, 0.028990364343816466), (703, 0.02035084887310534), (704, 0.023720600499288057), (705, 0.023608696265869537), (706, 0.021497385189723973), (707, 0.023377090904456548), (708, 0.10427860291671201), (709, 0.02006856451664931), (710, 0.030673345434171672), (711, 0.017028178188656158), (712, 0.029453825623992846), (713, 0.0313374526760599), (714, 0.035910282039859555), (715, 0.0182434878666849), (716, 0.019409633074057568), (717, 0.02793249986002556), (718, 0.019580143255953694), (719, 0.03823016054373445), (720, 0.050093712589311716), (721, 0.020187203158133507), (722, 0.03948698768876608), (723, 0.027190516377723326), (724, 0.02293032472119842), (725, 0.03852503583663356), (726, 0.048134517710182186), (727, 0.025728737326698652), (728, 0.02656376487434527), (729, 0.04930378240966855), (730, 0.023182246839014875), (731, 0.03687458343216905), (732, 0.03755588581407644), (733, 0.024575560165954042), (734, 0.04772039424833808), (735, 0.03652287451661698), (736, 0.01504236944155717), (737, 0.04330936061144902), (738, 0.06700803503503076), (739, 0.06797971984964712), (740, 0.050526062320398926), (741, 0.0375254036728449), (742, 0.0314258666923289), (743, 0.026702578400265426), (744, 0.027039281912249753), (745, 0.02306535631560345), (746, 0.05848575348534226), (747, 0.04897091407215681), (748, 0.0257558197232306), (749, 0.016365357789374653), (750, 0.027148996212047527), (751, 0.039239887413987075), (752, 0.047993833767245336), (753, 0.016315380776666784), (754, 0.02410508128734378), (755, 0.033234974469872065), (756, 0.022380484151073375), (757, 0.04074490819461251), (758, 0.02677058918294468), (759, 0.027831716179186793), (760, 0.05142311276843468), (761, 0.017502106404752315), (762, 0.02532738972069652), (763, 0.028485566359750615), (764, 0.02977613028943118), (765, 0.034403830899840476), (766, 0.012839797872319942), (767, 0.020611026372222018), (768, 0.01581282212709886), (769, 0.02227352341680034), (770, 0.01891921186482982), (771, 0.016686040962900505), (772, 0.01965401552371887), (773, 0.01431164789374868), (774, 0.02213997461345488), (775, 0.02557100734014487), (776, 0.025723089953145577), (777, 0.023209212306941285), (778, 0.0316844354389583), (779, 0.04742296845080013), (780, 0.04730683252125053), (781, 0.0819129054642654), (782, 0.05177578524710727), (783, 0.03227207568096983), (784, 0.03215090805596148), (785, 0.03808563979246276), (786, 0.02325992674626681), (787, 0.09292012043516104), (788, 0.06167120249560048), (789, 0.035944330212762346), (790, 0.026010587236345663), (791, 0.021109451363262033), (792, 0.025294866871929465), (793, 0.023090397197056457), (794, 0.039011585124760224), (795, 0.013892390095145223), (796, 0.05377877385544478), (797, 0.019726065499730248), (798, 0.023419942386936368), (799, 0.06306068074237592), (800, 0.035881805880743384), (801, 0.037253903923619186), (802, 0.027842328454760357), (803, 0.020383628216422485), (804, 0.023204356429214843), (805, 0.031016542461264), (806, 0.04143453981955933), (807, 0.048324221200468656), (808, 0.027598458001734553), (809, 0.06274635830996245), (810, 0.02164818502649276), (811, 0.05779872142084498), (812, 0.028518712922606507), (813, 0.031001605209973616), (814, 0.021516867633312165), (815, 0.014243060868923817), (816, 0.06034484723171355), (817, 0.037053911802389365), (818, 0.03058568096325576), (819, 0.025639492095749453), (820, 0.024950366597064434), (821, 0.03296812214060204), (822, 0.033809466305180766), (823, 0.051692218914009665), (824, 0.02493363950339248), (825, 0.024321043190235574), (826, 0.03650620706497208), (827, 0.07664092560650652), (828, 0.02591868808707443), (829, 0.03687182258233973), (830, 0.03655697107005504), (831, 0.024321778594690535), (832, 0.018744317001277072), (833, 0.0292926428007663), (834, 0.03943461957170645), (835, 0.031183905942113826), (836, 0.018229620890840636), (837, 0.021983965091443652), (838, 0.05359109751707407), (839, 0.031575788852711464), (840, 0.01598877935883455), (841, 0.01977601019599568), (842, 0.04665565068761753), (843, 0.026268144627419766), (844, 0.025114047381725006), (845, 0.015350148116546983), (846, 0.02791092565363293), (847, 0.02576247263707298), (848, 0.025451890096776807), (849, 0.0231165475765621), (850, 0.06023051815897915), (851, 0.025605613010196808), (852, 0.020626291682217947), (853, 0.033637690697252365), (854, 0.015216475788176202), (855, 0.030151803864194315), (856, 0.025696757222745753), (857, 0.03683845043677774), (858, 0.04548478810324867), (859, 0.03640188189839992), (860, 0.04350116187930603), (861, 0.02806281927429379), (862, 0.03423292241155253), (863, 0.04051496490158319), (864, 0.027859492818474867), (865, 0.0222388437291373), (866, 0.01996117666190387), (867, 0.03410151404948569), (868, 0.02681594698757852), (869, 0.05931900153739978), (870, 0.033673582553507886), (871, 0.04006009216675876), (872, 0.04201470386419992), (873, 0.013626334477174196), (874, 0.05662217761236406), (875, 0.038922651232459596), (876, 0.02688265516323958), (877, 0.023416046501111967), (878, 0.031718602845302736), (879, 0.055567299074891004), (880, 0.03858441562087189), (881, 0.021460322400468735), (882, 0.04503055109012572), (883, 0.04944285688719536), (884, 0.028330725337343116), (885, 0.04015630791629756), (886, 0.04049227038702557), (887, 0.025834942072510275), (888, 0.042139731431447704), (889, 0.026589456916728448), (890, 0.02694289106010575), (891, 0.039015171489274546), (892, 0.03465914047219673), (893, 0.03869197313679728), (894, 0.016377333687873863), (895, 0.03290573589509065), (896, 0.04790192630845748), (897, 0.05048594162227764), (898, 0.022844370621863612), (899, 0.030516690358921454), (900, 0.03797084375342252), (901, 0.024507657416490407), (902, 0.03149046072840876), (903, 0.034792277080696196), (904, 0.035532457523269084), (905, 0.023806250994267752), (906, 0.035856239835041846), (907, 0.03477876295174577), (908, 0.032653773020693305), (909, 0.031279264107039684), (910, 0.023087314138012356), (911, 0.02179298812900804), (912, 0.022531302931625388), (913, 0.019550162494617135), (914, 0.02652857979757981), (915, 0.05590979385455504), (916, 0.029319451618331018), (917, 0.019355735904070432), (918, 0.021933123224367565), (919, 0.07413269002664238), (920, 0.04001915683446678), (921, 0.015542859766381163), (922, 0.017310951345282877), (923, 0.021193537747539633), (924, 0.024635913145932515), (925, 0.037034473230327686), (926, 0.03490392832368414), (927, 0.02918972887824016), (928, 0.02641481551911453), (929, 0.020252919566400532), (930, 0.021654614237543376), (931, 0.026199675181329794), (932, 0.03354273158705684), (933, 0.028925746814340455), (934, 0.013279833245902598), (935, 0.03137452451469364), (936, 0.015415616735390448), (937, 0.07292003018448143), (938, 0.030041747641243847), (939, 0.030029700001332607), (940, 0.031669345097101745), (941, 0.018069643269317114), (942, 0.02981215883951536), (943, 0.018575522284194672), (944, 0.06065672828080447), (945, 0.022461885644074666), (946, 0.015225144162328421), (947, 0.03808753952936267), (948, 0.023031506895452143), (949, 0.0341375114963153), (950, 0.027447754137530752), (951, 0.028103354292032035), (952, 0.020706149597627267), (953, 0.013650741566119664), (954, 0.033878109412354245), (955, 0.02072861081684153), (956, 0.040175384745619956), (957, 0.03396906100436526), (958, 0.043150973403486115), (959, 0.03092487252101274), (960, 0.016846836248264618), (961, 0.01877890934460224), (962, 0.02932215989601393), (963, 0.024036633940080713), (964, 0.02790803488285361), (965, 0.02862430335388334), (966, 0.019126229072540597), (967, 0.03947792016803012), (968, 0.02991165372938395), (969, 0.01515004394014223), (970, 0.04891259770571825), (971, 0.021334882536884113), (972, 0.04516102851032129), (973, 0.05265768691955768), (974, 0.03641635809298486), (975, 0.020242250198854714), (976, 0.03056994173637346), (977, 0.02655505016196582), (978, 0.02093983827451989), (979, 0.0325545930700102), (980, 0.04091628761753705), (981, 0.02737478232466881), (982, 0.039109080975208405), (983, 0.03612982934360599), (984, 0.05666796896262739), (985, 0.04566695179793623), (986, 0.038592683356001994), (987, 0.042069164631122646), (988, 0.005005328369649079), (989, 0.035411061824263), (990, 0.045706166092656535), (991, 0.01744133195920381), (992, 0.022345381324083122), (993, 0.0292928524796496), (994, 0.058320332288461736), (995, 0.022928769562124945), (996, 0.031359230681856025), (997, 0.03372825223880748), (998, 0.017687532040267386), (999, 0.022752414456741185), (1000, 0.03692416254831727), (1001, 0.023293026069898477), (1002, 0.022312236415673127), (1003, 0.037025130812071254), (1004, 0.017803050672327035), (1005, 0.02198417155793216), (1006, 0.04944907824919639), (1007, 0.03487880705738263), (1008, 0.020335658714475274), (1009, 0.02249296645293382), (1010, 0.032343774939123465), (1011, 0.033870133419916265), (1012, 0.03191404125703428), (1013, 0.017304328680385145), (1014, 0.01910665085231363), (1015, 0.04288452506246131), (1016, 0.017896881476534388), (1017, 0.0409162317708586), (1018, 0.04055986390070986), (1019, 0.028008644603710754), (1020, 0.031176668966342393), (1021, 0.015250896970798917), (1022, 0.02252324261402657), (1023, 0.01655092246115794), (1024, 0.03742156076012896), (1025, 0.0528676687780146), (1026, 0.027471701163851926), (1027, 0.03475021989377945), (1028, 0.03407472247041836), (1029, 0.029293716528332653), (1030, 0.04457123053705422), (1031, 0.026968125403370458), (1032, 0.029771144321360864), (1033, 0.026023780822379054), (1034, 0.0319999810900151), (1035, 0.02609637710451129), (1036, 0.02494349108362682), (1037, 0.01881287415405901), (1038, 0.017588787830270902), (1039, 0.011626236978777203), (1040, 0.027148750219765136), (1041, 0.028950079811227866), (1042, 0.035166950749476816), (1043, 0.031179058156711657), (1044, 0.04130815966135969), (1045, 0.030997077129244537), (1046, 0.023958084425615436), (1047, 0.02601598737057314), (1048, 0.01804685611371028), (1049, 0.012151914219931732), (1050, 0.023672136427268856), (1051, 0.10987444384122791), (1052, 0.02016236221716519), (1053, 0.027668687202003647), (1054, 0.0169092046753179), (1055, 0.021100757407536478), (1056, 0.04820183225658963), (1057, 0.02791371152442583), (1058, 0.01586866081602929), (1059, 0.0838906662042122), (1060, 0.03424147471606086), (1061, 0.031480500887296356), (1062, 0.02601936057320512), (1063, 0.03789145620880964), (1064, 0.01889625387723088), (1065, 0.019330755959008832), (1066, 0.021132431801394444), (1067, 0.03122918496706372), (1068, 0.02460437215120923), (1069, 0.04772731184635243), (1070, 0.011436076652023456), (1071, 0.02777281335281104), (1072, 0.022987118475389767), (1073, 0.019418649183961408), (1074, 0.030152178547605324), (1075, 0.021750752169532258), (1076, 0.03469575729491411), (1077, 0.020828614469610884), (1078, 0.02777080638865922), (1079, 0.037297971163920175), (1080, 0.022488890990074215), (1081, 0.015731826320981003), (1082, 0.03757409129868397), (1083, 0.0586294097378546), (1084, 0.0362395317057882), (1085, 0.024609554380538055), (1086, 0.014721205942277733), (1087, 0.023860456543950404), (1088, 0.03395632058367488), (1089, 0.030362673716332025), (1090, 0.023806377911472262), (1091, 0.022701091813522718), (1092, 0.021917730269820353), (1093, 0.021602721160050624), (1094, 0.03127488955523018), (1095, 0.01748685405807651), (1096, 0.06898594707219366), (1097, 0.03043316912607165), (1098, 0.05970212886507421), (1099, 0.014509595705682013), (1100, 0.0389556110591132), (1101, 0.021846685380326393), (1102, 0.022782349250748218), (1103, 0.042164835779405344), (1104, 0.025085717861462742), (1105, 0.03869848258008389), (1106, 0.018701452117683412), (1107, 0.029956440732606726), (1108, 0.05058324259241173), (1109, 0.013503066043084226), (1110, 0.014614719502384613), (1111, 0.03885407416179572), (1112, 0.037547905965415726), (1113, 0.037331306284244525), (1114, 0.029733643992358557), (1115, 0.023051655067178507), (1116, 0.035562193647362184), (1117, 0.08538873516296874), (1118, 0.03096933377284234), (1119, 0.017978860869301276), (1120, 0.02929828359811179), (1121, 0.04052442383541021), (1122, 0.025615431233575348), (1123, 0.025766429287585463), (1124, 0.023709276396827142), (1125, 0.050115992544537316), (1126, 0.027132854373397648), (1127, 0.014984294349976779), (1128, 0.017310153291141633), (1129, 0.0283377206983414), (1130, 0.02137204757574892), (1131, 0.031593178313278784), (1132, 0.020030431080925615), (1133, 0.041729082682523504), (1134, 0.0228903976703867), (1135, 0.025678479390943355), (1136, 0.032994465087608435), (1137, 0.03720417068940994), (1138, 0.019399745590603423), (1139, 0.032029930824321), (1140, 0.0992958535284642), (1141, 0.0238483525206454), (1142, 0.040576031073350664), (1143, 0.035193239246499204), (1144, 0.02186427872336153), (1145, 0.03312183277721027), (1146, 0.01832961882954861), (1147, 0.022908047329498707), (1148, 0.02927619894771777), (1149, 0.014104510484373506), (1150, 0.031147983831046076), (1151, 0.028096848980935046), (1152, 0.03996857379922782), (1153, 0.03717381869081839), (1154, 0.02575287408570437), (1155, 0.03483101805337775), (1156, 0.023372187103080568), (1157, 0.03217168401710181), (1158, 0.06476186719302811), (1159, 0.021228145661872113), (1160, 0.07057074076315631), (1161, 0.02622394559591577), (1162, 0.018499799276655404), (1163, 0.005331628294760816), (1164, 0.028593280175711475), (1165, 0.022230826002038885), (1166, 0.023050933028322392), (1167, 0.02417833142320703), (1168, 0.0188403354463912), (1169, 0.09214851698286565), (1170, 0.015595806254393722), (1171, 0.018513369686382206), (1172, 0.027524835307015275), (1173, 0.03021147434781663), (1174, 0.019338518136009557), (1175, 0.017498859482272033), (1176, 0.04482283325524065), (1177, 0.015099835342485103), (1178, 0.03608320054106403), (1179, 0.03037742264793822), (1180, 0.07548044367545345), (1181, 0.01039641914590007), (1182, 0.029535762674810475), (1183, 0.027541499950618033), (1184, 0.013772257186152086), (1185, 0.02772515369983142), (1186, 0.033559100088921955), (1187, 0.019865633441394675), (1188, 0.02496943871170752), (1189, 0.022012375177481468), (1190, 0.023040072571491856), (1191, 0.020066903001898347), (1192, 0.021568225871565528), (1193, 0.02161377173492788), (1194, 0.02888958394516524), (1195, 0.02264425790596385), (1196, 0.03200331183737171), (1197, 0.016784951130312947), (1198, 0.04513021336386844), (1199, 0.030269529978638878), (1200, 0.06725510134133908), (1201, 0.052647020824387165), (1202, 0.02179328695769285), (1203, 0.06978954207811319), (1204, 0.023380452862914656), (1205, 0.02390313170998056), (1206, 0.03322428266853232), (1207, 0.025440199516462165), (1208, 0.017059102517908677), (1209, 0.022281380699778478), (1210, 0.014027457205880113), (1211, 0.07260432767035478), (1212, 0.040531919985953443), (1213, 0.04502444112067629), (1214, 0.011304017074763646), (1215, 0.04784353493711505), (1216, 0.022958937465074485), (1217, 0.031485456160828956), (1218, 0.06131769550122117), (1219, 0.024619711889183313), (1220, 0.015072463075542948), (1221, 0.021669513418605024), (1222, 0.012962803627734755), (1223, 0.0355315475178292), (1224, 0.025840539282709934), (1225, 0.01751235614955778), (1226, 0.026277289744840792), (1227, 0.01678291381766836), (1228, 0.018361111774433687), (1229, 0.05023541297830686), (1230, 0.027669671403318625), (1231, 0.037029282136123096), (1232, 0.03365550779339502), (1233, 0.022350905729429), (1234, 0.021595661211938198), (1235, 0.07163904675641422), (1236, 0.015928401447879034), (1237, 0.026175037267694698), (1238, 0.0329762439404487), (1239, 0.027323369913169714), (1240, 0.026736696479171686), (1241, 0.03298199568819683), (1242, 0.018568046576901615), (1243, 0.026005798442570897), (1244, 0.05203686456537798), (1245, 0.013975814563184644), (1246, 0.027818692732652875), (1247, 0.046809159033938286), (1248, 0.01962962392186269), (1249, 0.058367378936810224), (1250, 0.027482138852261286), (1251, 0.012157969251533882), (1252, 0.046285845350497706), (1253, 0.03672233628697048), (1254, 0.020257008172205864), (1255, 0.027480925141234992), (1256, 0.07087772779159084), (1257, 0.06236605549906967), (1258, 0.04962624044385065), (1259, 0.04643447844760383), (1260, 0.01846531080958805), (1261, 0.022835736451956374), (1262, 0.021199397812384398), (1263, 0.022450838626665328), (1264, 0.03406738058161588), (1265, 0.03108543918775097), (1266, 0.038890371331284146), (1267, 0.02695540281144127), (1268, 0.024659613388389005), (1269, 0.021148191452157152), (1270, 0.024389871063611745), (1271, 0.05311150039966579), (1272, 0.029004663693556185), (1273, 0.029721849148126), (1274, 0.03983418110942606), (1275, 0.02892439813749391), (1276, 0.020705812774757457), (1277, 0.017997195417130747), (1278, 0.030143503010856856), (1279, 0.02465739763334247), (1280, 0.019852079192060175), (1281, 0.048537924558158474), (1282, 0.021011843045992303), (1283, 0.02350190011798676), (1284, 0.03940278597501083), (1285, 0.05590675453844984), (1286, 0.0274288682198898), (1287, 0.014929555453133707), (1288, 0.017563584180135337), (1289, 0.04454808716819029), (1290, 0.05726947108039755), (1291, 0.029729495300528624), (1292, 0.02034793377067654), (1293, 0.045851544879758156), (1294, 0.029440508714398714), (1295, 0.033406075561216435), (1296, 0.028672089785136065), (1297, 0.016702272633724827), (1298, 0.015199516278492583), (1299, 0.0351044223671191), (1300, 0.029667552824244384), (1301, 0.028705999946077414), (1302, 0.057205598392816095), (1303, 0.04488421631791457), (1304, 0.032780422622859656), (1305, 0.02837134149072082), (1306, 0.024505295179018238), (1307, 0.054164896816436714), (1308, 0.022697667080759407), (1309, 0.02638536597330892), (1310, 0.028514254527519968), (1311, 0.06741845047773672), (1312, 0.03259996924005625), (1313, 0.021201154346127835), (1314, 0.06812195965840279), (1315, 0.02092896544166405), (1316, 0.024854213637522674), (1317, 0.05884959956746195), (1318, 0.0528906458946497), (1319, 0.041177064705219), (1320, 0.02081492983564809), (1321, 0.049688742696615315), (1322, 0.051783195658551766), (1323, 0.01923143225584945), (1324, 0.028478966007459375), (1325, 0.025698952964228434), (1326, 0.01850092365783819), (1327, 0.028923487578867375), (1328, 0.02283005129866602), (1329, 0.03176288707487634), (1330, 0.025963208742303505), (1331, 0.053114959210172744), (1332, 0.021952365676523394), (1333, 0.03405564547633913), (1334, 0.0643717726636572), (1335, 0.02654246211380524), (1336, 0.016716190210730883), (1337, 0.02594337117991614), (1338, 0.044645757153131335), (1339, 0.021849876991701406), (1340, 0.07057268297135111), (1341, 0.04284251898126264), (1342, 0.014315193729963134), (1343, 0.03199019660851039), (1344, 0.04230121524541069), (1345, 0.032453875719547554), (1346, 0.01384378262526385), (1347, 0.037778568114894925), (1348, 0.03652640449886428), (1349, 0.06085859672194744), (1350, 0.030090229157792206), (1351, 0.01687255398224589), (1352, 0.02271420621840215), (1353, 0.07732946401626276), (1354, 0.04984132004260788), (1355, 0.046284412311404066), (1356, 0.04323079764442473), (1357, 0.010846401339997768), (1358, 0.030118697228774815), (1359, 0.032898929757828085), (1360, 0.0328223412101364), (1361, 0.028308741019553347), (1362, 0.01915108053763404), (1363, 0.032883997245323836), (1364, 0.08511955598894846), (1365, 0.01957308924641494), (1366, 0.03634506898432136), (1367, 0.027071104629100288), (1368, 0.020772698222981893), (1369, 0.020567291979934812), (1370, 0.03555004963949089), (1371, 0.053555036997361846), (1372, 0.02550373172159786), (1373, 0.04053577726057741), (1374, 0.02608570560943227), (1375, 0.05723078894190219), (1376, 0.027295100667974224), (1377, 0.07645633804697648), (1378, 0.034420986280552034), (1379, 0.029013971530090145), (1380, 0.03265029787458447), (1381, 0.044780184698697836), (1382, 0.04928579414158878), (1383, 0.025236700571927614), (1384, 0.028704612009392824), (1385, 0.02312435158410697), (1386, 0.019453955679794806), (1387, 0.06053091500163012), (1388, 0.03205325011077914), (1389, 0.023875431735121175), (1390, 0.02511762114072231), (1391, 0.044665117741215496), (1392, 0.01635197323429806), (1393, 0.02793977850453356), (1394, 0.02953337438889936), (1395, 0.017278707182878352), (1396, 0.019810543905938616), (1397, 0.028962462098496632), (1398, 0.06912593837152153), (1399, 0.07018504098409152), (1400, 0.02606240425357582), (1401, 0.022570572164003617), (1402, 0.03139012325793106), (1403, 0.028343338908269428), (1404, 0.03297534578377094), (1405, 0.026457002800799705), (1406, 0.019358900060680397), (1407, 0.03592752222393301), (1408, 0.02015464152163686), (1409, 0.010606314715599825), (1410, 0.025429535849464387), (1411, 0.02706882060632372), (1412, 0.020301110366017037), (1413, 0.07789103799983892), (1414, 0.03145773105025671), (1415, 0.022239217062503227), (1416, 0.041279078793245286), (1417, 0.03814329794971066), (1418, 0.018374036092168016), (1419, 0.035048107381594654), (1420, 0.02872039592263952), (1421, 0.023818921377887846), (1422, 0.019808671231445647), (1423, 0.03335648740468799), (1424, 0.023066025103451293), (1425, 0.022408175076392825), (1426, 0.02282941598780802), (1427, 0.04297185619366049), (1428, 0.022656676721080182), (1429, 0.025570328726774214), (1430, 0.01963519310678925), (1431, 0.02106598847797858), (1432, 0.03743267477573198), (1433, 0.0340431544815146), (1434, 0.024319206695420932), (1435, 0.018158957218171273), (1436, 0.05378774208396128), (1437, 0.03969926230224694), (1438, 0.020753548178209125), (1439, 0.06925173658463657), (1440, 0.01584945434258452), (1441, 0.03064140892763506), (1442, 0.023132238877850004), (1443, 0.034232509414113516), (1444, 0.03978416096992263), (1445, 0.030159583754183074), (1446, 0.01704644204961784), (1447, 0.026384512100745786), (1448, 0.04086459767600395), (1449, 0.02850188615187334), (1450, 0.012274273309785711), (1451, 0.0225111246437021), (1452, 0.03464682558916443), (1453, 0.016450939070348322), (1454, 0.030379094965628996), (1455, 0.02698287630220514), (1456, 0.02056763040782233), (1457, 0.016301279914028022), (1458, 0.03067932909962561), (1459, 0.028433238564507364), (1460, 0.023393553994363228), (1461, 0.02701237812491846), (1462, 0.032456630591171216), (1463, 0.02503353144473105), (1464, 0.03751367768467562), (1465, 0.012870212634525403), (1466, 0.0833618829028483), (1467, 0.017619099684973216), (1468, 0.033001187182266814), (1469, 0.038623466810050286), (1470, 0.020618486619961185), (1471, 0.0165811902536506), (1472, 0.03866626994329092), (1473, 0.017716541078380926), (1474, 0.02138683175612134), (1475, 0.017835042772289755), (1476, 0.014174555238684796), (1477, 0.02080685025330229), (1478, 0.012461865594461486), (1479, 0.02551774149539837), (1480, 0.07527120458743643), (1481, 0.03331012217321215), (1482, 0.01486212938949794), (1483, 0.03311777650917113), (1484, 0.02822645679648048), (1485, 0.032764293715598684), (1486, 0.028808441846196565), (1487, 0.041516078014152295), (1488, 0.027931647297323427), (1489, 0.04334909903370199), (1490, 0.04225329743314894), (1491, 0.0329831523609789), (1492, 0.020178042031697097), (1493, 0.02885086858829291), (1494, 0.055964609072163336), (1495, 0.021387244009501614), (1496, 0.01793615221001396), (1497, 0.01507242810018403), (1498, 0.007046099657024076), (1499, 0.02675064555254443), (1500, 0.008610530363181669), (1501, 0.019911358871171302), (1502, 0.008134635639111773), (1503, 0.05297888267472381), (1504, 0.022466572610595356), (1505, 0.05258159067529489), (1506, 0.02120468072817743), (1507, 0.013758885004793503), (1508, 0.0322271971921828), (1509, 0.01193092752862671), (1510, 0.017384430005000215), (1511, 0.032226147879784665), (1512, 0.02218123257106139), (1513, 0.027841137496917925), (1514, 0.027350770441389876), (1515, 0.024060083669632297), (1516, 0.025876483715811426), (1517, 0.0222476103702973), (1518, 0.02095045787392042), (1519, 0.02501682458211031), (1520, 0.02360310922392455), (1521, 0.01764498620812118), (1522, 0.038519496758281854), (1523, 0.02219326676631378), (1524, 0.05393932890805618), (1525, 0.021071105534890635), (1526, 0.013413811042053934), (1527, 0.025541405091194028), (1528, 0.025700056409457703), (1529, 0.06279055923058846), (1530, 0.02438059238775413), (1531, 0.023991967100653086), (1532, 0.025782906434426142), (1533, 0.025551012481824557), (1534, 0.03188776179752698), (1535, 0.03193471675267537), (1536, 0.03500088775513681), (1537, 0.018971008903656994), (1538, 0.04906857004912471), (1539, 0.03225872661394656), (1540, 0.05266470398498731), (1541, 0.019771736556544968), (1542, 0.026781299426242904), (1543, 0.033493785316922195), (1544, 0.01290636644713234), (1545, 0.034497196870266075), (1546, 0.039693377706719324), (1547, 0.024347185311931013), (1548, 0.023285908227899867), (1549, 0.03245335924721441), (1550, 0.038006965905656824), (1551, 0.0187934826787857), (1552, 0.029832768073084666), (1553, 0.031894078842091), (1554, 0.02390680653688266), (1555, 0.029012767501616857), (1556, 0.01860331922713528), (1557, 0.029589495085526545), (1558, 0.02606515827594928), (1559, 0.02203734845289295), (1560, 0.0476112357278075), (1561, 0.03121733581943587), (1562, 0.01629260425237513), (1563, 0.11079196541721514), (1564, 0.010664521929039664), (1565, 0.02302294040075684), (1566, 0.037587345548317795), (1567, 0.03179994341305479), (1568, 0.02085577399973075), (1569, 0.015693215446290976), (1570, 0.02926928102459686), (1571, 0.02514892773450496), (1572, 0.05305647255841693), (1573, 0.026830500909805814), (1574, 0.03864519757205663), (1575, 0.04158239362023409), (1576, 0.018054855249112857), (1577, 0.029140774406852567), (1578, 0.018809411003072665), (1579, 0.03612398804976268), (1580, 0.06299955465704196), (1581, 0.01582963227827154), (1582, 0.06197376789966736), (1583, 0.024601577316222), (1584, 0.019131146776773557), (1585, 0.02263341453372908), (1586, 0.03597765380976525), (1587, 0.02698973674809134), (1588, 0.04095170903572933), (1589, 0.028020404812525854), (1590, 0.02375498590813192), (1591, 0.020383466366723467), (1592, 0.10967883632201945), (1593, 0.039358441850526046), (1594, 0.014206489042265074), (1595, 0.0243309330692126), (1596, 0.021232919113803584), (1597, 0.058258673280059514), (1598, 0.02345361500099248), (1599, 0.028834982790312907), (1600, 0.01745988265005481), (1601, 0.01617370190832358), (1602, 0.030179938507107287), (1603, 0.03674912703588293), (1604, 0.0340998854718789), (1605, 0.01008968527269858), (1606, 0.03462285632488514), (1607, 0.020848101685318466), (1608, 0.03224236522724041), (1609, 0.019275087591540153), (1610, 0.02952781116039933), (1611, 0.015826660372427876), (1612, 0.004718098883645199), (1613, 0.016592483566627222), (1614, 0.021274427419428983), (1615, 0.01756510913371721), (1616, 0.026660230263989063), (1617, 0.026902936621991037), (1618, 0.04712930246664186), (1619, 0.016591814628219285), (1620, 0.01793239340501829), (1621, 0.02821949095151882), (1622, 0.02634355541390679), (1623, 0.04511671314015095), (1624, 0.024633408450241038), (1625, 0.044682833597699805), (1626, 0.038193522891824955), (1627, 0.04958403491490925), (1628, 0.07047140686597031), (1629, 0.02488379836433371), (1630, 0.02580853005126207), (1631, 0.03340873818913653), (1632, 0.023721350448576255), (1633, 0.030951330526967066), (1634, 0.017967324997987547), (1635, 0.034914234351004325), (1636, 0.05887138260376977), (1637, 0.026439252882400677), (1638, 0.030175118856095366), (1639, 0.029010659396195928), (1640, 0.025656329913934364), (1641, 0.03063399119025497), (1642, 0.018955889185246808), (1643, 0.022575683638827244), (1644, 0.017142044287678033), (1645, 0.032194381733533714), (1646, 0.04736255647568172), (1647, 0.04511858899104636), (1648, 0.0148157343018673), (1649, 0.050640622487832646), (1650, 0.023748667390527813), (1651, 0.02012260479483699), (1652, 0.017289510947482954), (1653, 0.02235450846666791), (1654, 0.026979818958596594), (1655, 0.08942806942116568), (1656, 0.05077241202104499), (1657, 0.004853643123078341), (1658, 0.02122041790071995), (1659, 0.037932508997211546), (1660, 0.03301412165050558), (1661, 0.03588606947112599), (1662, 0.030453266736505558), (1663, 0.026146145295685055), (1664, 0.0249493162753062), (1665, 0.02311338665837947), (1666, 0.018822032963794717), (1667, 0.02292916441823416), (1668, 0.025933598775978513), (1669, 0.06196974743169995), (1670, 0.014814094497965648), (1671, 0.026517619901801105), (1672, 0.03200968344567436), (1673, 0.034951603329584094), (1674, 0.026103650216188896), (1675, 0.06343793597868994), (1676, 0.02075166069526023), (1677, 0.03296110066481459), (1678, 0.03209646785396687), (1679, 0.04739432657426752), (1680, 0.04331516057863417), (1681, 0.022179997441482177), (1682, 0.0412339911647225), (1683, 0.02225532806442308), (1684, 0.04949000708171466), (1685, 0.01613055488209369), (1686, 0.03741684281268991), (1687, 0.02801124367138097), (1688, 0.048161280708026326), (1689, 0.02148199995171545), (1690, 0.017050334387839733), (1691, 0.06153712769387493), (1692, 0.038579412028839154), (1693, 0.018515725573280385), (1694, 0.02618140326107557), (1695, 0.026020355181407998), (1696, 0.10202145153060221), (1697, 0.04870894832085894), (1698, 0.022311532085563874), (1699, 0.034005400573742475), (1700, 0.01973589011036714), (1701, 0.0291604708844046), (1702, 0.028853724904869208), (1703, 0.03644930440919439), (1704, 0.021575119336566882), (1705, 0.017146933491472807), (1706, 0.02315212492771228), (1707, 0.029726357887453696), (1708, 0.01976623983171861), (1709, 0.04832662350525248), (1710, 0.02137418441178451), (1711, 0.01928685371414174), (1712, 0.029076855984894984), (1713, 0.01865767982966251), (1714, 0.028099741482684768), (1715, 0.0997820360198862), (1716, 0.020412133935729354), (1717, 0.02711723637073842), (1718, 0.020136895361031578), (1719, 0.03606662298000852), (1720, 0.018434686336837668), (1721, 0.021376746925746714), (1722, 0.053950618275045936), (1723, 0.05239323732816051), (1724, 0.026922536743985676), (1725, 0.017609903813898837), (1726, 0.03404809839484967), (1727, 0.021756172872005458), (1728, 0.050642294208534194), (1729, 0.02791837264473112), (1730, 0.02615638193177279), (1731, 0.01897464767465065), (1732, 0.02414576907495073), (1733, 0.028553842530779992), (1734, 0.04825833734402656), (1735, 0.033765230865340806), (1736, 0.028432216032259344), (1737, 0.030905308248739986), (1738, 0.025049711216080933), (1739, 0.03676888428150749), (1740, 0.02907619342213433), (1741, 0.01955715926317777), (1742, 0.02773086032819141), (1743, 0.014911522190198659), (1744, 0.024897453503529645), (1745, 0.09314878942633516), (1746, 0.018199414638309416), (1747, 0.03736453488393337), (1748, 0.03072346652209973), (1749, 0.02225629916463858), (1750, 0.02767402087564497), (1751, 0.03501174378093781), (1752, 0.029971134023602963), (1753, 0.04695648137022863), (1754, 0.015399831294760151), (1755, 0.03560488778382477), (1756, 0.048078416662265644), (1757, 0.038583575276602916), (1758, 0.020527201989081038), (1759, 0.0365809768426803), (1760, 0.03322827480398386), (1761, 0.03156633934061564), (1762, 0.0449782360009164), (1763, 0.0440544714905763), (1764, 0.031228135281607616), (1765, 0.03464377901351877), (1766, 0.036286538690745565), (1767, 0.034505260552352875), (1768, 0.020001903635785186), (1769, 0.03565112910649935), (1770, 0.02158572048345532), (1771, 0.01960532222317185), (1772, 0.02195535466372483), (1773, 0.011420424930974912), (1774, 0.03354663789537075), (1775, 0.03166605813590434), (1776, 0.03089065781948819), (1777, 0.023069253158687186), (1778, 0.017943604472328976), (1779, 0.02416884598567899), (1780, 0.028602722709703807), (1781, 0.023376797017475574), (1782, 0.018800375693722178), (1783, 0.049064917952454934), (1784, 0.02891917476775066), (1785, 0.04484766149699754), (1786, 0.029772128489147755), (1787, 0.031184031057153224), (1788, 0.04046822486221031), (1789, 0.026268973839167126), (1790, 0.012017641840877459), (1791, 0.021323812349228234), (1792, 0.027923564684993997), (1793, 0.024068971946810586), (1794, 0.0325739212935702), (1795, 0.030532833739701084), (1796, 0.03765715993640398), (1797, 0.02473599281960238), (1798, 0.016637583108597084), (1799, 0.02944174194408863), (1800, 0.06618560419812959), (1801, 0.03151336713812745), (1802, 0.042804853321486924), (1803, 0.03690615125541457), (1804, 0.03357556436840048), (1805, 0.03767214089456973), (1806, 0.016902289729939537), (1807, 0.025094789911854053), (1808, 0.055346641402664556), (1809, 0.030736796356520452), (1810, 0.014641125770149643), (1811, 0.024354315082651123), (1812, 0.022053735971447344), (1813, 0.02479501855128211), (1814, 0.020956567777570396), (1815, 0.019911513451464385), (1816, 0.028979269767304545), (1817, 0.03279786734117725), (1818, 0.0298770453138961), (1819, 0.02274630794690982), (1820, 0.02097528144717709), (1821, 0.038684766209305194), (1822, 0.030959076023746448), (1823, 0.032486061040426104), (1824, 0.025822213786324523), (1825, 0.028151453123127886), (1826, 0.034934775171826346), (1827, 0.10507775798260025), (1828, 0.0119710691342342), (1829, 0.027447084282250442), (1830, 0.018865512884122075), (1831, 0.0475791843187463), (1832, 0.014903811802316091), (1833, 0.04946590496281134), (1834, 0.03536538776169176), (1835, 0.0756743522948685), (1836, 0.036312697380065796), (1837, 0.02529992202211467), (1838, 0.0346183183521273), (1839, 0.024623265694178366), (1840, 0.033278853557704026), (1841, 0.016519477716643333), (1842, 0.03887765053328239), (1843, 0.03424910497668479), (1844, 0.03409221221275664), (1845, 0.03308863426029613), (1846, 0.02235840720231462), (1847, 0.026015860543133932), (1848, 0.0275180343746029), (1849, 0.011033059094763927), (1850, 0.021081880826051173), (1851, 0.02779528474041224), (1852, 0.02629042255637081), (1853, 0.02524346533266341), (1854, 0.030065989793828983), (1855, 0.017378324382772797), (1856, 0.016332030613231654), (1857, 0.04215392472975045), (1858, 0.030316866254180442), (1859, 0.015819844260704458), (1860, 0.017147747224448937), (1861, 0.01719645892419732), (1862, 0.05001146597354066), (1863, 0.066962374542417), (1864, 0.014449098853109141), (1865, 0.012186778290554517), (1866, 0.03526960122026954), (1867, 0.06574001981651462), (1868, 0.027571784752360773), (1869, 0.004837476485912883), (1870, 0.02625244547641581), (1871, 0.024325248305876346), (1872, 0.02663461678626896), (1873, 0.03826059322314132), (1874, 0.039044445934382555), (1875, 0.027236352530595663), (1876, 0.030230165958821567), (1877, 0.05222808778499495), (1878, 0.02049200956879991), (1879, 0.021421523132178523), (1880, 0.025423202285637856), (1881, 0.025810785061688112), (1882, 0.022559576298452053), (1883, 0.016588780058933567), (1884, 0.022598916102876194), (1885, 0.02013391596579833), (1886, 0.031351694856850895), (1887, 0.02440465842483589), (1888, 0.06210146531139682), (1889, 0.012251773102941618), (1890, 0.017270926940295937), (1891, 0.021572578540304505), (1892, 0.02318427840997626), (1893, 0.02943564498961137), (1894, 0.04417531635243043), (1895, 0.017088823583354), (1896, 0.02779116174215265), (1897, 0.025616310697240772), (1898, 0.04945931712764482), (1899, 0.02644965020123992), (1900, 0.032219442628805786), (1901, 0.02115378143197993), (1902, 0.025125692123016664), (1903, 0.049015346063503884), (1904, 0.03861026606511582), (1905, 0.028703007385714144), (1906, 0.01744992115381977), (1907, 0.031191016371303643), (1908, 0.06870923169915498), (1909, 0.08062151135873392), (1910, 0.025882331467810542), (1911, 0.0644260087387305), (1912, 0.02168678035343155), (1913, 0.038297760061551264), (1914, 0.03364089699685738), (1915, 0.02624304858493845), (1916, 0.030235723991656752), (1917, 0.031286809082716), (1918, 0.03514646345941276), (1919, 0.04081287706485297), (1920, 0.02173254120863122), (1921, 0.02890972210051754), (1922, 0.030826980614057663), (1923, 0.043038351118910516), (1924, 0.037624879140185946), (1925, 0.023858226832959864), (1926, 0.028399946779781287), (1927, 0.04639880951227428), (1928, 0.03271314521664253), (1929, 0.03403212480010906), (1930, 0.02573794254424245), (1931, 0.03184033125002737), (1932, 0.03944576171509865), (1933, 0.010041330466034207), (1934, 0.02914150543323936), (1935, 0.021775226866280285), (1936, 0.01979360407851457), (1937, 0.02162318443250135), (1938, 0.019840375528994224), (1939, 0.03201424038956167), (1940, 0.039594082259539386), (1941, 0.0679833016875573), (1942, 0.02190728866346299), (1943, 0.020007712382984755), (1944, 0.014578486338688506), (1945, 0.04908322207556632), (1946, 0.012833356510980599), (1947, 0.028476146570140817), (1948, 0.022913606687279278), (1949, 0.025753545767872164), (1950, 0.06418665417844603), (1951, 0.03516758696000311), (1952, 0.00930244703589102), (1953, 0.0260673053646808), (1954, 0.018638977605338915), (1955, 0.063176629714892), (1956, 0.014691284616251838), (1957, 0.02913008974785303), (1958, 0.06032667370767776), (1959, 0.024148870262137367), (1960, 0.028950555397178668), (1961, 0.028452228558634836), (1962, 0.04588996239753372), (1963, 0.05082484946690831), (1964, 0.01854452979713654), (1965, 0.03308898413546175), (1966, 0.004700110651390119), (1967, 0.019490095239531994), (1968, 0.027772661328595113), (1969, 0.03131857279727586), (1970, 0.026790088151578826), (1971, 0.03868960959228339), (1972, 0.02934027311261748), (1973, 0.04508270924235279), (1974, 0.019358145564308184), (1975, 0.04145034598389086), (1976, 0.014693035082832248), (1977, 0.024585239050995918), (1978, 0.04087303126240492), (1979, 0.025374517270053874), (1980, 0.036710173347548426), (1981, 0.024487335356597667), (1982, 0.018399748295769555), (1983, 0.020628081643320806), (1984, 0.018023579746016486), (1985, 0.045013203990833264), (1986, 0.020421904375273716), (1987, 0.020581366032604683), (1988, 0.016076128692518975), (1989, 0.01695056687775339), (1990, 0.04281792577187514), (1991, 0.022988678248703674), (1992, 0.014468881606254504), (1993, 0.02573856491783217), (1994, 0.04939841568593458), (1995, 0.03679934282212453), (1996, 0.015383579906944393), (1997, 0.013764500026991951), (1998, 0.023698410886679656), (1999, 0.03104686896534508), (2000, 0.034649960940449996), (2001, 0.026799440415827415), (2002, 0.039369948418442505), (2003, 0.021289718985211908), (2004, 0.05294456195763824), (2005, 0.05137347823491687), (2006, 0.057448450303884076), (2007, 0.01576046714863691), (2008, 0.07867041390877226), (2009, 0.02286586653722817), (2010, 0.02109609313168867), (2011, 0.015232413754455821), (2012, 0.01836212882151061), (2013, 0.04345738285889221), (2014, 0.025595449503216443), (2015, 0.02764897746112984), (2016, 0.02765266279477845), (2017, 0.02565068954522174), (2018, 0.030146235972314868), (2019, 0.0692414260293902), (2020, 0.04311242133810968), (2021, 0.01571171751841493), (2022, 0.004780129097519327), (2023, 0.06172193894390829), (2024, 0.047030452925653096), (2025, 0.02488871920566758), (2026, 0.016929213152661087), (2027, 0.030641004119974218), (2028, 0.01369150082114438), (2029, 0.0325469234963512), (2030, 0.03021362071530969), (2031, 0.02865956653150866), (2032, 0.042281476090167296), (2033, 0.02985035266034329), (2034, 0.030353326653853947), (2035, 0.038403809995037924), (2036, 0.038411567066370535), (2037, 0.037232684109469776), (2038, 0.01850326668899819), (2039, 0.07190780504935472), (2040, 0.03172140088364307), (2041, 0.02787439766852478), (2042, 0.043578766635185964), (2043, 0.02432221430887286), (2044, 0.02090827831765532), (2045, 0.013649218274206497), (2046, 0.027341835615135958), (2047, 0.025582398841130307), (2048, 0.028475902418462914), (2049, 0.02490278976292793), (2050, 0.02728201386381513), (2051, 0.014366836761746174), (2052, 0.017063378889933162), (2053, 0.02738478978284424), (2054, 0.016404757042385844), (2055, 0.026519224399183562), (2056, 0.01479572329298536), (2057, 0.04894420127502426), (2058, 0.027798203478613212), (2059, 0.0388313486550219), (2060, 0.021506838910740667), (2061, 0.05267260633169587), (2062, 0.029181685119594666), (2063, 0.021518807931448957), (2064, 0.03032503525966814), (2065, 0.03670371446877238), (2066, 0.04451580745238146), (2067, 0.01773312611149866), (2068, 0.027489920149327593), (2069, 0.016770869588193113), (2070, 0.06385061982591331), (2071, 0.05963160547230481), (2072, 0.017655665194568872), (2073, 0.01577937429407291), (2074, 0.0266048447197229), (2075, 0.07226679592143595), (2076, 0.046843056440663944), (2077, 0.027197692077609553), (2078, 0.032730753117653694), (2079, 0.02170557887322558), (2080, 0.02416091516569656), (2081, 0.021159862992733522), (2082, 0.04315074225563461), (2083, 0.03024749046386626), (2084, 0.029081949818056292), (2085, 0.02196493610590989), (2086, 0.03811111368867229), (2087, 0.02792269964938183), (2088, 0.057311022927604344), (2089, 0.018022849127746297), (2090, 0.039089104600003415), (2091, 0.029002437872280868), (2092, 0.11777758140538169), (2093, 0.030563712838592938), (2094, 0.008854654250932473), (2095, 0.026954627239058948), (2096, 0.036049087671318425), (2097, 0.02087219572945085), (2098, 0.012727030857110347), (2099, 0.04282241649892488), (2100, 0.02947718251127861), (2101, 0.01990912974007599), (2102, 0.03167080017581355), (2103, 0.013873970811325034), (2104, 0.01776531258929993), (2105, 0.02397798390808243), (2106, 0.022163356609930726), (2107, 0.02077449722785034), (2108, 0.0315001833994388), (2109, 0.02192021213554931), (2110, 0.026707520960261535), (2111, 0.046061554109065456), (2112, 0.01456796383551881), (2113, 0.01531198061072026), (2114, 0.014102571836513011), (2115, 0.03807437911400348), (2116, 0.01198882532494231), (2117, 0.023566223088877715), (2118, 0.014199337601611853), (2119, 0.015574115280892389), (2120, 0.02854203682224958), (2121, 0.05971160868999442), (2122, 0.02934314570971557), (2123, 0.031556660869392114), (2124, 0.06352009925571714), (2125, 0.022582369238614487), (2126, 0.04137071664901009), (2127, 0.021484826382091683), (2128, 0.037347184881002214), (2129, 0.027509596027273858), (2130, 0.036658435351859094), (2131, 0.03774728650217078), (2132, 0.01272201847342032), (2133, 0.021951703222727315), (2134, 0.06472519143714872), (2135, 0.03807210014148036), (2136, 0.03489592029097627), (2137, 0.022549362225131406), (2138, 0.014104156183636017), (2139, 0.03029857253001856), (2140, 0.03883008904448991), (2141, 0.026956280272779014), (2142, 0.026093671812361042), (2143, 0.022059129824043858), (2144, 0.0255536861914794), (2145, 0.02067979926486137), (2146, 0.028491834504988864), (2147, 0.054465095782050464), (2148, 0.026443302661255767), (2149, 0.03500550462510274), (2150, 0.011961550819421532), (2151, 0.016265809092795402), (2152, 0.025673971091233577), (2153, 0.029861232754291676), (2154, 0.015496735218974404), (2155, 0.041123859441689496), (2156, 0.02681546417040381), (2157, 0.033368897794943723), (2158, 0.017776142792145084), (2159, 0.03225779663720617), (2160, 0.014731200808195873), (2161, 0.021629186578540856), (2162, 0.030400274169745403), (2163, 0.020771761486833386), (2164, 0.01776152657875084), (2165, 0.030766615480893524), (2166, 0.02036674983432247), (2167, 0.04392248856010393), (2168, 0.04237133869078237), (2169, 0.013006137461289646), (2170, 0.020006930490590193), (2171, 0.023617746404785346), (2172, 0.04575806027707831), (2173, 0.02059363869859144), (2174, 0.024823661601566075), (2175, 0.04246604265444485), (2176, 0.02364201293399591), (2177, 0.09253970895315348), (2178, 0.023162943198425715), (2179, 0.03140088747092968), (2180, 0.026021050306565804), (2181, 0.017041163065823497), (2182, 0.02960132231536459), (2183, 0.08104045401015735), (2184, 0.025056763732336444), (2185, 0.03313602126522642), (2186, 0.02380449541926464), (2187, 0.027347113100936616), (2188, 0.029774083598360042), (2189, 0.026544851269716452), (2190, 0.02311770552244001), (2191, 0.0504199929354773), (2192, 0.022377773865072812), (2193, 0.01836164072991233), (2194, 0.02032101424192355), (2195, 0.05109534563658255), (2196, 0.022409532538281755), (2197, 0.020164786836230943), (2198, 0.053485374396645496), (2199, 0.025010515912265437), (2200, 0.0271414096446028), (2201, 0.00515125602149839), (2202, 0.017354348054123177), (2203, 0.029029999105366473), (2204, 0.056669708549852364), (2205, 0.0338253214305229), (2206, 0.02166153009607405), (2207, 0.026953400462134153), (2208, 0.022925165784320023), (2209, 0.01998761125161993), (2210, 0.02667201781721768), (2211, 0.028986759356213098), (2212, 0.030328829104793658), (2213, 0.015034540161806165), (2214, 0.02578260498960766), (2215, 0.02101198539195224), (2216, 0.02669350862620337), (2217, 0.033584217904399215), (2218, 0.028591320655915783), (2219, 0.020974827422583366), (2220, 0.04388714728249788), (2221, 0.03718308186192279), (2222, 0.01789795095763016), (2223, 0.0232324014261288), (2224, 0.021394510800676524), (2225, 0.012982100088947627), (2226, 0.012676866745902127), (2227, 0.07316465864624097), (2228, 0.027275558727512857), (2229, 0.04788061807852387), (2230, 0.014111666199376508), (2231, 0.030042780107918766), (2232, 0.03569752517978711), (2233, 0.05390414133072107), (2234, 0.02747426293040485), (2235, 0.030054264674539363), (2236, 0.026672587512386662), (2237, 0.03890807248937146), (2238, 0.024026140047858496), (2239, 0.029844240973060435), (2240, 0.018333339512544233), (2241, 0.030680497755883714), (2242, 0.069961882788103), (2243, 0.0292749936807478), (2244, 0.03298663508421033), (2245, 0.02165674871829969), (2246, 0.03974189405611994), (2247, 0.013315422108883278), (2248, 0.030870587073284703), (2249, 0.02700590708296056), (2250, 0.053295841176497515), (2251, 0.02619832434572358), (2252, 0.12265403970599754), (2253, 0.040066784734795226), (2254, 0.014314668881908327), (2255, 0.035396097509203105), (2256, 0.02797190930638421), (2257, 0.0373031579234964), (2258, 0.01834675684963973), (2259, 0.021964342227855545), (2260, 0.023053235737331788), (2261, 0.014637466148913567), (2262, 0.023887911265541635), (2263, 0.018073546730418985), (2264, 0.012512385753592826), (2265, 0.022631546323962456), (2266, 0.03170412340791366), (2267, 0.00853737546911797), (2268, 0.055613005990301605), (2269, 0.0042021793415163025), (2270, 0.025580121517500266), (2271, 0.017555792802424877), (2272, 0.024971738643247962), (2273, 0.017091815608593554), (2274, 0.03099162103082506), (2275, 0.037443601644628954), (2276, 0.016606198472206523), (2277, 0.02907975221075472), (2278, 0.029533342032586125), (2279, 0.0207633074521393), (2280, 0.03685531563814821), (2281, 0.024334812492429164), (2282, 0.02516508204005614), (2283, 0.032422787998228696), (2284, 0.05188118485165314), (2285, 0.02741455468108567), (2286, 0.023309272841966704), (2287, 0.025999968035145246), (2288, 0.01717636156953372), (2289, 0.02747842758710406), (2290, 0.06550026110654092), (2291, 0.011408194621805803), (2292, 0.029277772562103756), (2293, 0.030563801154255613), (2294, 0.08256381050367631), (2295, 0.02424253552868944), (2296, 0.02104856916620229), (2297, 0.025745383848053093), (2298, 0.07333104406966061), (2299, 0.017771462319008915), (2300, 0.05577676276227865), (2301, 0.02984954430992357), (2302, 0.06520776020626043), (2303, 0.03063559069394932), (2304, 0.014356211448111268), (2305, 0.039747850713245304), (2306, 0.029967491137722298), (2307, 0.03376669301143318), (2308, 0.03473419748669179), (2309, 0.023475678207351663), (2310, 0.034374354446923654), (2311, 0.01807254078908215), (2312, 0.026539658395154635), (2313, 0.05078504361503471), (2314, 0.026951288398541245), (2315, 0.036903913846686114), (2316, 0.014492988873120121), (2317, 0.021203123565665682), (2318, 0.028570004255298168), (2319, 0.030313983183375737), (2320, 0.0135522486253551), (2321, 0.030416399731891364), (2322, 0.016337655078226293), (2323, 0.029855813397437987), (2324, 0.02344009646761065), (2325, 0.030259345929359277), (2326, 0.017284297101405676), (2327, 0.02674406717873361), (2328, 0.015308528525528524), (2329, 0.02796204849472406), (2330, 0.014943505073955511), (2331, 0.015966148336960223), (2332, 0.006542486167279971), (2333, 0.023419359684915222), (2334, 0.0371207481245113), (2335, 0.018042151568851708), (2336, 0.03441739531183992), (2337, 0.003832357432799319), (2338, 0.021129765128265497), (2339, 0.02968611307997063), (2340, 0.04166852526508269), (2341, 0.016531499771251665), (2342, 0.020458525989209442), (2343, 0.022435774046425477), (2344, 0.017836603146055396), (2345, 0.03469706657262288), (2346, 0.04504634147863565), (2347, 0.031561336541544936), (2348, 0.033800023747955384), (2349, 0.026469846254146598), (2350, 0.02182779313984881), (2351, 0.034503987045087524), (2352, 0.03161649522630162), (2353, 0.03861660157401072), (2354, 0.05149253672548514), (2355, 0.01962135788189765), (2356, 0.044182524761217604), (2357, 0.024991028598219032), (2358, 0.021343083853940865), (2359, 0.03442394279268711), (2360, 0.01645787861037426), (2361, 0.033909430997861575), (2362, 0.08392863359118481), (2363, 0.0274151028121859), (2364, 0.03489587905764209), (2365, 0.016991559671377013), (2366, 0.029972350704283574), (2367, 0.01995631439344045), (2368, 0.014565864242188342), (2369, 0.019358834111198514), (2370, 0.03612713745599945), (2371, 0.019869315086153007), (2372, 0.09127826059349829), (2373, 0.03792638554876705), (2374, 0.015228417598191931), (2375, 0.05200264472809832), (2376, 0.022660488658123815), (2377, 0.027095504927245925), (2378, 0.014300400461878264), (2379, 0.03245136031454306), (2380, 0.05603709117314152), (2381, 0.01603062952484098), (2382, 0.0), (2383, 0.04502201454501122), (2384, 0.018330050685747), (2385, 0.04304358134541473), (2386, 0.023040043061545792), (2387, 0.07230209050814095), (2388, 0.028101559186907606), (2389, 0.026919913835560777), (2390, 0.02403190629013635), (2391, 0.030671605926840442), (2392, 0.013065957370716471), (2393, 0.01712157114498519), (2394, 0.030014102947143902), (2395, 0.052467762428547136), (2396, 0.03174556009082975), (2397, 0.03651080665591549), (2398, 0.018912444739864302), (2399, 0.05994016529005425), (2400, 0.06337131694696027), (2401, 0.05971170485577648), (2402, 0.0312645313013169), (2403, 0.02426841651596422), (2404, 0.01530218420995147), (2405, 0.03540445261585385), (2406, 0.058658870727906785), (2407, 0.0208281782330627), (2408, 0.03770858372741915), (2409, 0.0377693594890105), (2410, 0.029687691515325985), (2411, 0.03543303367087044), (2412, 0.026033363422441533), (2413, 0.025131808824875413), (2414, 0.040972909737865965), (2415, 0.03918508792859582), (2416, 0.02699850410062232), (2417, 0.1186884804039211), (2418, 0.020548286136360925), (2419, 0.020523256460865644), (2420, 0.020976333743558697), (2421, 0.07553945760545355), (2422, 0.0289740382913201), (2423, 0.016657844534881214), (2424, 0.016059532287041656), (2425, 0.028824705331662707), (2426, 0.013382402934059233), (2427, 0.009181150495945464), (2428, 0.02017262919612161), (2429, 0.028441473793166416), (2430, 0.016051199319919954), (2431, 0.028624507931002685), (2432, 0.013092343274247764), (2433, 0.02227584006360208), (2434, 0.03928364062422177), (2435, 0.05028875116142378), (2436, 0.08959326446088507), (2437, 0.025623028164767782), (2438, 0.042873115116943666), (2439, 0.016950390431532507), (2440, 0.029789216765093877), (2441, 0.016838672130659236), (2442, 0.024636611423219722), (2443, 0.02134202317014644), (2444, 0.06584593521393847), (2445, 0.029154068549727772), (2446, 0.013003691415600307), (2447, 0.023518796144637047), (2448, 0.027750654520336933), (2449, 0.013208031111983563), (2450, 0.019883387414614664), (2451, 0.020867387092591047), (2452, 0.056908481850568675), (2453, 0.024919591688201147), (2454, 0.014327698930576987), (2455, 0.014414015666125945), (2456, 0.03722444146472471), (2457, 0.08197922126202953), (2458, 0.04418069691044271), (2459, 0.039220481348500154), (2460, 0.015348225123580011), (2461, 0.04660753633563993), (2462, 0.03653751713292996), (2463, 0.049004459392430845), (2464, 0.024067088131698947), (2465, 0.03925794482560159), (2466, 0.0730485062690772), (2467, 0.014608510576822078), (2468, 0.032127941584004026), (2469, 0.01483027438259758), (2470, 0.026442735777405944), (2471, 0.01584276968132984), (2472, 0.020902913656626356), (2473, 0.02584209304401906), (2474, 0.028731865044553336), (2475, 0.01828660029560444), (2476, 0.019119093823170258), (2477, 0.0250908637806717), (2478, 0.029407298147018646), (2479, 0.04388308753455382), (2480, 0.01931020132736308), (2481, 0.027006001469967476), (2482, 0.028200113308182652), (2483, 0.019015517204144534), (2484, 0.023812983736503816), (2485, 0.043322814439275575), (2486, 0.025180006394086796), (2487, 0.013759836841019961), (2488, 0.034869029720112577), (2489, 0.03100286787018816), (2490, 0.046245741342220766), (2491, 0.041049162268426906), (2492, 0.027853997497573717), (2493, 0.015196112122004453), (2494, 0.008525283908391627), (2495, 0.014467112216727416), (2496, 0.029866968116251315), (2497, 0.0196774966168136), (2498, 0.01731708262717807), (2499, 0.02997419952615258), (2500, 0.03129473225593188), (2501, 0.01994019394252088), (2502, 0.048852287757453004), (2503, 0.012443150615833233), (2504, 0.03377052914157791), (2505, 0.027902226113938267), (2506, 0.031754268048050004), (2507, 0.023413060732005265), (2508, 0.020581412284805634), (2509, 0.022227638885592402), (2510, 0.016157909485194737), (2511, 0.018895112715424302), (2512, 0.024352794555986438), (2513, 0.03929946135683439), (2514, 0.028718902919651155), (2515, 0.0200115576303589), (2516, 0.028733266485117627), (2517, 0.04538837171517672), (2518, 0.04014015519022413), (2519, 0.03210863177646175), (2520, 0.01808205129408741), (2521, 0.04989735278036176), (2522, 0.03403143900881402), (2523, 0.030317961830196874), (2524, 0.023131019961749037), (2525, 0.035798525223969896), (2526, 0.02579713906768311), (2527, 0.022301194081525914), (2528, 0.04078467711362761), (2529, 0.016879000618955257), (2530, 0.023595071276971122), (2531, 0.012618605447653107), (2532, 0.04982393272901886), (2533, 0.016605954964962928), (2534, 0.0489927230155795), (2535, 0.02008715386203517), (2536, 0.011196886740197639), (2537, 0.0235009757233256), (2538, 0.032898543657344556), (2539, 0.027521694294593797), (2540, 0.023944269898806228), (2541, 0.01812255468285913), (2542, 0.027131413219687577), (2543, 0.03118002130016165), (2544, 0.03009861783253745), (2545, 0.01588621382344372), (2546, 0.03277999745427269), (2547, 0.020411328016550205), (2548, 0.058278098945684906), (2549, 0.013407166224051154), (2550, 0.019131429564441894), (2551, 0.03884313047529263), (2552, 0.028647527616605627), (2553, 0.028325554701496933), (2554, 0.0565534058819519), (2555, 0.03983622653688163), (2556, 0.026075792661385943), (2557, 0.026941747797606372), (2558, 0.02598429145606055), (2559, 0.027240607900513428), (2560, 0.01943268661887908), (2561, 0.009845779591630945), (2562, 0.04025745954775739), (2563, 0.024809413511925685), (2564, 0.01355041743352907), (2565, 0.023625903587187146), (2566, 0.026168703100462678), (2567, 0.009959693187133932), (2568, 0.027283945963292006), (2569, 0.040143668172949565), (2570, 0.022998640196105955), (2571, 0.0362526099996262), (2572, 0.03245447005192793), (2573, 0.012807428056493122), (2574, 0.016507750078810796), (2575, 0.051929590893703276), (2576, 0.027692745648785443), (2577, 0.025143295829955548), (2578, 0.04867503645429328), (2579, 0.023747871724668752), (2580, 0.0542978690609331), (2581, 0.030106332042584717), (2582, 0.02964968746573794), (2583, 0.01952470414074998), (2584, 0.011271653395941432), (2585, 0.07184968239994034), (2586, 0.058439287916005986), (2587, 0.013047692869774231), (2588, 0.03875372291570485), (2589, 0.025742272050846164), (2590, 0.021442348695248317), (2591, 0.004861459197905803), (2592, 0.021235574637900403), (2593, 0.02906824595420577), (2594, 0.03751491347966236), (2595, 0.025040093944532084), (2596, 0.011371747688721595), (2597, 0.02449163686577346), (2598, 0.02985826450719122), (2599, 0.028201670264288724), (2600, 0.01631172154832952), (2601, 0.022696375673201794), (2602, 0.020612407617214515), (2603, 0.041865958694919554), (2604, 0.028844127861316335), (2605, 0.015099584952317217), (2606, 0.02572397053158698), (2607, 0.030969264820841023), (2608, 0.023736263903921313), (2609, 0.01577900826413376), (2610, 0.013534254237703854), (2611, 0.025899882116688682), (2612, 0.0369742891062556), (2613, 0.029082887662048952), (2614, 0.02829765424380419), (2615, 0.016387027012715476), (2616, 0.03935242228604347), (2617, 0.02983732377395039), (2618, 0.019268958999146435), (2619, 0.017993836233488388), (2620, 0.06290707235564995), (2621, 0.005918537658860258), (2622, 0.054678198132812), (2623, 0.0036918677748021883), (2624, 0.025555175613082383), (2625, 0.052912209025794035), (2626, 0.01612487374868482), (2627, 0.020563131663503813), (2628, 0.019601609040751807), (2629, 0.026939608764446156), (2630, 0.027261396580979643), (2631, 0.023076939701770615), (2632, 0.02227013584913699), (2633, 0.0287526684704811), (2634, 0.019199230154400847), (2635, 0.01964913385823559), (2636, 0.01286934970861861), (2637, 0.029569430114993286), (2638, 0.05657889486747548), (2639, 0.030996488433001238), (2640, 0.031478661890989496), (2641, 0.031456353171663315), (2642, 0.03797109668000451), (2643, 0.02810162330993345), (2644, 0.06519322878814202), (2645, 0.03955090035650631), (2646, 0.023461205922324656), (2647, 0.018963476962447892), (2648, 0.03142412591928336), (2649, 0.024158988649360304), (2650, 0.027729035154971292), (2651, 0.022914785283600473), (2652, 0.020977371151101654), (2653, 0.021109493140411332), (2654, 0.013916721605751668), (2655, 0.018356894860703753), (2656, 0.032838106181859596), (2657, 0.025222628657001853), (2658, 0.02827634823160386), (2659, 0.04204323064406632), (2660, 0.025221062256500153), (2661, 0.0556319271905269), (2662, 0.023516086773407784), (2663, 0.034801109690039245), (2664, 0.04420400445799169), (2665, 0.026593092528986867), (2666, 0.017370396390847066), (2667, 0.01747980283489513), (2668, 0.02056539236744618), (2669, 0.03208398316542676), (2670, 0.04065738313900261), (2671, 0.032488205884209344), (2672, 0.01854533020300967), (2673, 0.026897888907715134), (2674, 0.034146962760773135), (2675, 0.022287797694677598), (2676, 0.02123037104277993), (2677, 0.03177454750082933), (2678, 0.058577943550004), (2679, 0.04052009318470559), (2680, 0.04320061543995386), (2681, 0.04336251230552042), (2682, 0.026239629898000796), (2683, 0.02668136105209451), (2684, 0.021836887474245916), (2685, 0.052498205541426715), (2686, 0.039144647515547), (2687, 0.03720024479212829), (2688, 0.03720054865183385), (2689, 0.026280923812803125), (2690, 0.011448511641806575), (2691, 0.022576905847257033), (2692, 1.0000000000000002), (2693, 0.020484610532771088), (2694, 0.016819628580086086), (2695, 0.0), (2696, 0.012594162378923149), (2697, 0.02467213929026065), (2698, 0.03245163529788929), (2699, 0.032814786134992405), (2700, 0.056631959773514), (2701, 0.029001700319007197), (2702, 0.05025971494992797), (2703, 0.02176413998749039), (2704, 0.023444160401824923), (2705, 0.03711008771121753), (2706, 0.02828818784305172), (2707, 0.029166713930772553), (2708, 0.03230284378973816), (2709, 0.017008334477380267), (2710, 0.022358984637871483), (2711, 0.01381473917083422), (2712, 0.05055887856738977), (2713, 0.08171811843132422), (2714, 0.010824368515554749), (2715, 0.023515411071170954), (2716, 0.023982469963921997), (2717, 0.028614257236028243), (2718, 0.05267100110758513), (2719, 0.02550112139456198), (2720, 0.02548703652209776), (2721, 0.020329116781290003), (2722, 0.019281632324183087), (2723, 0.03010123792698723), (2724, 0.06462006798657459), (2725, 0.02641598653162996), (2726, 0.02468858755884857), (2727, 0.04778712687091025), (2728, 0.1389367222291881), (2729, 0.02422674043959179), (2730, 0.03118943449856129), (2731, 0.03511208248392694), (2732, 0.04817381041586036), (2733, 0.026699428806356153), (2734, 0.012607206228346803), (2735, 0.022542866015977693), (2736, 0.04049620383071209), (2737, 0.031250859005952585), (2738, 0.0294720386402308), (2739, 0.01843163266109237), (2740, 0.025364088901198806), (2741, 0.02798972773555638), (2742, 0.022730448659846587), (2743, 0.03692361503783412), (2744, 0.015004007737858219), (2745, 0.019350377398074874), (2746, 0.0272524244395439), (2747, 0.007958465561750224), (2748, 0.018518255854038858), (2749, 0.015206863615744061), (2750, 0.020357304393470433), (2751, 0.020058647386554874), (2752, 0.07634800164014607), (2753, 0.01920534871778113), (2754, 0.04213275524502332), (2755, 0.018701960332142574), (2756, 0.0408680134346392), (2757, 0.0286633675824756), (2758, 0.03714679839482893), (2759, 0.024852201292068894), (2760, 0.03969548281511724), (2761, 0.02306923912539438), (2762, 0.003779185768615311), (2763, 0.027124449962532455), (2764, 0.032922389565916324), (2765, 0.022042630413394527), (2766, 0.02350587048620612), (2767, 0.030896531378110645), (2768, 0.02265638086375489), (2769, 0.029178343345385344), (2770, 0.0260405530918137), (2771, 0.023898365367666652), (2772, 0.01897423807694021), (2773, 0.022308629498610393), (2774, 0.013758580384024357), (2775, 0.02375223905451012), (2776, 0.029781902211685023), (2777, 0.01247300474265204), (2778, 0.028531270390847473), (2779, 0.00790298568907158), (2780, 0.034554214676045955), (2781, 0.024272377847850968), (2782, 0.024341364533142937), (2783, 0.01839530706734753), (2784, 0.028885998689094187), (2785, 0.04447999058789617), (2786, 0.04582125869845393), (2787, 0.025283086710403316), (2788, 0.017847429810957504), (2789, 0.043367907141745404), (2790, 0.06063993363951741), (2791, 0.040778591101456874), (2792, 0.029041868385631442), (2793, 0.022073596272115657), (2794, 0.008287877146701485), (2795, 0.05287621779733937), (2796, 0.03714924664909617), (2797, 0.028659162573281494), (2798, 0.0193542246677669), (2799, 0.0283291966158325), (2800, 0.011500436498126848), (2801, 0.0581299521693054), (2802, 0.04119820028687324), (2803, 0.0074244349345546565), (2804, 0.04160736360651507), (2805, 0.029286449602984224), (2806, 0.0296316257082465), (2807, 0.016761432074186226), (2808, 0.01889993562722959), (2809, 0.02738948581395627), (2810, 0.018647824494004504), (2811, 0.023909104045675963), (2812, 0.01110840387673498), (2813, 0.035329389989748314), (2814, 0.02124897480314663), (2815, 0.022673743129717608), (2816, 0.027521025093375475), (2817, 0.03427404748403746), (2818, 0.051621083955625806), (2819, 0.02647816942908232), (2820, 0.023975263042325924), (2821, 0.020975732711523802), (2822, 0.02095095830358048), (2823, 0.021176147436357512), (2824, 0.023758530335484744), (2825, 0.0315523269831158), (2826, 0.021084392191632627), (2827, 0.018487824634292136), (2828, 0.045377458464141554), (2829, 0.01971385035436379), (2830, 0.018824399939808757), (2831, 0.021277352013394705), (2832, 0.02927728376171922), (2833, 0.026885915037028953), (2834, 0.02216807824607659), (2835, 0.06601592080346745), (2836, 0.02984853016480226), (2837, 0.028882685509956766), (2838, 0.05051563234291757), (2839, 0.026105386097591034), (2840, 0.02064643100276072), (2841, 0.031048696456701063), (2842, 0.055956552447181965), (2843, 0.05887651178291954), (2844, 0.018690929401813904), (2845, 0.03704044255468046), (2846, 0.01971643856696962), (2847, 0.04018867311214227), (2848, 0.020001432546677637), (2849, 0.04397324849510754), (2850, 0.027624355789925874), (2851, 0.03367090478793596), (2852, 0.014556537026994722), (2853, 0.013404462825008595), (2854, 0.015254900653179058), (2855, 0.027045121753363866), (2856, 0.027628648059946165), (2857, 0.0378772983235653), (2858, 0.012990009086552528), (2859, 0.015820206784474967), (2860, 0.015929725713340115), (2861, 0.05477373333272203), (2862, 0.030633494949911775), (2863, 0.004516042917703162), (2864, 0.011910804235462442), (2865, 0.02922761196127583), (2866, 0.023255594395420846), (2867, 0.013713881224905126), (2868, 0.021194951269088456), (2869, 0.011313790041694246), (2870, 0.025705405770254187), (2871, 0.03354022012048489), (2872, 0.05301894600053451), (2873, 0.03355122684958547), (2874, 0.035278071108155416), (2875, 0.019499326412182463), (2876, 0.015718274211968686), (2877, 0.03408852701762027), (2878, 0.028937965041504025), (2879, 0.024482427851083753), (2880, 0.025965497859415862), (2881, 0.02087530562314567), (2882, 0.02585945130596829), (2883, 0.047110649667549735), (2884, 0.017543191517533724), (2885, 0.029281536615329666), (2886, 0.041991806832637577), (2887, 0.022028565654330205), (2888, 0.01987541897576803), (2889, 0.0041331498173314), (2890, 0.02737008947567971), (2891, 0.019027331420161386), (2892, 0.03707863443528112), (2893, 0.02562813834886641), (2894, 0.032916774191768035), (2895, 0.022650066671159198), (2896, 0.02689337923989546), (2897, 0.019520778135539835), (2898, 0.03170212227711801), (2899, 0.025576286667818672), (2900, 0.024323257414484545), (2901, 0.0), (2902, 0.02375042656730832), (2903, 0.02317556192950829), (2904, 0.021771633770829864), (2905, 0.01673738123290643), (2906, 0.03458380241366369), (2907, 0.023105905416536905), (2908, 0.046304198557180785), (2909, 0.04418372558096431), (2910, 0.019700341471601244), (2911, 0.039751760292130185), (2912, 0.019382093927527204), (2913, 0.019025612402940893), (2914, 0.0194730239197129), (2915, 0.03325025233880233), (2916, 0.023767670326606156), (2917, 0.03934672154651297), (2918, 0.025916799370500284), (2919, 0.011501168277826919), (2920, 0.03808528860998081), (2921, 0.015506479340922563), (2922, 0.05185082819484334), (2923, 0.04238761186726765), (2924, 0.031226181431214042), (2925, 0.018037082061186198), (2926, 0.0780990949801574), (2927, 0.033865255366918395), (2928, 0.026775902464797097), (2929, 0.037656269018778256), (2930, 0.026601034184189562), (2931, 0.023575509034120406), (2932, 0.021200885897437884), (2933, 0.02014897843852178), (2934, 0.025175647817148063), (2935, 0.022946257754000065), (2936, 0.019355826131268586), (2937, 0.0219222092685822), (2938, 0.041323582373053995), (2939, 0.016865150684702096), (2940, 0.013148644920022708), (2941, 0.031094631935282786), (2942, 0.018606394168316578), (2943, 0.03774471540557069), (2944, 0.03412682119644655), (2945, 0.023384331204022515), (2946, 0.02471219864739749), (2947, 0.023011828122529318), (2948, 0.014045608609794681), (2949, 0.04462161348432913), (2950, 0.04292596616155516), (2951, 0.09043224430536023), (2952, 0.0387419381882619), (2953, 0.0), (2954, 0.05210053393655038), (2955, 0.02590797607850565), (2956, 0.020071772105520785), (2957, 0.018654511161597654), (2958, 0.0384214841484552), (2959, 0.009323443133136091), (2960, 0.023412756835116004), (2961, 0.03411889081293363), (2962, 0.022625428367956803), (2963, 0.019658490189664025), (2964, 0.02385955603642205), (2965, 0.04627287596021584), (2966, 0.009182007216395147), (2967, 0.021510870541940057), (2968, 0.02495382354810839), (2969, 0.016643777962059948), (2970, 0.07567846966924142), (2971, 0.022679748946280734), (2972, 0.024512405654470614), (2973, 0.017542848942501507), (2974, 0.031854440447766655), (2975, 0.04295256139231312), (2976, 0.027444895473954557), (2977, 0.015068967214974843), (2978, 0.04486678650391136), (2979, 0.015070163469691623), (2980, 0.029227799803626713), (2981, 0.031060127968065704), (2982, 0.03613686806590032), (2983, 0.03306407439289775), (2984, 0.002254114180424327), (2985, 0.03611823796046013), (2986, 0.017622474962250608), (2987, 0.033551293110424235), (2988, 0.02284702798270844), (2989, 0.0149279034532838), (2990, 0.03684774219317742), (2991, 0.043532804074874545), (2992, 0.05670874395308782), (2993, 0.029622725974236062), (2994, 0.030355444710736642), (2995, 0.024528280566114107), (2996, 0.021478210247733692), (2997, 0.020480903810587793), (2998, 0.011430491607665587), (2999, 0.027338365458966712), (3000, 0.025639414625818226), (3001, 0.0290287045452514), (3002, 0.005582417422727998), (3003, 0.016195878967440472), (3004, 0.027774297174809837), (3005, 0.019426314449019495), (3006, 0.02098753299406878), (3007, 0.01646498412981438), (3008, 0.020429590240754233), (3009, 0.025816495125253292), (3010, 0.04364609934732717), (3011, 0.021571332352703563), (3012, 0.04281500096266039), (3013, 0.08276752802790695), (3014, 0.01693856700460108), (3015, 0.03015720283599506), (3016, 0.020793023175498467), (3017, 0.02288910327708555), (3018, 0.06664004103515196), (3019, 0.02451618093135513), (3020, 0.01785467311505289), (3021, 0.026647870648469157), (3022, 0.027134964549744935), (3023, 0.029865276708979517), (3024, 0.031047091056335706), (3025, 0.017009864453779243), (3026, 0.025734003400140516), (3027, 0.026070173848063607), (3028, 0.03565019608079755), (3029, 0.028412267520328903), (3030, 0.017144878711769028), (3031, 0.017232829191617782), (3032, 0.0832604636550139), (3033, 0.016068332183276385), (3034, 0.02057908049380941), (3035, 0.023631568974933393), (3036, 0.02880448652552501), (3037, 0.027794117039991878), (3038, 0.02301499114191851), (3039, 0.02508140989987344), (3040, 0.024011050305140284), (3041, 0.024205181356704547), (3042, 0.025782552057929262), (3043, 0.03441121744253019), (3044, 0.03553146897328374), (3045, 0.03303878190697728), (3046, 0.03089121002168502), (3047, 0.02765198918172187), (3048, 0.04639221027080597), (3049, 0.0335572016787293), (3050, 0.06884413930885735), (3051, 0.042817105051386084), (3052, 0.038370609027682946), (3053, 0.032428088388587), (3054, 0.020135543950444593), (3055, 0.023044036675290494), (3056, 0.022959635079013736), (3057, 0.028961885678023807), (3058, 0.019060136666480224), (3059, 0.0426976564718444), (3060, 0.017915914530602872), (3061, 0.02379256156688047), (3062, 0.030085016182519287), (3063, 0.038670798812519), (3064, 0.04414836819405587), (3065, 0.03446973155016792), (3066, 0.04019360355591814), (3067, 0.03779579746421134), (3068, 0.029817776920983287), (3069, 0.025281632395630926), (3070, 0.013737712973184326), (3071, 0.0031480833719830796), (3072, 0.0261704867266358), (3073, 0.027639566975313105), (3074, 0.029626747871958646), (3075, 0.025770397134088716), (3076, 0.02321782153450814), (3077, 0.015057661502384813), (3078, 0.040091534590874), (3079, 0.04085463046297087), (3080, 0.03124833029047823), (3081, 0.015188093509129244), (3082, 0.022763297835283455), (3083, 0.04257414053535647), (3084, 0.023528037076518536), (3085, 0.014585751429441976), (3086, 0.022011980649250883), (3087, 0.01954377208184228), (3088, 0.04839492336813506), (3089, 0.050081748473517845), (3090, 0.021872004851274766), (3091, 0.04432982867402104), (3092, 0.013706066764165165), (3093, 0.013964981030075808), (3094, 0.06939252826317988), (3095, 0.024215212965504922), (3096, 0.02764814298459556), (3097, 0.024503467846250016), (3098, 0.01874052203216034), (3099, 0.014146996101483032), (3100, 0.04243706431498813), (3101, 0.018214594750899885), (3102, 0.05387629719364498), (3103, 0.03478357132075259), (3104, 0.016939051932331833), (3105, 0.013050110570353258), (3106, 0.025979430643383435), (3107, 0.025427125665882212), (3108, 0.03390127918821542), (3109, 0.03012892093203633), (3110, 0.027453099083152938), (3111, 0.024651520247299705), (3112, 0.02196251336800281), (3113, 0.028309676204023394), (3114, 0.0346127450743515), (3115, 0.035069101750164804), (3116, 0.02117053418822237), (3117, 0.02060885694393612), (3118, 0.02622313515322683), (3119, 0.037803350186465086), (3120, 0.030178495212244347), (3121, 0.025330292280610518), (3122, 0.027351016299116758), (3123, 0.01765696436864793), (3124, 0.011343118460069399), (3125, 0.03169048248521472), (3126, 0.02673796430838216), (3127, 0.012550429420189106), (3128, 0.018888427451552565), (3129, 0.010802892686345244), (3130, 0.039054775373366046), (3131, 0.020515480577884757), (3132, 0.020344372539086483), (3133, 0.030874302653193773), (3134, 0.01922882740566886), (3135, 0.03427304851286166), (3136, 0.024986447992548348), (3137, 0.021157413171004256), (3138, 0.014932851270524985), (3139, 0.0428324240721384), (3140, 0.02559876325432555), (3141, 0.018015770007059954), (3142, 0.02219071541424732), (3143, 0.13976108179834518), (3144, 0.036535632727188974), (3145, 0.03521773206304809), (3146, 0.04863188633785127), (3147, 0.03765776571544408), (3148, 0.05734567201477365), (3149, 0.016975226212182382), (3150, 0.01987593677571406), (3151, 0.03506958776926661), (3152, 0.04807956558738709), (3153, 0.023229931061603894), (3154, 0.040534389855914274), (3155, 0.027105497970360368), (3156, 0.025119051337981875), (3157, 0.022105182853637533), (3158, 0.046436023827586305), (3159, 0.04120505262606401), (3160, 0.016552695496216015), (3161, 0.03076660243735692), (3162, 0.028878278090368293), (3163, 0.026290003132509943), (3164, 0.033532452427804046), (3165, 0.023747426924755666), (3166, 0.029867363159795234), (3167, 0.019587480197399264), (3168, 0.006178735738629183), (3169, 0.024182981089910474), (3170, 0.04708969673020936), (3171, 0.018174011197174343), (3172, 0.02375549910399464), (3173, 0.028100476897461014), (3174, 0.024775411538424455), (3175, 0.039731590364806654), (3176, 0.01761544740029063), (3177, 0.023699293618480208), (3178, 0.023041319621081562), (3179, 0.027412168219477808), (3180, 0.02575197982159101), (3181, 0.019657686522238434), (3182, 0.030536965425295562), (3183, 0.03683439649617689), (3184, 0.06821656335592548), (3185, 0.07407690571061766), (3186, 0.02677288547384394), (3187, 0.027543273408737457), (3188, 0.009483086862661604), (3189, 0.015163764461537556), (3190, 0.01977600277286354), (3191, 0.09927635606650675), (3192, 0.021620463182673976), (3193, 0.032161966224602406), (3194, 0.017895379084724713), (3195, 0.01546432517520761), (3196, 0.11088598897850141), (3197, 0.05621263900228305), (3198, 0.01725846453770347), (3199, 0.018129572693833848), (3200, 0.01426373775541036), (3201, 0.010433095315041252), (3202, 0.03267402253383271), (3203, 0.06100151804128787), (3204, 0.019570097356908005), (3205, 0.0394259106750379), (3206, 0.024312441622944332), (3207, 0.016556129271304034), (3208, 0.02996001027376553), (3209, 0.015902425599068185), (3210, 0.0292214843239388), (3211, 0.029350077586597016), (3212, 0.03600562292922621), (3213, 0.020019081307635935), (3214, 0.01976038498592257), (3215, 0.021654941352924187), (3216, 0.020398477423210184), (3217, 0.01594214838618966), (3218, 0.03350662631511546), (3219, 0.024707852780707043), (3220, 0.013546432760285889), (3221, 0.013374408477450344), (3222, 0.04019411702592739), (3223, 0.03390510987944352), (3224, 0.02443930500540048), (3225, 0.015491638278758685), (3226, 0.016254548373943287), (3227, 0.019793541236463045), (3228, 0.024785005531953105), (3229, 0.011936355962065284), (3230, 0.03171946371024621), (3231, 0.025380047551392254), (3232, 0.027473847818139368), (3233, 0.02092801948677478), (3234, 0.016223156199681774), (3235, 0.026417470716415148), (3236, 0.020235988883921682), (3237, 0.002962296842183341), (3238, 0.022886998553888795), (3239, 0.020901069251388668), (3240, 0.023208445825797584), (3241, 0.03792009410539891), (3242, 0.037562387659004576), (3243, 0.02949050153656811), (3244, 0.022706511984898523), (3245, 0.027587058483317186), (3246, 0.09338986817684132), (3247, 0.025385704687337633), (3248, 0.019981091746730285), (3249, 0.023534061991497515), (3250, 0.0466769281301673), (3251, 0.03228224266804525), (3252, 0.022583312313345302), (3253, 0.05357021559070738), (3254, 0.013989306860139102), (3255, 0.038740788329244415), (3256, 0.0029538280181322252), (3257, 0.019591496600699837), (3258, 0.0345478078996875), (3259, 0.022800194015890615), (3260, 0.016007667195470386), (3261, 0.05337471469362665), (3262, 0.01964022407638633), (3263, 0.014995030841917677), (3264, 0.02739337531551589), (3265, 0.09343680488998729), (3266, 0.016237241321124064), (3267, 0.03812625355987073), (3268, 0.014086450156245666), (3269, 0.01925117581985077), (3270, 0.026493852374483248), (3271, 0.026835623312903765), (3272, 0.020199670836916123), (3273, 0.03490952085880952), (3274, 0.023083462137767755), (3275, 0.02547317308810128), (3276, 0.026511025345176197), (3277, 0.029629483625539677), (3278, 0.03963635165743676), (3279, 0.024292365923314643), (3280, 0.0418944108809058), (3281, 0.022554281614954565), (3282, 0.02526359515306146), (3283, 0.050284993233096535), (3284, 0.060056551152152256), (3285, 0.009059660354422959), (3286, 0.020714582599261046), (3287, 0.03948281693578764), (3288, 0.026609426564429748), (3289, 0.03490978129837153), (3290, 0.014768669339454218), (3291, 0.07583347483404707), (3292, 0.017861168814581028), (3293, 0.018538667808729214), (3294, 0.025387938397514527), (3295, 0.022019690119789572), (3296, 0.03388590103605218), (3297, 0.024579216670363647), (3298, 0.02396701764865672), (3299, 0.019839820012798902), (3300, 0.02924527901933579), (3301, 0.042111665409688345), (3302, 0.02834094677417397), (3303, 0.04096225654261664), (3304, 0.01458291802730031), (3305, 0.020924929939492645), (3306, 0.02759652727889948), (3307, 0.02792747752738839), (3308, 0.010498190017629328), (3309, 0.05185697133574824), (3310, 0.028531079151158344), (3311, 0.05654851635170975), (3312, 0.04681423744996394), (3313, 0.06223161618607033), (3314, 0.022298554877898565), (3315, 0.02667125789455013), (3316, 0.025309275408937643), (3317, 0.03647537223211262), (3318, 0.024086752986777975), (3319, 0.0233056095019645), (3320, 0.048806481290301906), (3321, 0.023447542626973836), (3322, 0.0453919701674034), (3323, 0.019771714408522413), (3324, 0.02186968705880301), (3325, 0.028270981404491056), (3326, 0.024737081505484072), (3327, 0.0355394619261322), (3328, 0.01924891267973907), (3329, 0.05922012182011181), (3330, 0.01889935320847746), (3331, 0.027569153190641058), (3332, 0.02160358996013175), (3333, 0.01859812765164024), (3334, 0.014710487021697496), (3335, 0.025699067056370484), (3336, 0.027182076804986723), (3337, 0.04050657602845042), (3338, 0.052036976389363415), (3339, 0.04751146742517169), (3340, 0.0406814251276451), (3341, 0.023737328950167558), (3342, 0.02109130638151905), (3343, 0.03301851089631461), (3344, 0.03159443058804312), (3345, 0.019290090463163774), (3346, 0.021106820999661696), (3347, 0.025110947465928617), (3348, 0.021258814794977085), (3349, 0.015425734106562197), (3350, 0.011376682053806986), (3351, 0.03922892290076732), (3352, 0.013179109772915112), (3353, 0.023230909441965673), (3354, 0.036610798852627836), (3355, 0.04741674480682868), (3356, 0.020390354235937665), (3357, 0.026176838311172727), (3358, 0.057911792724331904), (3359, 0.027842577660282634), (3360, 0.02584714381435598), (3361, 0.023477359073102548), (3362, 0.03155511765662993), (3363, 0.06910381056140727), (3364, 0.034054378485422906), (3365, 0.02768876564186648), (3366, 0.02407331139123679), (3367, 0.021294153676893225), (3368, 0.028668077184162435), (3369, 0.0209378461956957), (3370, 0.020570965154320126), (3371, 0.02554069751427354), (3372, 0.027102842055906635), (3373, 0.03963943123450112), (3374, 0.03401154809591189), (3375, 0.01136979440044343), (3376, 0.02929495371145438), (3377, 0.01437155907058841), (3378, 0.03300051964872329), (3379, 0.02111146777528055), (3380, 0.017365804976708078), (3381, 0.007600755237439884), (3382, 0.03183890515173695), (3383, 0.040834942826471717), (3384, 0.030100088360295263), (3385, 0.030118192459987116), (3386, 0.017462416819474524), (3387, 0.02482485865749289), (3388, 0.02766259401661216), (3389, 0.08770633468877351), (3390, 0.02623856857887948), (3391, 0.01024744706510946), (3392, 0.03770702091159164), (3393, 0.023996318252491745), (3394, 0.03525741797274904), (3395, 0.013135144008940336), (3396, 0.01980876956618861), (3397, 0.024105114265250437), (3398, 0.01999004931718423), (3399, 0.030825118588024128), (3400, 0.019522120015958804), (3401, 0.020143655940207797), (3402, 0.013530682266190126), (3403, 0.030985633655645405), (3404, 0.027080505476954047), (3405, 0.04094797201714289), (3406, 0.027331247510792182), (3407, 0.04134659618203129), (3408, 0.025561627884745468), (3409, 0.0325239734941571), (3410, 0.013426167283617374), (3411, 0.012856004527518694), (3412, 0.037584984263184046), (3413, 0.02013600614672402), (3414, 0.030554198348348886), (3415, 0.02552490888533145), (3416, 0.030253732659068677), (3417, 0.02465033032388943), (3418, 0.07027731173040883), (3419, 0.020664388576336852), (3420, 0.02717524928221425), (3421, 0.04162076438039558), (3422, 0.02696771425287091), (3423, 0.02352183365388459), (3424, 0.011635519254950452), (3425, 0.022214482084886703), (3426, 0.01336121625927254), (3427, 0.025661994954122934), (3428, 0.02417495242669064), (3429, 0.01951329864783103), (3430, 0.03468364862974866), (3431, 0.02468677642949335), (3432, 0.018159860820574636), (3433, 0.0248655250790058), (3434, 0.026993869867161478), (3435, 0.037954335068869444), (3436, 0.03692836303172534), (3437, 0.08207627720420135), (3438, 0.04436151102523978), (3439, 0.025322300348803548), (3440, 0.055548814834994464), (3441, 0.017657616275208392), (3442, 0.02318110443682621), (3443, 0.026050690091277397), (3444, 0.022314231863090506), (3445, 0.02188452708374964), (3446, 0.01945320258808761), (3447, 0.021643694186215305), (3448, 0.024463246967203825), (3449, 0.022303585739754644), (3450, 0.0220805579068799), (3451, 0.015445109236239514), (3452, 0.028649545297666154), (3453, 0.01696767554385573), (3454, 0.02346032278112651), (3455, 0.03904336475671073), (3456, 0.050494367616814015), (3457, 0.024074035334481016), (3458, 0.024838230854792927), (3459, 0.041071880259237394), (3460, 0.032161774475124943), (3461, 0.021819513941974837), (3462, 0.035162211527786535), (3463, 0.02332324792315588), (3464, 0.014648987273087239), (3465, 0.0241195135553341), (3466, 0.031572445289301074), (3467, 0.02847641712968264), (3468, 0.02415273998549617), (3469, 0.0182587567993657), (3470, 0.04264039097758633), (3471, 0.023108414569425303), (3472, 0.021552358262197327), (3473, 0.021741902904297943), (3474, 0.033975844595894096), (3475, 0.03209734837953648), (3476, 0.055640941816815996), (3477, 0.03099365299514598), (3478, 0.073335286836717), (3479, 0.03051139796177981), (3480, 0.0134636221013676), (3481, 0.02795208344294909), (3482, 0.028221799576689768), (3483, 0.02010005362698712), (3484, 0.030888508548101257), (3485, 0.03084158694837976), (3486, 0.039760939240093614), (3487, 0.023559181573634055), (3488, 0.0), (3489, 0.029465437157694785), (3490, 0.01834711507241863), (3491, 0.03271627408579006), (3492, 0.02135424031891101), (3493, 0.018140826024684704), (3494, 0.020670470174551793), (3495, 0.016997113792936433), (3496, 0.016461937759561153), (3497, 0.07283484607916459), (3498, 0.029779637111263933), (3499, 0.012448686437841132), (3500, 0.03456823193951916), (3501, 0.024492635507110085), (3502, 0.02309610986834051), (3503, 0.02503035210867225), (3504, 0.024528491535102465), (3505, 0.025282782588076532), (3506, 0.02414428531735619), (3507, 0.04468930865476148), (3508, 0.02045260870418574), (3509, 0.02609274586883348), (3510, 0.018686856467866463), (3511, 0.025482621064396263), (3512, 0.021831129683263627), (3513, 0.01203586065161106), (3514, 0.027243130775927785), (3515, 0.032506556243180516), (3516, 0.015124880053282028), (3517, 0.021179445794274936), (3518, 0.0264205383508775), (3519, 0.019111682603399995), (3520, 0.03684007775105454), (3521, 0.017832380791738586), (3522, 0.044233917653575046), (3523, 0.027877942617288543), (3524, 0.02748827852906323), (3525, 0.024941857150195344), (3526, 0.017027335368807024), (3527, 0.0377673715520153), (3528, 0.023456236987960958), (3529, 0.01693999203924123), (3530, 0.02340587959163793), (3531, 0.03554332319810452), (3532, 0.06436995747606283), (3533, 0.023532546784362746), (3534, 0.042827694790346225), (3535, 0.011123891197591038), (3536, 0.043618921025492335), (3537, 0.01885308704015145), (3538, 0.02128658972092139), (3539, 0.06362827795371098), (3540, 0.007579319064694985), (3541, 0.024361631729006378), (3542, 0.04037828462696327), (3543, 0.03825954532675667), (3544, 0.030790899672967473), (3545, 0.022429102931011493), (3546, 0.018266642422975043), (3547, 0.016751011721083543), (3548, 0.03201184782506207), (3549, 0.05711612885851147), (3550, 0.029869452201349435), (3551, 0.02866314997638461), (3552, 0.028614016781194095), (3553, 0.031172975158128984), (3554, 0.04427476087659552), (3555, 0.027533487220186444), (3556, 0.0252315519871953), (3557, 0.04886206928910146), (3558, 0.02799719245849322), (3559, 0.020617504109922857), (3560, 0.02017250863779249), (3561, 0.023083116078790343), (3562, 0.03929767958650756), (3563, 0.027454563912623665), (3564, 0.025407451201693274), (3565, 0.05454334594447241), (3566, 0.04010508924263252), (3567, 0.0300395308750417), (3568, 0.023960738089322343), (3569, 0.041590150702975406), (3570, 0.01835056976778899), (3571, 0.02364249255277475), (3572, 0.023988211375519812), (3573, 0.024455348852419363), (3574, 0.03200148319200915), (3575, 0.026753179036571973), (3576, 0.024212972995837644), (3577, 0.04020416135353823), (3578, 0.03237578786093945), (3579, 0.018203361683627354), (3580, 0.014678260512643072), (3581, 0.021694770205063982), (3582, 0.05897090488052787), (3583, 0.09582047984024326), (3584, 0.03991968385499215), (3585, 0.057995656646771206), (3586, 0.01393179405376634), (3587, 0.02624353379336848), (3588, 0.02025760088915804), (3589, 0.019704242927772855), (3590, 0.01989621546148979), (3591, 0.01064475526906997), (3592, 0.024930047311572206), (3593, 0.03582815614259404), (3594, 0.02388542375940323), (3595, 0.0325445760271962), (3596, 0.020104487062685254), (3597, 0.03747705795406229), (3598, 0.025540636429574465), (3599, 0.017146074755126733), (3600, 0.02751364923286859), (3601, 0.023128846333873736), (3602, 0.036973038423804366), (3603, 0.042174094879350456), (3604, 0.012039616886189325), (3605, 0.027497479062447913), (3606, 0.030724517307117706), (3607, 0.008899238508563233), (3608, 0.05595868351687299), (3609, 0.025377964006158722), (3610, 0.020279124534499003), (3611, 0.04208077366547604), (3612, 0.028037308293965682), (3613, 0.08432188962135805), (3614, 0.025809900002694296), (3615, 0.024217327950952022), (3616, 0.023342024428413), (3617, 0.023382208840274005), (3618, 0.030367638506166875), (3619, 0.010059439239980136), (3620, 0.015862650603890555), (3621, 0.017059569867541646), (3622, 0.015767138694508857), (3623, 0.03973526953581653), (3624, 0.05443359654524291), (3625, 0.020917240772086742), (3626, 0.01779119467432867), (3627, 0.027951931221378623), (3628, 0.02599057123611267), (3629, 0.03427994762967817), (3630, 0.028379204829569273), (3631, 0.006281581858239394), (3632, 0.031249720600737003), (3633, 0.012369665706216847), (3634, 0.020669728100115012), (3635, 0.023927985769457663), (3636, 0.02584621411888074), (3637, 0.0519674779229177), (3638, 0.03772797171144683), (3639, 0.018536148717622172), (3640, 0.02404904147493925), (3641, 0.01860698972611577), (3642, 0.04301716809605601), (3643, 0.031832732965245226), (3644, 0.016723969622962537), (3645, 0.019018011806363443), (3646, 0.08041137777597729), (3647, 0.022108828648579045), (3648, 0.03427859159700134), (3649, 0.033462907232834765), (3650, 0.018245674899367986), (3651, 0.04304489239940021), (3652, 0.027516010404163002), (3653, 0.024290194957149788), (3654, 0.049239256728465325), (3655, 0.03721351515344846), (3656, 0.030728491158853226), (3657, 0.0765439865033452), (3658, 0.04686369926016612), (3659, 0.07350683727800074), (3660, 0.04146216490795247), (3661, 0.019313862128103446), (3662, 0.027293406913326202), (3663, 0.019593193334682575), (3664, 0.04477025874744367), (3665, 0.02329754558304958), (3666, 0.023499192865934958), (3667, 0.02584546118565373), (3668, 0.027288038353344306), (3669, 0.011441236810144488), (3670, 0.016335769086090825), (3671, 0.04289814328962083), (3672, 0.010449098831645404), (3673, 0.02231927153043602), (3674, 0.026156983119908887), (3675, 0.03393435447353171), (3676, 0.02558291366688732), (3677, 0.053311117232874496), (3678, 0.017229516135507293), (3679, 0.01384034533179683), (3680, 0.02519200421000644), (3681, 0.08431421156140159), (3682, 0.028483279860614257), (3683, 0.03014041558069471), (3684, 0.03596109271093662), (3685, 0.034133970762230154), (3686, 0.047758891039147586), (3687, 0.0317570553664749), (3688, 0.019154177870700808), (3689, 0.0349133719169567), (3690, 0.03086358182902169), (3691, 0.028456761892178564), (3692, 0.06304752400256958), (3693, 0.02403092355741723), (3694, 0.055617138609294445), (3695, 0.01578589495864327), (3696, 0.02314290570687643), (3697, 0.014951148954650769), (3698, 0.016736582561837136), (3699, 0.032313380555932664), (3700, 0.017316965973218135), (3701, 0.02593539161740461), (3702, 0.030241224007126068), (3703, 0.019413135187590018), (3704, 0.02096478635972042), (3705, 0.027531933993758854), (3706, 0.028567760555105057), (3707, 0.017161727127084903), (3708, 0.02708681180464231), (3709, 0.013687855136123233), (3710, 0.04903348011435866), (3711, 0.03702603394340777), (3712, 0.07246903967367778), (3713, 0.031924060662048795), (3714, 0.021695040562372696), (3715, 0.01389258174752927), (3716, 0.015157044717288572), (3717, 0.019093934637672692), (3718, 0.021989117917953348), (3719, 0.042997005570891894), (3720, 0.0185825872801309), (3721, 0.017637410020532727), (3722, 0.024134185550449445), (3723, 0.008225130960188544), (3724, 0.04058444497100012), (3725, 0.021559070614232553), (3726, 0.022734077127640785), (3727, 0.022428736238727712), (3728, 0.02583366666470037), (3729, 0.02132936666178292), (3730, 0.014362912362278808), (3731, 0.012820856430431828), (3732, 0.01842478693252241), (3733, 0.01291139689728828), (3734, 0.012469081790105193), (3735, 0.02482388029661115)]\n"
     ]
    }
   ],
   "source": [
    "# getting a list of similar list\n",
    "recommendation_score = list(enumerate(similarity_score[index_of_close_match_movie]))\n",
    "print(recommendation_score)"
   ]
  },
  {
   "cell_type": "code",
   "execution_count": 52,
   "id": "00073265",
   "metadata": {},
   "outputs": [
    {
     "data": {
      "text/plain": [
       "3736"
      ]
     },
     "execution_count": 52,
     "metadata": {},
     "output_type": "execute_result"
    }
   ],
   "source": [
    "len(recommendation_score)"
   ]
  },
  {
   "cell_type": "code",
   "execution_count": 53,
   "id": "bf38d9cd",
   "metadata": {},
   "outputs": [
    {
     "name": "stdout",
     "output_type": "stream",
     "text": [
      "[(2692, 1.0000000000000002), (3143, 0.13976108179834518), (2728, 0.1389367222291881), (634, 0.13520044024672911), (2252, 0.12265403970599754), (382, 0.12145468496042415), (2417, 0.1186884804039211), (2092, 0.11777758140538169), (3196, 0.11088598897850141), (1563, 0.11079196541721514), (1051, 0.10987444384122791), (1592, 0.10967883632201945), (527, 0.1067170690493703), (1827, 0.10507775798260025), (708, 0.10427860291671201), (1696, 0.10202145153060221), (1715, 0.0997820360198862), (1140, 0.0992958535284642), (3191, 0.09927635606650675), (659, 0.0976951620206031), (232, 0.09615281947952904), (3583, 0.09582047984024326), (3265, 0.09343680488998729), (3246, 0.09338986817684132), (1745, 0.09314878942633516), (787, 0.09292012043516104), (2177, 0.09253970895315348), (1169, 0.09214851698286565), (2372, 0.09127826059349829), (2951, 0.09043224430536023), (2436, 0.08959326446088507), (1655, 0.08942806942116568), (3389, 0.08770633468877351), (561, 0.08645696390481837), (102, 0.08593571843252205), (1117, 0.08538873516296874), (1364, 0.08511955598894846), (3613, 0.08432188962135805), (3681, 0.08431421156140159), (2362, 0.08392863359118481), (1059, 0.0838906662042122), (1466, 0.0833618829028483), (3032, 0.0832604636550139), (3013, 0.08276752802790695), (2294, 0.08256381050367631), (3437, 0.08207627720420135), (2457, 0.08197922126202953), (781, 0.0819129054642654), (2713, 0.08171811843132422), (125, 0.08167817070475686), (497, 0.08136735854516704), (2183, 0.08104045401015735), (1909, 0.08062151135873392), (3646, 0.08041137777597729), (440, 0.08023598712460209), (2008, 0.07867041390877226), (439, 0.0782029188358282), (2926, 0.0780990949801574), (1413, 0.07789103799983892), (1353, 0.07732946401626276), (364, 0.0772844010342507), (827, 0.07664092560650652), (3657, 0.0765439865033452), (1377, 0.07645633804697648), (2752, 0.07634800164014607), (3291, 0.07583347483404707), (2970, 0.07567846966924142), (1835, 0.0756743522948685), (2421, 0.07553945760545355), (1180, 0.07548044367545345), (1480, 0.07527120458743643), (919, 0.07413269002664238), (3185, 0.07407690571061766), (191, 0.0735131441184695), (3659, 0.07350683727800074), (3478, 0.073335286836717), (2298, 0.07333104406966061), (2227, 0.07316465864624097), (211, 0.07308905175648031), (2466, 0.0730485062690772), (937, 0.07292003018448143), (3497, 0.07283484607916459), (1211, 0.07260432767035478), (3712, 0.07246903967367778), (2387, 0.07230209050814095), (2075, 0.07226679592143595), (2039, 0.07190780504935472), (2585, 0.07184968239994034), (1235, 0.07163904675641422), (244, 0.07115081599346221), (1256, 0.07087772779159084), (1340, 0.07057268297135111), (1160, 0.07057074076315631), (1628, 0.07047140686597031), (3418, 0.07027731173040883), (1399, 0.07018504098409152), (2242, 0.069961882788103), (1203, 0.06978954207811319), (3094, 0.06939252826317988), (1439, 0.06925173658463657), (2019, 0.0692414260293902), (286, 0.06919067333022909), (1398, 0.06912593837152153), (3363, 0.06910381056140727), (1096, 0.06898594707219366), (379, 0.06887953551058269), (3050, 0.06884413930885735), (1908, 0.06870923169915498), (3184, 0.06821656335592548), (1314, 0.06812195965840279), (1941, 0.0679833016875573), (739, 0.06797971984964712), (1311, 0.06741845047773672), (245, 0.06739485450725821), (1200, 0.06725510134133908), (738, 0.06700803503503076), (1863, 0.066962374542417), (233, 0.06686760544568045), (3018, 0.06664004103515196), (14, 0.06636738523669591), (1800, 0.06618560419812959), (2835, 0.06601592080346745), (403, 0.06587815136949701), (2444, 0.06584593521393847), (1867, 0.06574001981651462), (2290, 0.06550026110654092), (2302, 0.06520776020626043), (2644, 0.06519322878814202), (1158, 0.06476186719302811), (2134, 0.06472519143714872), (2724, 0.06462006798657459), (557, 0.06445596667607559), (1911, 0.0644260087387305), (1334, 0.0643717726636572), (3532, 0.06436995747606283), (1950, 0.06418665417844603), (2070, 0.06385061982591331), (79, 0.06384282005359809), (3539, 0.06362827795371098), (2124, 0.06352009925571714), (219, 0.0635077630152648), (1675, 0.06343793597868994), (2400, 0.06337131694696027), (628, 0.0633036397578601), (1955, 0.063176629714892), (799, 0.06306068074237592), (3692, 0.06304752400256958), (1580, 0.06299955465704196), (2620, 0.06290707235564995), (1529, 0.06279055923058846), (809, 0.06274635830996245), (538, 0.06262161355186098), (624, 0.06243522573683687), (1257, 0.06236605549906967), (3313, 0.06223161618607033), (610, 0.06223033152688003), (1888, 0.06210146531139682), (1582, 0.06197376789966736), (1669, 0.06196974743169995), (161, 0.06196315322655698), (47, 0.0617640011852272), (2023, 0.06172193894390829), (788, 0.06167120249560048), (369, 0.06165205034193201), (1691, 0.06153712769387493), (481, 0.06151441057034374), (1218, 0.06131769550122117), (3203, 0.06100151804128787), (1349, 0.06085859672194744), (609, 0.06068653936045433), (944, 0.06065672828080447), (2790, 0.06063993363951741), (1387, 0.06053091500163012), (816, 0.06034484723171355), (1958, 0.06032667370767776), (850, 0.06023051815897915), (3284, 0.060056551152152256), (2399, 0.05994016529005425), (2401, 0.05971170485577648), (2121, 0.05971160868999442), (1098, 0.05970212886507421), (2071, 0.05963160547230481), (127, 0.059428064073090585), (869, 0.05931900153739978), (3329, 0.05922012182011181), (3582, 0.05897090488052787), (2843, 0.05887651178291954), (1636, 0.05887138260376977), (1317, 0.05884959956746195), (2406, 0.058658870727906785), (1083, 0.0586294097378546), (2678, 0.058577943550004), (746, 0.05848575348534226), (2586, 0.058439287916005986), (83, 0.05838204506361647), (1249, 0.058367378936810224), (994, 0.058320332288461736), (2548, 0.058278098945684906), (1597, 0.058258673280059514), (2801, 0.0581299521693054), (3585, 0.057995656646771206), (3358, 0.057911792724331904), (811, 0.05779872142084498), (479, 0.057760614825605), (2006, 0.057448450303884076), (400, 0.05739452354089486), (3148, 0.05734567201477365), (2088, 0.057311022927604344), (1290, 0.05726947108039755), (680, 0.05725514956236245), (1375, 0.05723078894190219), (1302, 0.057205598392816095), (3549, 0.05711612885851147), (2452, 0.056908481850568675), (197, 0.05671804882747949), (2992, 0.05670874395308782), (2204, 0.056669708549852364), (984, 0.05666796896262739), (2700, 0.056631959773514), (874, 0.05662217761236406), (2638, 0.05657889486747548), (2554, 0.0565534058819519), (3311, 0.05654851635170975), (3197, 0.05621263900228305), (2380, 0.05603709117314152), (1494, 0.055964609072163336), (3608, 0.05595868351687299), (2842, 0.055956552447181965), (915, 0.05590979385455504), (1285, 0.05590675453844984), (2300, 0.05577676276227865), (3476, 0.055640941816815996), (2661, 0.0556319271905269), (3694, 0.055617138609294445), (2268, 0.055613005990301605), (879, 0.055567299074891004), (3440, 0.055548814834994464), (540, 0.055365901476418795), (1808, 0.055346641402664556), (692, 0.05500874982171645), (2861, 0.05477373333272203), (389, 0.054723488726730746), (2622, 0.054678198132812), (3565, 0.05454334594447241), (2147, 0.054465095782050464), (3624, 0.05443359654524291), (2580, 0.0542978690609331), (1307, 0.054164896816436714), (1722, 0.053950618275045936), (1524, 0.05393932890805618), (2233, 0.05390414133072107), (302, 0.05389932858391814), (3102, 0.05387629719364498), (699, 0.05383779355463386), (1436, 0.05378774208396128), (796, 0.05377877385544478), (838, 0.05359109751707407), (3253, 0.05357021559070738), (1371, 0.053555036997361846), (2198, 0.053485374396645496), (459, 0.05346469592694357), (336, 0.053404503351261234), (3261, 0.05337471469362665), (3677, 0.053311117232874496), (2250, 0.053295841176497515), (652, 0.05322406054694356), (329, 0.053130741890045255), (1331, 0.053114959210172744), (1271, 0.05311150039966579), (1572, 0.05305647255841693), (457, 0.05302342182766643), (2872, 0.05301894600053451), (1503, 0.05297888267472381), (239, 0.05296603948615685), (2004, 0.05294456195763824), (2625, 0.052912209025794035), (1318, 0.0528906458946497), (2795, 0.05287621779733937), (1025, 0.0528676687780146), (105, 0.052795502129262845), (2061, 0.05267260633169587), (2718, 0.05267100110758513), (1540, 0.05266470398498731), (973, 0.05265768691955768), (1201, 0.052647020824387165), (1505, 0.05258159067529489), (603, 0.0525564767080494), (2685, 0.052498205541426715), (2395, 0.052467762428547136), (1723, 0.05239323732816051), (205, 0.05229748955464208), (1877, 0.05222808778499495), (2954, 0.05210053393655038), (3338, 0.052036976389363415), (1244, 0.05203686456537798), (2375, 0.05200264472809832), (3637, 0.0519674779229177), (2575, 0.051929590893703276), (2284, 0.05188118485165314), (313, 0.05187690069515141), (3309, 0.05185697133574824), (2922, 0.05185082819484334), (1322, 0.051783195658551766), (782, 0.05177578524710727), (501, 0.051736952758778786), (823, 0.051692218914009665), (618, 0.051661411913968495), (2818, 0.051621083955625806), (671, 0.051547104039969927), (2354, 0.05149253672548514), (760, 0.05142311276843468), (2005, 0.05137347823491687), (676, 0.051156666466003226), (2195, 0.05109534563658255), (135, 0.05085495484575566), (1963, 0.05082484946690831), (2313, 0.05078504361503471), (1656, 0.05077241202104499), (1728, 0.050642294208534194), (1649, 0.050640622487832646), (1108, 0.05058324259241173), (2712, 0.05055887856738977), (740, 0.050526062320398926), (2838, 0.05051563234291757), (3456, 0.050494367616814015), (897, 0.05048594162227764), (2191, 0.0504199929354773), (248, 0.05032415235858714), (2435, 0.05028875116142378), (3283, 0.050284993233096535), (2702, 0.05025971494992797), (1229, 0.05023541297830686), (1125, 0.050115992544537316), (720, 0.050093712589311716), (3089, 0.050081748473517845), (1862, 0.05001146597354066), (2521, 0.04989735278036176), (1354, 0.04984132004260788), (2532, 0.04982393272901886), (1321, 0.049688742696615315), (1258, 0.04962624044385065), (1627, 0.04958403491490925), (1684, 0.04949000708171466), (1833, 0.04946590496281134), (1898, 0.04945931712764482), (1006, 0.04944907824919639), (883, 0.04944285688719536), (1994, 0.04939841568593458), (729, 0.04930378240966855), (1382, 0.04928579414158878), (3654, 0.049239256728465325), (443, 0.04910671438237565), (1945, 0.04908322207556632), (1538, 0.04906857004912471), (1783, 0.049064917952454934), (3710, 0.04903348011435866), (504, 0.049029941571092056), (279, 0.0490286451289306), (1903, 0.049015346063503884), (2463, 0.049004459392430845), (2534, 0.0489927230155795), (747, 0.04897091407215681), (2057, 0.04894420127502426), (604, 0.04892360554455795), (970, 0.04891259770571825), (3557, 0.04886206928910146), (2502, 0.048852287757453004), (3320, 0.048806481290301906), (61, 0.04879797802949048), (246, 0.048757808436512305), (1697, 0.04870894832085894), (2578, 0.04867503645429328), (3146, 0.04863188633785127), (1281, 0.048537924558158474), (3088, 0.04839492336813506), (1709, 0.04832662350525248), (807, 0.048324221200468656), (270, 0.04830061508255142), (1734, 0.04825833734402656), (1056, 0.04820183225658963), (167, 0.0481831495279348), (2732, 0.04817381041586036), (1688, 0.048161280708026326), (726, 0.048134517710182186), (3152, 0.04807956558738709), (1756, 0.048078416662265644), (752, 0.047993833767245336), (5, 0.047907771411831786), (896, 0.04790192630845748), (2229, 0.04788061807852387), (1215, 0.04784353493711505), (2727, 0.04778712687091025), (3686, 0.047758891039147586), (1069, 0.04772731184635243), (734, 0.04772039424833808), (1560, 0.0476112357278075), (1831, 0.0475791843187463), (3339, 0.04751146742517169), (779, 0.04742296845080013), (3355, 0.04741674480682868), (217, 0.047404007702650644), (1679, 0.04739432657426752), (1646, 0.04736255647568172), (586, 0.04735861380258708), (780, 0.04730683252125053), (1618, 0.04712930246664186), (2883, 0.047110649667549735), (3170, 0.04708969673020936), (2024, 0.047030452925653096), (84, 0.047007489317544414), (13, 0.04698764966829802), (136, 0.04698049097736023), (119, 0.046972691780402046), (1753, 0.04695648137022863), (412, 0.046938104821050375), (644, 0.046901933577827494), (3658, 0.04686369926016612), (2076, 0.046843056440663944), (3312, 0.04681423744996394), (548, 0.046810183624420666), (1247, 0.046809159033938286), (181, 0.04680733446023353), (28, 0.04679725810381952), (3250, 0.0466769281301673), (842, 0.04665565068761753), (2461, 0.04660753633563993), (183, 0.04652968191661259), (3158, 0.046436023827586305), (1259, 0.04643447844760383), (1927, 0.04639880951227428), (3048, 0.04639221027080597), (2908, 0.046304198557180785), (1252, 0.046285845350497706), (1355, 0.046284412311404066), (2965, 0.04627287596021584), (2490, 0.046245741342220766), (34, 0.04622665872816289), (216, 0.04621892685130033), (2111, 0.046061554109065456), (1962, 0.04588996239753372), (1293, 0.045851544879758156), (484, 0.04582653779759504), (2786, 0.04582125869845393), (524, 0.04580736204391699), (2172, 0.04575806027707831), (990, 0.045706166092656535), (985, 0.04566695179793623), (503, 0.04553983524438439), (858, 0.04548478810324867), (639, 0.04544726504469981), (3322, 0.0453919701674034), (2517, 0.04538837171517672), (2828, 0.045377458464141554), (972, 0.04516102851032129), (1198, 0.04513021336386844), (1647, 0.04511858899104636), (1623, 0.04511671314015095), (407, 0.045114773416859495), (1973, 0.04508270924235279), (486, 0.045079856137141376), (17, 0.04506312785705567), (2346, 0.04504634147863565), (882, 0.04503055109012572), (1213, 0.04502444112067629), (2383, 0.04502201454501122), (1985, 0.045013203990833264), (118, 0.04500834093433462), (1762, 0.0449782360009164), (115, 0.04493068974657821), (1303, 0.04488421631791457), (2978, 0.04486678650391136), (1785, 0.04484766149699754), (687, 0.044839474097478606), (1176, 0.04482283325524065), (1381, 0.044780184698697836), (494, 0.04477677299282178), (3664, 0.04477025874744367), (3507, 0.04468930865476148), (1625, 0.044682833597699805), (1391, 0.044665117741215496), (1338, 0.044645757153131335), (2949, 0.04462161348432913), (1030, 0.04457123053705422), (428, 0.044568175447609396), (66, 0.044548168168592084), (1289, 0.04454808716819029), (2066, 0.04451580745238146), (2785, 0.04447999058789617), (3438, 0.04436151102523978), (3091, 0.04432982867402104), (3554, 0.04427476087659552), (3522, 0.044233917653575046), (647, 0.04420810433223378), (2664, 0.04420400445799169), (2909, 0.04418372558096431), (2356, 0.044182524761217604), (2458, 0.04418069691044271), (1894, 0.04417531635243043), (3064, 0.04414836819405587), (1763, 0.0440544714905763), (2849, 0.04397324849510754), (2167, 0.04392248856010393), (2220, 0.04388714728249788), (2479, 0.04388308753455382), (278, 0.04385657734473922), (3010, 0.04364609934732717), (3536, 0.043618921025492335), (2042, 0.043578766635185964), (151, 0.04354025623744492), (2991, 0.043532804074874545), (356, 0.04352434832760189), (860, 0.04350116187930603), (2013, 0.04345738285889221), (393, 0.043387388833466475), (2789, 0.043367907141745404), (2681, 0.04336251230552042), (1489, 0.04334909903370199), (2485, 0.043322814439275575), (1680, 0.04331516057863417), (737, 0.04330936061144902), (259, 0.04325538586634411), (1356, 0.04323079764442473), (2680, 0.04320061543995386), (958, 0.043150973403486115), (2082, 0.04315074225563461), (2020, 0.04311242133810968), (180, 0.043098607375767484), (370, 0.04306153656397987), (3651, 0.04304489239940021), (2385, 0.04304358134541473), (1923, 0.043038351118910516), (3642, 0.04301716809605601), (3719, 0.042997005570891894), (1427, 0.04297185619366049), (2975, 0.04295256139231312), (2950, 0.04292596616155516), (3671, 0.04289814328962083), (1015, 0.04288452506246131), (2438, 0.042873115116943666), (1341, 0.04284251898126264), (3139, 0.0428324240721384), (3534, 0.042827694790346225), (2099, 0.04282241649892488), (1990, 0.04281792577187514), (3051, 0.042817105051386084), (3012, 0.04281500096266039), (667, 0.04281341570986934), (1802, 0.042804853321486924), (70, 0.042772750903853386), (607, 0.0427676344146996), (3059, 0.0426976564718444), (383, 0.042685080821624026), (39, 0.04264543982144108), (3470, 0.04264039097758633), (3083, 0.04257414053535647), (214, 0.042487293499200954), (386, 0.04247047084535588), (2175, 0.04246604265444485), (3100, 0.04243706431498813), (257, 0.04242787528139884), (2923, 0.04238761186726765), (2168, 0.04237133869078237), (683, 0.04236488082612171), (510, 0.042364320724513765), (1344, 0.04230121524541069), (2032, 0.042281476090167296), (1490, 0.04225329743314894), (3603, 0.042174094879350456), (1103, 0.042164835779405344), (1857, 0.04215392472975045), (888, 0.042139731431447704), (2754, 0.04213275524502332), (24, 0.04212452226813274), (3301, 0.042111665409688345), (3611, 0.04208077366547604), (987, 0.042069164631122646), (2659, 0.04204323064406632), (872, 0.04201470386419992), (2886, 0.041991806832637577), (3280, 0.0418944108809058), (2603, 0.041865958694919554), (1133, 0.041729082682523504), (493, 0.04169941400902216), (2340, 0.04166852526508269), (3421, 0.04162076438039558), (2804, 0.04160736360651507), (3569, 0.041590150702975406), (1575, 0.04158239362023409), (691, 0.04158178197103708), (401, 0.041569006500167566), (1487, 0.041516078014152295), (276, 0.04146308285345594), (3660, 0.04146216490795247), (1975, 0.04145034598389086), (806, 0.04143453981955933), (163, 0.04142203176734968), (2126, 0.04137071664901009), (384, 0.04135649877655206), (3407, 0.04134659618203129), (2938, 0.041323582373053995), (1044, 0.04130815966135969), (1416, 0.041279078793245286), (1682, 0.0412339911647225), (3159, 0.04120505262606401), (2802, 0.04119820028687324), (1319, 0.041177064705219), (2155, 0.041123859441689496), (482, 0.041089890036092355), (3459, 0.041071880259237394), (2491, 0.041049162268426906), (297, 0.04104027688345476), (2414, 0.040972909737865965), (3303, 0.04096225654261664), (1588, 0.04095170903572933), (3405, 0.04094797201714289), (980, 0.04091628761753705), (1017, 0.0409162317708586), (1978, 0.04087303126240492), (2756, 0.0408680134346392), (1448, 0.04086459767600395), (3079, 0.04085463046297087), (3383, 0.040834942826471717), (1919, 0.04081287706485297), (574, 0.04080433795433304), (198, 0.04080123314800838), (2528, 0.04078467711362761), (2791, 0.040778591101456874), (757, 0.04074490819461251), (333, 0.04073719310139363), (3340, 0.0406814251276451), (2670, 0.04065738313900261), (3724, 0.04058444497100012), (1142, 0.040576031073350664), (1018, 0.04055986390070986), (342, 0.04055352619619234), (1373, 0.04053577726057741), (3154, 0.040534389855914274), (1212, 0.040531919985953443), (1121, 0.04052442383541021), (2679, 0.04052009318470559), (863, 0.04051496490158319), (3337, 0.04050657602845042), (455, 0.040505152489723105), (2736, 0.04049620383071209), (886, 0.04049227038702557), (1788, 0.04046822486221031), (3542, 0.04037828462696327), (2562, 0.04025745954775739), (3577, 0.04020416135353823), (3222, 0.04019411702592739), (3066, 0.04019360355591814), (2847, 0.04018867311214227), (956, 0.040175384745619956), (885, 0.04015630791629756), (2569, 0.040143668172949565), (2518, 0.04014015519022413), (306, 0.04013394251503011), (3566, 0.04010508924263252), (3078, 0.040091534590874), (264, 0.040083986533112445), (2253, 0.040066784734795226), (871, 0.04006009216675876), (920, 0.04001915683446678), (60, 0.04001594818948817), (160, 0.039996643560507264), (1152, 0.03996857379922782), (3584, 0.03991968385499215), (544, 0.039881165953900906), (2555, 0.03983622653688163), (1274, 0.03983418110942606), (1444, 0.03978416096992263), (3486, 0.039760939240093614), (2911, 0.039751760292130185), (2305, 0.039747850713245304), (2246, 0.03974189405611994), (3623, 0.03973526953581653), (3175, 0.039731590364806654), (1437, 0.03969926230224694), (2760, 0.03969548281511724), (1546, 0.039693377706719324), (3373, 0.03963943123450112), (3278, 0.03963635165743676), (1940, 0.039594082259539386), (2645, 0.03955090035650631), (722, 0.03948698768876608), (3287, 0.03948281693578764), (967, 0.03947792016803012), (1932, 0.03944576171509865), (834, 0.03943461957170645), (3205, 0.0394259106750379), (1284, 0.03940278597501083), (2002, 0.039369948418442505), (1593, 0.039358441850526046), (2616, 0.03935242228604347), (2917, 0.03934672154651297), (429, 0.03933708523317578), (170, 0.03932976408881346), (251, 0.03932861706255125), (2513, 0.03929946135683439), (3562, 0.03929767958650756), (2434, 0.03928364062422177), (2465, 0.03925794482560159), (751, 0.039239887413987075), (3351, 0.03922892290076732), (2459, 0.039220481348500154), (22, 0.0392148964861221), (2415, 0.03918508792859582), (152, 0.039173829491888995), (633, 0.03915724191647376), (2686, 0.039144647515547), (982, 0.039109080975208405), (2090, 0.039089104600003415), (3130, 0.039054775373366046), (1874, 0.039044445934382555), (3455, 0.03904336475671073), (891, 0.039015171489274546), (794, 0.039011585124760224), (322, 0.03896461347646166), (1100, 0.0389556110591132), (875, 0.038922651232459596), (2237, 0.03890807248937146), (1266, 0.038890371331284146), (1842, 0.03887765053328239), (1111, 0.03885407416179572), (2551, 0.03884313047529263), (2059, 0.0388313486550219), (2140, 0.03883008904448991), (625, 0.03882668249311913), (290, 0.038770025401013986), (2588, 0.03875372291570485), (2952, 0.0387419381882619), (3255, 0.038740788329244415), (1105, 0.03869848258008389), (893, 0.03869197313679728), (1971, 0.03868960959228339), (1821, 0.038684766209305194), (3063, 0.038670798812519), (1472, 0.03866626994329092), (1574, 0.03864519757205663), (1469, 0.038623466810050286), (2353, 0.03861660157401072), (1904, 0.03861026606511582), (986, 0.038592683356001994), (880, 0.03858441562087189), (1757, 0.038583575276602916), (1692, 0.038579412028839154), (725, 0.03852503583663356), (1522, 0.038519496758281854), (2958, 0.0384214841484552), (2036, 0.038411567066370535), (32, 0.03840854320069706), (2035, 0.038403809995037924), (394, 0.0383716919125412), (3052, 0.038370609027682946), (521, 0.03836333476228096), (1913, 0.038297760061551264), (1873, 0.03826059322314132), (3543, 0.03825954532675667), (719, 0.03823016054373445), (1626, 0.038193522891824955), (472, 0.038160731542620126), (1417, 0.03814329794971066), (3267, 0.03812625355987073), (2086, 0.03811111368867229), (947, 0.03808753952936267), (785, 0.03808563979246276), (2920, 0.03808528860998081), (2115, 0.03807437911400348), (2135, 0.03807210014148036), (287, 0.038022428910846374), (1550, 0.038006965905656824), (2642, 0.03797109668000451), (900, 0.03797084375342252), (184, 0.03796340828793166), (3435, 0.037954335068869444), (424, 0.03794991082624273), (1659, 0.037932508997211546), (2373, 0.03792638554876705), (3241, 0.03792009410539891), (262, 0.0379192245711572), (640, 0.03791829156763085), (1063, 0.03789145620880964), (2857, 0.0378772983235653), (567, 0.0378570095890549), (351, 0.037831482286050405), (203, 0.03781812997678624), (3119, 0.037803350186465086), (3067, 0.03779579746421134), (1347, 0.037778568114894925), (2409, 0.0377693594890105), (3527, 0.0377673715520153), (2131, 0.03774728650217078), (335, 0.03774524387775637), (2943, 0.03774471540557069), (3638, 0.03772797171144683), (2408, 0.03770858372741915), (3392, 0.03770702091159164), (1805, 0.03767214089456973), (3147, 0.03765776571544408), (1796, 0.03765715993640398), (2929, 0.037656269018778256), (1924, 0.037624879140185946), (543, 0.03761119080564171), (1566, 0.037587345548317795), (3412, 0.037584984263184046), (1082, 0.03757409129868397), (350, 0.03756410501048506), (3242, 0.037562387659004576), (732, 0.03755588581407644), (1112, 0.037547905965415726), (741, 0.0375254036728449), (685, 0.03751773721114024), (2594, 0.03751491347966236), (1464, 0.03751367768467562), (3597, 0.03747705795406229), (670, 0.03744844965326828), (2275, 0.037443601644628954), (1432, 0.03743267477573198), (1024, 0.03742156076012896), (1686, 0.03741684281268991), (1747, 0.03736453488393337), (2128, 0.037347184881002214), (1113, 0.037331306284244525), (318, 0.037304328247800715), (2257, 0.0373031579234964), (1079, 0.037297971163920175), (801, 0.037253903923619186), (303, 0.03724351276476782), (2037, 0.037232684109469776), (2456, 0.03722444146472471), (3655, 0.03721351515344846), (1137, 0.03720417068940994), (2688, 0.03720054865183385), (2687, 0.03720024479212829), (2221, 0.03718308186192279), (1153, 0.03717381869081839), (2796, 0.03714924664909617), (2758, 0.03714679839482893), (591, 0.037123874444319235), (2334, 0.0371207481245113), (2705, 0.03711008771121753), (2892, 0.03707863443528112), (817, 0.037053911802389365), (2845, 0.03704044255468046), (925, 0.037034473230327686), (1231, 0.037029282136123096), (3711, 0.03702603394340777), (1003, 0.037025130812071254), (352, 0.036989118340736586), (2612, 0.0369742891062556), (3602, 0.036973038423804366), (195, 0.036968082417142584), (570, 0.03694639356149188), (3436, 0.03692836303172534), (1000, 0.03692416254831727), (2743, 0.03692361503783412), (1803, 0.03690615125541457), (2315, 0.036903913846686114), (363, 0.036890556968123094), (731, 0.03687458343216905), (829, 0.03687182258233973), (2280, 0.03685531563814821), (2990, 0.03684774219317742), (51, 0.03684562872597988), (3520, 0.03684007775105454), (857, 0.03683845043677774), (3183, 0.03683439649617689), (1995, 0.03679934282212453), (41, 0.036787855426361274), (189, 0.03678723554864742), (1739, 0.03676888428150749), (165, 0.03675477962447336), (1603, 0.03674912703588293), (1253, 0.03672233628697048), (3, 0.03672200571440758), (23, 0.036718305623324815), (1980, 0.036710173347548426), (2065, 0.03670371446877238), (2130, 0.036658435351859094), (159, 0.03665712131069817), (3354, 0.036610798852627836), (1759, 0.0365809768426803), (830, 0.03655697107005504), (2462, 0.03653751713292996), (3144, 0.036535632727188974), (1348, 0.03652640449886428), (735, 0.03652287451661698), (2397, 0.03651080665591549), (826, 0.03650620706497208), (3317, 0.03647537223211262), (491, 0.036466886390994616), (1703, 0.03644930440919439), (974, 0.03641635809298486), (859, 0.03640188189839992), (684, 0.036396607615090726), (695, 0.036361519622536725), (1366, 0.03634506898432136), (1836, 0.036312697380065796), (467, 0.03631167541754647), (649, 0.03629620633328298), (1766, 0.036286538690745565), (2571, 0.0362526099996262), (206, 0.03624683614558825), (315, 0.03624418689917733), (1084, 0.0362395317057882), (500, 0.036140131452876076), (2982, 0.03613686806590032), (983, 0.03612982934360599), (2370, 0.03612713745599945), (241, 0.036126623924493), (1579, 0.03612398804976268), (2985, 0.03611823796046013), (1178, 0.03608320054106403), (552, 0.03606953832017328), (1719, 0.03606662298000852), (696, 0.03605176219088411), (2096, 0.036049087671318425), (294, 0.036022597358813455), (435, 0.036022393916982365), (3212, 0.03600562292922621), (1586, 0.03597765380976525), (3684, 0.03596109271093662), (235, 0.035960592542760975), (789, 0.035944330212762346), (1407, 0.03592752222393301), (714, 0.035910282039859555), (522, 0.0359031592954755), (1661, 0.03588606947112599), (800, 0.035881805880743384), (298, 0.03587191227009697), (106, 0.035867860211619744), (906, 0.035856239835041846), (3593, 0.03582815614259404), (224, 0.03580893488134406), (2525, 0.035798525223969896), (260, 0.03578196616609801), (2232, 0.03569752517978711), (1769, 0.03565112910649935), (3028, 0.03565019608079755), (1755, 0.03560488778382477), (414, 0.03559097639624384), (1116, 0.035562193647362184), (1370, 0.03555004963949089), (3531, 0.03554332319810452), (3327, 0.0355394619261322), (904, 0.035532457523269084), (1223, 0.0355315475178292), (3044, 0.03553146897328374), (2411, 0.03543303367087044), (309, 0.03543002369844053), (989, 0.035411061824263), (2405, 0.03540445261585385), (2255, 0.035396097509203105), (332, 0.035379634127780425), (1834, 0.03536538776169176), (637, 0.03534939177225456), (2813, 0.035329389989748314), (116, 0.03532268221916746), (308, 0.03531909132089401), (76, 0.03530357075414603), (2874, 0.035278071108155416), (1866, 0.03526960122026954), (204, 0.035265855753384576), (3394, 0.03525741797274904), (3145, 0.03521773206304809), (1143, 0.035193239246499204), (1951, 0.03516758696000311), (1042, 0.035166950749476816), (3462, 0.035162211527786535), (1918, 0.03514646345941276), (2731, 0.03511208248392694), (1299, 0.0351044223671191), (559, 0.035095885112818866), (3151, 0.03506958776926661), (3115, 0.035069101750164804), (1419, 0.035048107381594654), (608, 0.035046712632050295), (474, 0.035046451533836495), (1751, 0.03501174378093781), (2149, 0.03500550462510274), (1536, 0.03500088775513681), (327, 0.03497594888008244), (1673, 0.034951603329584094), (1826, 0.034934775171826346), (1635, 0.034914234351004325), (3689, 0.0349133719169567), (3289, 0.03490978129837153), (3273, 0.03490952085880952), (926, 0.03490392832368414), (2136, 0.03489592029097627), (2364, 0.03489587905764209), (1007, 0.03487880705738263), (565, 0.03487715869506963), (690, 0.03487051578407564), (2488, 0.034869029720112577), (326, 0.03484756802531766), (1155, 0.03483101805337775), (2663, 0.034801109690039245), (179, 0.03479303385202122), (903, 0.034792277080696196), (388, 0.03478672194252613), (3103, 0.03478357132075259), (907, 0.03477876295174577), (310, 0.034751709478607055), (1027, 0.03475021989377945), (655, 0.03474998186310867), (641, 0.034735812301883814), (2308, 0.03473419748669179), (456, 0.03471124492820702), (2345, 0.03469706657262288), (1076, 0.03469575729491411), (3430, 0.03468364862974866), (892, 0.03465914047219673), (2000, 0.034649960940449996), (1452, 0.03464682558916443), (1765, 0.03464377901351877), (576, 0.03464319270574147), (1606, 0.03462285632488514), (1838, 0.0346183183521273), (3114, 0.0346127450743515), (2906, 0.03458380241366369), (3500, 0.03456823193951916), (2780, 0.034554214676045955), (142, 0.0345540356976208), (3258, 0.0345478078996875), (162, 0.03450747823774246), (1767, 0.034505260552352875), (2351, 0.034503987045087524), (1545, 0.034497196870266075), (3065, 0.03446973155016792), (2359, 0.03442394279268711), (1378, 0.034420986280552034), (171, 0.03441949158354534), (2336, 0.03441739531183992), (3043, 0.03441121744253019), (765, 0.034403830899840476), (2310, 0.034374354446923654), (182, 0.034332036411512855), (421, 0.03431424883228566), (3629, 0.03427994762967817), (3648, 0.03427859159700134), (582, 0.03427507312646946), (2817, 0.03427404748403746), (3135, 0.03427304851286166), (1843, 0.03424910497668479), (1060, 0.03424147471606086), (862, 0.03423292241155253), (1443, 0.034232509414113516), (283, 0.03416247844115895), (2674, 0.034146962760773135), (949, 0.0341375114963153), (3685, 0.034133970762230154), (2944, 0.03412682119644655), (2961, 0.03411889081293363), (208, 0.03410206999387969), (867, 0.03410151404948569), (1604, 0.0340998854718789), (1844, 0.03409221221275664), (632, 0.0340899087710151), (2877, 0.03408852701762027), (1028, 0.03407472247041836), (1264, 0.03406738058161588), (1333, 0.03405564547633913), (200, 0.0340545486081887), (3364, 0.034054378485422906), (1726, 0.03404809839484967), (1433, 0.0340431544815146), (1929, 0.03403212480010906), (2522, 0.03403143900881402), (678, 0.03402640332575938), (3374, 0.03401154809591189), (1699, 0.034005400573742475), (289, 0.03400081700247163), (222, 0.03399666321978938), (3474, 0.033975844595894096), (957, 0.03396906100436526), (1088, 0.03395632058367488), (3675, 0.03393435447353171), (2361, 0.033909430997861575), (3223, 0.03390510987944352), (3108, 0.03390127918821542), (3296, 0.03388590103605218), (954, 0.033878109412354245), (1011, 0.033870133419916265), (2927, 0.033865255366918395), (2205, 0.0338253214305229), (117, 0.03381125323946591), (822, 0.033809466305180766), (2348, 0.033800023747955384), (2504, 0.03377052914157791), (2307, 0.03376669301143318), (1735, 0.033765230865340806), (446, 0.03375736615279605), (997, 0.03372825223880748), (0, 0.03371543095783723), (605, 0.033679088276314294), (870, 0.033673582553507886), (2851, 0.03367090478793596), (1232, 0.03365550779339502), (1914, 0.03364089699685738), (853, 0.033637690697252365), (2217, 0.033584217904399215), (94, 0.033579159002275934), (450, 0.0335762164605235), (1804, 0.03357556436840048), (682, 0.03356063936484527), (1186, 0.033559100088921955), (3049, 0.0335572016787293), (2987, 0.033551293110424235), (2873, 0.03355122684958547), (1774, 0.03354663789537075), (615, 0.033543846231987036), (932, 0.03354273158705684), (2871, 0.03354022012048489), (3164, 0.033532452427804046), (397, 0.03352621643127639), (3218, 0.03350662631511546), (1543, 0.033493785316922195), (3649, 0.033462907232834765), (57, 0.033416048692365405), (1631, 0.03340873818913653), (1295, 0.033406075561216435), (434, 0.033383571346369934), (80, 0.03338314826114028), (2157, 0.033368897794943723), (1423, 0.03335648740468799), (99, 0.033335752453493725), (147, 0.033332095586690244), (1481, 0.03331012217321215), (598, 0.03328916202920915), (656, 0.03328279200069039), (1840, 0.033278853557704026), (2915, 0.03325025233880233), (599, 0.03323795085550768), (755, 0.033234974469872065), (490, 0.03323228957334492), (1760, 0.03322827480398386), (1206, 0.03322428266853232), (366, 0.03322356507898648), (621, 0.03321953745878965), (2185, 0.03313602126522642), (1145, 0.03312183277721027), (1483, 0.03311777650917113), (1965, 0.03308898413546175), (1845, 0.03308863426029613), (2983, 0.03306407439289775), (3045, 0.03303878190697728), (37, 0.03302033798546729), (3343, 0.03301851089631461), (1660, 0.03301412165050558), (1468, 0.033001187182266814), (3378, 0.03300051964872329), (1136, 0.032994465087608435), (2244, 0.03298663508421033), (1491, 0.0329831523609789), (542, 0.032982426711477324), (1241, 0.03298199568819683), (1238, 0.0329762439404487), (1404, 0.03297534578377094), (821, 0.03296812214060204), (1677, 0.03296110066481459), (2764, 0.032922389565916324), (2894, 0.032916774191768035), (895, 0.03290573589509065), (307, 0.032901226682385924), (1359, 0.032898929757828085), (2538, 0.032898543657344556), (1363, 0.032883997245323836), (36, 0.032856869370450216), (2656, 0.032838106181859596), (1360, 0.0328223412101364), (143, 0.032820099387777406), (2699, 0.032814786134992405), (10, 0.032804975780204554), (1817, 0.03279786734117725), (1304, 0.032780422622859656), (2546, 0.03277999745427269), (1485, 0.032764293715598684), (372, 0.03275078801689607), (677, 0.03274644008747393), (2078, 0.032730753117653694), (129, 0.03271777933260343), (512, 0.03271711659772487), (3491, 0.03271627408579006), (1928, 0.03271314521664253), (3202, 0.03267402253383271), (908, 0.032653773020693305), (1380, 0.03265029787458447), (1312, 0.03259996924005625), (1794, 0.0325739212935702), (979, 0.0325545930700102), (488, 0.03255153537582399), (2029, 0.0325469234963512), (3595, 0.0325445760271962), (3409, 0.0325239734941571), (3515, 0.032506556243180516), (2671, 0.032488205884209344), (1823, 0.032486061040426104), (1462, 0.032456630591171216), (2572, 0.03245447005192793), (1345, 0.032453875719547554), (1549, 0.03245335924721441), (2698, 0.03245163529788929), (2379, 0.03245136031454306), (3053, 0.032428088388587), (2283, 0.032422787998228696), (112, 0.03239304241649687), (292, 0.03238818170140065), (357, 0.03238356158565536), (3578, 0.03237578786093945), (1010, 0.032343774939123465), (54, 0.03232770953315381), (3699, 0.032313380555932664), (413, 0.032311591226750105), (2708, 0.03230284378973816), (3251, 0.03228224266804525), (783, 0.03227207568096983), (201, 0.03226337596647225), (131, 0.03226334679393414), (1539, 0.03225872661394656), (2159, 0.03225779663720617), (1608, 0.03224236522724041), (1508, 0.0322271971921828), (1511, 0.032226147879784665), (1900, 0.032219442628805786), (1645, 0.032194381733533714), (46, 0.03218714386595185), (1157, 0.03217168401710181), (3193, 0.032161966224602406), (3460, 0.032161774475124943), (784, 0.03215090805596148), (419, 0.032146259857243974), (2468, 0.032127941584004026), (111, 0.03212220918355326), (2519, 0.03210863177646175), (3475, 0.03209734837953648), (1678, 0.03209646785396687), (2669, 0.03208398316542676), (268, 0.032061256253488615), (489, 0.03205389082349277), (1388, 0.03205325011077914), (1139, 0.032029930824321), (1939, 0.03201424038956167), (3548, 0.03201184782506207), (1672, 0.03200968344567436), (1196, 0.03200331183737171), (3574, 0.03200148319200915), (1034, 0.0319999810900151), (477, 0.031997064149275556), (575, 0.0319937452684771), (1343, 0.03199019660851039), (1535, 0.03193471675267537), (3713, 0.031924060662048795), (254, 0.0319224634573266), (1012, 0.03191404125703428), (337, 0.0319074657911152), (620, 0.03189458392707134), (1553, 0.031894078842091), (1534, 0.03188776179752698), (2974, 0.031854440447766655), (1931, 0.03184033125002737), (3382, 0.03183890515173695), (3643, 0.031832732965245226), (532, 0.031827889295991306), (587, 0.03181282484159857), (1567, 0.03179994341305479), (110, 0.03178223606751551), (2677, 0.03177454750082933), (1329, 0.03176288707487634), (3687, 0.0317570553664749), (588, 0.031754329472620954), (2506, 0.031754268048050004), (2396, 0.03174556009082975), (2040, 0.03172140088364307), (3230, 0.03171946371024621), (878, 0.031718602845302736), (2266, 0.03170412340791366), (2898, 0.03170212227711801), (3125, 0.03169048248521472), (778, 0.0316844354389583), (2102, 0.03167080017581355), (940, 0.031669345097101745), (1775, 0.03166605813590434), (120, 0.03163962293928697), (2352, 0.03161649522630162), (3344, 0.03159443058804312), (1131, 0.031593178313278784), (564, 0.031576239406684706), (839, 0.031575788852711464), (3466, 0.031572445289301074), (1761, 0.03156633934061564), (2347, 0.031561336541544936), (2123, 0.031556660869392114), (3362, 0.03155511765662993), (2825, 0.0315523269831158), (462, 0.03154903984493993), (227, 0.03153351730751887), (1801, 0.03151336713812745), (2108, 0.0315001833994388), (902, 0.03149046072840876), (1217, 0.031485456160828956), (234, 0.031480701047193936), (1061, 0.031480500887296356), (2640, 0.031478661890989496), (1414, 0.03145773105025671), (2641, 0.031456353171663315), (742, 0.0314258666923289), (2648, 0.03142412591928336), (71, 0.03141375420735962), (2179, 0.03140088747092968), (43, 0.03139143062214448), (1402, 0.03139012325793106), (82, 0.031382141937703806), (935, 0.03137452451469364), (996, 0.031359230681856025), (1886, 0.031351694856850895), (713, 0.0313374526760599), (1969, 0.03131857279727586), (236, 0.0313099375653209), (2500, 0.03129473225593188), (1917, 0.031286809082716), (909, 0.031279264107039684), (1094, 0.03127488955523018), (2402, 0.0312645313013169), (2737, 0.031250859005952585), (3632, 0.031249720600737003), (3080, 0.03124833029047823), (1067, 0.03122918496706372), (1764, 0.031228135281607616), (2924, 0.031226181431214042), (1561, 0.03121733581943587), (513, 0.031213370165507598), (392, 0.031200267488071243), (1907, 0.031191016371303643), (2730, 0.03118943449856129), (1787, 0.031184031057153224), (835, 0.031183905942113826), (2543, 0.03118002130016165), (1043, 0.031179058156711657), (1020, 0.031176668966342393), (3553, 0.031172975158128984), (49, 0.031169530902702802), (1150, 0.031147983831046076), (469, 0.031132900284943605), (2941, 0.031094631935282786), (1265, 0.03108543918775097), (537, 0.031062107161725146), (2981, 0.031060127968065704), (2841, 0.031048696456701063), (3024, 0.031047091056335706), (1999, 0.03104686896534508), (805, 0.031016542461264), (2489, 0.03100286787018816), (813, 0.031001605209973616), (1045, 0.030997077129244537), (2639, 0.030996488433001238), (3477, 0.03099365299514598), (2274, 0.03099162103082506), (3403, 0.030985633655645405), (1118, 0.03096933377284234), (2607, 0.030969264820841023), (1822, 0.030959076023746448), (1633, 0.030951330526967066), (959, 0.03092487252101274), (1737, 0.030905308248739986), (2767, 0.030896531378110645), (360, 0.030896210299340865), (3046, 0.03089121002168502), (1776, 0.03089065781948819), (3484, 0.030888508548101257), (158, 0.030880584037473537), (3133, 0.030874302653193773), (2248, 0.030870587073284703), (3690, 0.03086358182902169), (566, 0.030843168904655247), (3485, 0.03084158694837976), (1922, 0.030826980614057663), (3399, 0.030825118588024128), (3544, 0.030790899672967473), (2165, 0.030766615480893524), (3161, 0.03076660243735692), (665, 0.030749564357645035), (1809, 0.030736796356520452), (3656, 0.030728491158853226), (3606, 0.030724517307117706), (1748, 0.03072346652209973), (681, 0.030683714628761197), (2241, 0.030680497755883714), (1458, 0.03067932909962561), (710, 0.030673345434171672), (2391, 0.030671605926840442), (1441, 0.03064140892763506), (2027, 0.030641004119974218), (2303, 0.03063559069394932), (1641, 0.03063399119025497), (2862, 0.030633494949911775), (72, 0.0306137017031363), (104, 0.030599918597578477), (818, 0.03058568096325576), (420, 0.03058126164700388), (526, 0.030575416146986185), (976, 0.03056994173637346), (2293, 0.030563801154255613), (2093, 0.030563712838592938), (3414, 0.030554198348348886), (69, 0.030550132463110884), (3182, 0.030536965425295562), (1795, 0.030532833739701084), (899, 0.030516690358921454), (3479, 0.03051139796177981), (1662, 0.030453266736505558), (1097, 0.03043316912607165), (2321, 0.030416399731891364), (2162, 0.030400274169745403), (59, 0.030386943873327778), (1454, 0.030379094965628996), (1179, 0.03037742264793822), (3618, 0.030367638506166875), (1089, 0.030362673716332025), (2994, 0.030355444710736642), (2034, 0.030353326653853947), (2212, 0.030328829104793658), (2064, 0.03032503525966814), (2523, 0.030317961830196874), (1858, 0.030316866254180442), (2319, 0.030313983183375737), (2139, 0.03029857253001856), (207, 0.030287108720514707), (1199, 0.030269529978638878), (2325, 0.030259345929359277), (145, 0.030254896787186132), (3416, 0.030253732659068677), (2083, 0.03024749046386626), (3702, 0.030241224007126068), (1916, 0.030235723991656752), (1876, 0.030230165958821567), (2030, 0.03021362071530969), (1173, 0.03021147434781663), (1602, 0.030179938507107287), (3120, 0.030178495212244347), (1638, 0.030175118856095366), (1445, 0.030159583754183074), (3015, 0.03015720283599506), (1074, 0.030152178547605324), (855, 0.030151803864194315), (2018, 0.030146235972314868), (1278, 0.030143503010856856), (3683, 0.03014041558069471), (11, 0.0301348867253983), (3109, 0.03012892093203633), (1358, 0.030118697228774815), (3385, 0.030118192459987116), (2581, 0.030106332042584717), (2723, 0.03010123792698723), (3384, 0.030100088360295263), (700, 0.030099481203510654), (2544, 0.03009861783253745), (1350, 0.030090229157792206), (3062, 0.030085016182519287), (1854, 0.030065989793828983), (2235, 0.030054264674539363), (2231, 0.030042780107918766), (938, 0.030041747641243847), (3567, 0.0300395308750417), (939, 0.030029700001332607), (520, 0.030026433138799553), (2394, 0.030014102947143902), (2499, 0.02997419952615258), (2366, 0.029972350704283574), (1752, 0.029971134023602963), (2306, 0.029967491137722298), (3208, 0.02996001027376553), (675, 0.029958340652663187), (1107, 0.029956440732606726), (968, 0.02991165372938395), (1818, 0.0298770453138961), (3550, 0.029869452201349435), (3166, 0.029867363159795234), (2496, 0.029866968116251315), (3023, 0.029865276708979517), (2153, 0.029861232754291676), (2598, 0.02985826450719122), (2323, 0.029855813397437987), (2033, 0.02985035266034329), (2301, 0.02984954430992357), (230, 0.02984873762453728), (2836, 0.02984853016480226), (153, 0.029844860212006094), (2239, 0.029844240973060435), (2617, 0.02983732377395039), (1552, 0.029832768073084666), (353, 0.029824052163239086), (636, 0.029819472581329148), (3068, 0.029817776920983287), (942, 0.02981215883951536), (2440, 0.029789216765093877), (2776, 0.029781902211685023), (3498, 0.029779637111263933), (764, 0.02977613028943118), (2188, 0.029774083598360042), (1786, 0.029772128489147755), (1032, 0.029771144321360864), (629, 0.029763594326329267), (107, 0.029762182232907566), (1114, 0.029733643992358557), (1291, 0.029729495300528624), (1707, 0.029726357887453696), (1273, 0.029721849148126), (58, 0.029706322495695995), (572, 0.0297043105802937), (2410, 0.029687691515325985), (2339, 0.02968611307997063), (126, 0.02967531442093161), (546, 0.029673923628778368), (1300, 0.029667552824244384), (2582, 0.02964968746573794), (418, 0.029631774057008006), (2806, 0.0296316257082465), (3277, 0.029629483625539677), (3074, 0.029626747871958646), (2993, 0.029622725974236062), (2182, 0.02960132231536459), (1557, 0.029589495085526545), (2637, 0.029569430114993286), (1182, 0.029535762674810475), (1394, 0.02953337438889936), (2278, 0.029533342032586125), (1610, 0.02952781116039933), (549, 0.029505284611365017), (3243, 0.02949050153656811), (368, 0.02948609840102523), (2100, 0.02947718251127861), (2738, 0.0294720386402308), (3489, 0.029465437157694785), (425, 0.029455623193557302), (712, 0.029453825623992846), (1799, 0.02944174194408863), (1294, 0.029440508714398714), (1893, 0.02943564498961137), (316, 0.029415271562798127), (2478, 0.029407298147018646), (3211, 0.029350077586597016), (2122, 0.02934314570971557), (1972, 0.02934027311261748), (962, 0.02932215989601393), (93, 0.029321374339500057), (16, 0.029319520846986233), (916, 0.029319451618331018), (367, 0.029315578278397463), (1120, 0.02929828359811179), (3376, 0.02929495371145438), (1029, 0.029293716528332653), (993, 0.0292928524796496), (833, 0.0292926428007663), (2805, 0.029286449602984224), (2885, 0.029281536615329666), (2292, 0.029277772562103756), (2832, 0.02927728376171922), (1148, 0.02927619894771777), (485, 0.02927578250869598), (2243, 0.0292749936807478), (1570, 0.02926928102459686), (3300, 0.02924527901933579), (2980, 0.029227799803626713), (2865, 0.02922761196127583), (3210, 0.0292214843239388), (927, 0.02918972887824016), (2062, 0.029181685119594666), (2769, 0.029178343345385344), (2707, 0.029166713930772553), (1701, 0.0291604708844046), (2445, 0.029154068549727772), (1934, 0.02914150543323936), (1577, 0.029140774406852567), (1957, 0.02913008974785303), (463, 0.02912516093919786), (2613, 0.029082887662048952), (2084, 0.029081949818056292), (2277, 0.02907975221075472), (1712, 0.029076855984894984), (1740, 0.02907619342213433), (2593, 0.02906824595420577), (2792, 0.029041868385631442), (2203, 0.029029999105366473), (3001, 0.0290287045452514), (1379, 0.029013971530090145), (1555, 0.029012767501616857), (1639, 0.029010659396195928), (1272, 0.029004663693556185), (2091, 0.029002437872280868), (2701, 0.029001700319007197), (702, 0.028990364343816466), (2211, 0.028986759356213098), (1816, 0.028979269767304545), (2422, 0.0289740382913201), (172, 0.02896850522838229), (679, 0.02896632453477933), (1397, 0.028962462098496632), (3057, 0.028961885678023807), (237, 0.028959460367938145), (1960, 0.028950555397178668), (1041, 0.028950079811227866), (2878, 0.028937965041504025), (438, 0.02893784784311939), (304, 0.028932482095491503), (441, 0.028929018033706958), (933, 0.028925746814340455), (1275, 0.02892439813749391), (1327, 0.028923487578867375), (1784, 0.02891917476775066), (1921, 0.02890972210051754), (1194, 0.02888958394516524), (2784, 0.028885998689094187), (2837, 0.028882685509956766), (3162, 0.028878278090368293), (1702, 0.028853724904869208), (1493, 0.02885086858829291), (2604, 0.028844127861316335), (1599, 0.028834982790312907), (2425, 0.028824705331662707), (1486, 0.028808441846196565), (3036, 0.02880448652552501), (516, 0.028784525952967988), (2633, 0.0287526684704811), (2516, 0.028733266485117627), (2474, 0.028731865044553336), (1420, 0.02872039592263952), (2514, 0.028718902919651155), (1301, 0.028705999946077414), (1384, 0.028704612009392824), (1905, 0.028703007385714144), (380, 0.028685888811727962), (672, 0.02867346268345775), (1296, 0.028672089785136065), (3368, 0.028668077184162435), (2757, 0.0286633675824756), (3551, 0.02866314997638461), (2031, 0.02865956653150866), (2797, 0.028659162573281494), (3452, 0.028649545297666154), (643, 0.0286486726538871), (2552, 0.028647527616605627), (2431, 0.028624507931002685), (965, 0.02862430335388334), (2717, 0.028614257236028243), (3552, 0.028614016781194095), (1780, 0.028602722709703807), (1164, 0.028593280175711475), (2218, 0.028591320655915783), (2318, 0.028570004255298168), (3706, 0.028567760555105057), (1733, 0.028553842530779992), (86, 0.028548046511518033), (325, 0.02854383554780822), (2120, 0.02854203682224958), (2778, 0.028531270390847473), (3310, 0.028531079151158344), (673, 0.028525781023848035), (812, 0.028518712922606507), (1310, 0.028514254527519968), (589, 0.028514198864350054), (444, 0.028503228743003737), (1449, 0.02850188615187334), (592, 0.028499534607464662), (2146, 0.028491834504988864), (763, 0.028485566359750615), (3682, 0.028483279860614257), (1324, 0.028478966007459375), (3467, 0.02847641712968264), (1947, 0.028476146570140817), (2048, 0.028475902418462914), (3691, 0.028456761892178564), (1961, 0.028452228558634836), (2429, 0.028441473793166416), (1459, 0.028433238564507364), (1736, 0.028432216032259344), (3029, 0.028412267520328903), (614, 0.028407810221782667), (1926, 0.028399946779781287), (3630, 0.028379204829569273), (1305, 0.02837134149072082), (1403, 0.028343338908269428), (3302, 0.02834094677417397), (1129, 0.0283377206983414), (884, 0.028330725337343116), (2799, 0.0283291966158325), (2553, 0.028325554701496933), (3113, 0.028309676204023394), (1361, 0.028308741019553347), (300, 0.028302430786803744), (2614, 0.02829765424380419), (2706, 0.02828818784305172), (2658, 0.02827634823160386), (3325, 0.028270981404491056), (1484, 0.02822645679648048), (273, 0.02822385417212358), (3482, 0.028221799576689768), (1621, 0.02821949095151882), (693, 0.028214455174752025), (2599, 0.028201670264288724), (2482, 0.028200113308182652), (539, 0.02817165172228414), (408, 0.028162468514982504), (261, 0.028161649461714892), (1825, 0.028151453123127886), (81, 0.02812132233686467), (951, 0.028103354292032035), (2643, 0.02810162330993345), (2388, 0.028101559186907606), (3173, 0.028100476897461014), (1714, 0.028099741482684768), (1151, 0.028096848980935046), (861, 0.02806281927429379), (3612, 0.028037308293965682), (1589, 0.028020404812525854), (1687, 0.02801124367138097), (1019, 0.028008644603710754), (243, 0.02799882095286163), (3558, 0.02799719245849322), (252, 0.0279920693343585), (2741, 0.02798972773555638), (2256, 0.02797190930638421), (2329, 0.02796204849472406), (3481, 0.02795208344294909), (3627, 0.027951931221378623), (1393, 0.02793977850453356), (717, 0.02793249986002556), (1488, 0.027931647297323427), (3307, 0.02792747752738839), (1792, 0.027923564684993997), (2087, 0.02792269964938183), (150, 0.027919736808123416), (1729, 0.02791837264473112), (1057, 0.02791371152442583), (242, 0.027912233842253584), (846, 0.02791092565363293), (964, 0.02790803488285361), (507, 0.02790503148012393), (2505, 0.027902226113938267), (334, 0.027879580990250348), (3523, 0.027877942617288543), (2041, 0.02787439766852478), (864, 0.027859492818474867), (2492, 0.027853997497573717), (3359, 0.027842577660282634), (802, 0.027842328454760357), (1513, 0.027841137496917925), (759, 0.027831716179186793), (8, 0.027825451360219737), (1246, 0.027818692732652875), (694, 0.027808707180044842), (2058, 0.027798203478613212), (1851, 0.02779528474041224), (3037, 0.027794117039991878), (1896, 0.02779116174215265), (669, 0.027786100119247627), (3004, 0.027774297174809837), (1071, 0.02777281335281104), (1968, 0.027772661328595113), (317, 0.027772231059691076), (1078, 0.02777080638865922), (2448, 0.027750654520336933), (642, 0.027737029938975602), (1742, 0.02773086032819141), (2650, 0.027729035154971292), (1185, 0.02772515369983142), (2576, 0.027692745648785443), (3365, 0.02768876564186648), (212, 0.02767763739521329), (1750, 0.02767402087564497), (1230, 0.027669671403318625), (1053, 0.027668687202003647), (3388, 0.02766259401661216), (627, 0.027658167107247066), (2016, 0.02765266279477845), (3047, 0.02765198918172187), (2015, 0.02764897746112984), (3096, 0.02764814298459556), (65, 0.027646882551398345), (3073, 0.027639566975313105), (2856, 0.027628648059946165), (2850, 0.027624355789925874), (808, 0.027598458001734553), (3306, 0.02759652727889948), (3245, 0.027587058483317186), (638, 0.02758610614792709), (1868, 0.027571784752360773), (3331, 0.027569153190641058), (312, 0.027547863378295158), (3187, 0.027543273408737457), (1183, 0.027541499950618033), (535, 0.02753822394876296), (3555, 0.027533487220186444), (3705, 0.027531933993758854), (1172, 0.027524835307015275), (2539, 0.027521694294593797), (2816, 0.027521025093375475), (1848, 0.0275180343746029), (3652, 0.027516010404163002), (3600, 0.02751364923286859), (2129, 0.027509596027273858), (3605, 0.027497479062447913), (53, 0.027491153003468077), (2068, 0.027489920149327593), (3524, 0.02748827852906323), (1250, 0.027482138852261286), (1255, 0.027480925141234992), (2289, 0.02747842758710406), (558, 0.02747815000568243), (2234, 0.02747426293040485), (3232, 0.027473847818139368), (1026, 0.027471701163851926), (3563, 0.027454563912623665), (3110, 0.027453099083152938), (950, 0.027447754137530752), (1829, 0.027447084282250442), (2976, 0.027444895473954557), (478, 0.02743177946110466), (1286, 0.0274288682198898), (305, 0.02742226125693822), (2363, 0.0274151028121859), (2285, 0.02741455468108567), (3179, 0.027412168219477808), (108, 0.02741079308783834), (3264, 0.02739337531551589), (2809, 0.02738948581395627), (2053, 0.02738478978284424), (606, 0.027384144092795777), (981, 0.02737478232466881), (2890, 0.02737008947567971), (3122, 0.027351016299116758), (1514, 0.027350770441389876), (2187, 0.027347113100936616), (2046, 0.027341835615135958), (2999, 0.027338365458966712), (3406, 0.027331247510792182), (1239, 0.027323369913169714), (38, 0.027316766224741888), (1376, 0.027295100667974224), (3662, 0.027293406913326202), (311, 0.027293217849058055), (3668, 0.027288038353344306), (2568, 0.027283945963292006), (2050, 0.02728201386381513), (2228, 0.027275558727512857), (2630, 0.027261396580979643), (2746, 0.0272524244395439), (451, 0.027244341335227996), (3514, 0.027243130775927785), (663, 0.02724263148095274), (2559, 0.027240607900513428), (1875, 0.027236352530595663), (648, 0.027217284634410074), (2077, 0.027197692077609553), (723, 0.027190516377723326), (3336, 0.027182076804986723), (3420, 0.02717524928221425), (534, 0.02715773442937546), (750, 0.027148996212047527), (1040, 0.027148750219765136), (2200, 0.0271414096446028), (3022, 0.027134964549744935), (1126, 0.027132854373397648), (2542, 0.027131413219687577), (2763, 0.027124449962532455), (1717, 0.02711723637073842), (3155, 0.027105497970360368), (301, 0.027104776207505343), (3372, 0.027102842055906635), (2377, 0.027095504927245925), (3708, 0.02708681180464231), (3404, 0.027080505476954047), (1367, 0.027071104629100288), (98, 0.027069322144210442), (1411, 0.02706882060632372), (2855, 0.027045121753363866), (744, 0.027039281912249753), (1461, 0.02701237812491846), (299, 0.027011963440663957), (2481, 0.027006001469967476), (2249, 0.02700590708296056), (2416, 0.02699850410062232), (3434, 0.026993869867161478), (1587, 0.02698973674809134), (1455, 0.02698287630220514), (1654, 0.026979818958596594), (1031, 0.026968125403370458), (3422, 0.02696771425287091), (2141, 0.026956280272779014), (1267, 0.02695540281144127), (2095, 0.026954627239058948), (2207, 0.026953400462134153), (2314, 0.026951288398541245), (890, 0.02694289106010575), (2557, 0.026941747797606372), (2629, 0.026939608764446156), (1724, 0.026922536743985676), (2389, 0.026919913835560777), (1617, 0.026902936621991037), (2673, 0.026897888907715134), (2896, 0.02689337923989546), (616, 0.02688677805862198), (2833, 0.026885915037028953), (410, 0.02688539154322938), (876, 0.02688265516323958), (3271, 0.026835623312903765), (1573, 0.026830500909805814), (868, 0.02681594698757852), (2156, 0.02681546417040381), (2001, 0.026799440415827415), (1970, 0.026790088151578826), (1542, 0.026781299426242904), (2928, 0.026775902464797097), (3186, 0.02677288547384394), (758, 0.02677058918294468), (445, 0.026762029360325505), (3575, 0.026753179036571973), (1499, 0.02675064555254443), (2327, 0.02674406717873361), (3126, 0.02673796430838216), (1240, 0.026736696479171686), (2110, 0.026707520960261535), (743, 0.026702578400265426), (2733, 0.026699428806356153), (52, 0.02669492275330918), (2216, 0.02669350862620337), (2683, 0.02668136105209451), (2236, 0.026672587512386662), (2210, 0.02667201781721768), (3315, 0.02667125789455013), (1616, 0.026660230263989063), (3021, 0.026647870648469157), (1872, 0.02663461678626896), (267, 0.02661691012698244), (3288, 0.026609426564429748), (2074, 0.0266048447197229), (2930, 0.026601034184189562), (2665, 0.026593092528986867), (452, 0.02658981345371579), (889, 0.026589456916728448), (473, 0.02657748632478315), (728, 0.02656376487434527), (514, 0.02656281095145841), (415, 0.026557064000114285), (977, 0.02655505016196582), (612, 0.026548027685523983), (2189, 0.026544851269716452), (1335, 0.02654246211380524), (2312, 0.026539658395154635), (914, 0.02652857979757981), (2055, 0.026519224399183562), (1671, 0.026517619901801105), (3276, 0.026511025345176197), (3270, 0.026493852374483248), (646, 0.026489648318523913), (2819, 0.02647816942908232), (2349, 0.026469846254146598), (1405, 0.026457002800799705), (1899, 0.02644965020123992), (2148, 0.026443302661255767), (2470, 0.026442735777405944), (1637, 0.026439252882400677), (594, 0.026431120560039302), (3518, 0.0264205383508775), (3235, 0.026417470716415148), (2725, 0.02641598653162996), (928, 0.02641481551911453), (1309, 0.02638536597330892), (1447, 0.026384512100745786), (63, 0.026364016229318298), (1622, 0.02634355541390679), (1852, 0.02629042255637081), (3163, 0.026290003132509943), (2689, 0.026280923812803125), (1226, 0.026277289744840792), (433, 0.02627455279720477), (1789, 0.026268973839167126), (843, 0.026268144627419766), (1870, 0.02625244547641581), (3587, 0.02624353379336848), (1915, 0.02624304858493845), (2682, 0.026239629898000796), (3390, 0.02623856857887948), (1161, 0.02622394559591577), (3118, 0.02622313515322683), (931, 0.026199675181329794), (2251, 0.02619832434572358), (1694, 0.02618140326107557), (3357, 0.026176838311172727), (1237, 0.026175037267694698), (3072, 0.0261704867266358), (2566, 0.026168703100462678), (3674, 0.026156983119908887), (1730, 0.02615638193177279), (1663, 0.026146145295685055), (2839, 0.026105386097591034), (1674, 0.026103650216188896), (1035, 0.02609637710451129), (2142, 0.026093671812361042), (3509, 0.02609274586883348), (1374, 0.02608570560943227), (2556, 0.026075792661385943), (3027, 0.026070173848063607), (1953, 0.0260673053646808), (1558, 0.02606515827594928), (1400, 0.02606240425357582), (569, 0.026061108852937564), (3443, 0.026050690091277397), (2770, 0.0260405530918137), (2412, 0.026033363422441533), (442, 0.026029637529426043), (1033, 0.026023780822379054), (2180, 0.026021050306565804), (1695, 0.026020355181407998), (1062, 0.02601936057320512), (1047, 0.02601598737057314), (1847, 0.026015860543133932), (790, 0.026010587236345663), (1243, 0.026005798442570897), (2287, 0.025999968035145246), (3628, 0.02599057123611267), (2558, 0.02598429145606055), (3106, 0.025979430643383435), (584, 0.025967885100915973), (2880, 0.025965497859415862), (1330, 0.025963208742303505), (1337, 0.02594337117991614), (223, 0.025939862849502577), (3701, 0.02593539161740461), (1668, 0.025933598775978513), (295, 0.02592351492156627), (828, 0.02591868808707443), (2918, 0.025916799370500284), (2955, 0.02590797607850565), (533, 0.025906761444706074), (2611, 0.025899882116688682), (1910, 0.025882331467810542), (209, 0.02588167831189285), (1516, 0.025876483715811426), (2882, 0.02585945130596829), (3360, 0.02584714381435598), (3636, 0.02584621411888074), (3667, 0.02584546118565373), (2473, 0.02584209304401906), (1224, 0.025840539282709934), (887, 0.025834942072510275), (3728, 0.02583366666470037), (1824, 0.025822213786324523), (3009, 0.025816495125253292), (1881, 0.025810785061688112), (3614, 0.025809900002694296), (1630, 0.02580853005126207), (2526, 0.02579713906768311), (202, 0.025788787341465738), (1532, 0.025782906434426142), (2214, 0.02578260498960766), (3042, 0.025782552057929262), (3075, 0.025770397134088716), (1123, 0.025766429287585463), (847, 0.02576247263707298), (650, 0.025756507597219907), (748, 0.0257558197232306), (1949, 0.025753545767872164), (1154, 0.02575287408570437), (3180, 0.02575197982159101), (2297, 0.025745383848053093), (2589, 0.025742272050846164), (1993, 0.02573856491783217), (1930, 0.02573794254424245), (3026, 0.025734003400140516), (727, 0.025728737326698652), (2606, 0.02572397053158698), (776, 0.025723089953145577), (2870, 0.025705405770254187), (1528, 0.025700056409457703), (3335, 0.025699067056370484), (1325, 0.025698952964228434), (856, 0.025696757222745753), (519, 0.025681807310638786), (1135, 0.025678479390943355), (2152, 0.025673971091233577), (3427, 0.025661994954122934), (1640, 0.025656329913934364), (2017, 0.02565068954522174), (819, 0.025639492095749453), (3000, 0.025639414625818226), (263, 0.025635712962220794), (2893, 0.02562813834886641), (2437, 0.025623028164767782), (1897, 0.025616310697240772), (1122, 0.025615431233575348), (851, 0.025605613010196808), (3140, 0.02559876325432555), (2014, 0.025595449503216443), (3676, 0.02558291366688732), (2047, 0.025582398841130307), (2270, 0.025580121517500266), (2899, 0.025576286667818672), (775, 0.02557100734014487), (1429, 0.025570328726774214), (3408, 0.025561627884745468), (2624, 0.025555175613082383), (2144, 0.0255536861914794), (1533, 0.025551012481824557), (1527, 0.025541405091194028), (3371, 0.02554069751427354), (3598, 0.025540636429574465), (661, 0.025530804740411632), (3415, 0.02552490888533145), (1479, 0.02551774149539837), (1372, 0.02550373172159786), (2719, 0.02550112139456198), (40, 0.025501003746110765), (2720, 0.02548703652209776), (3511, 0.025482621064396263), (3275, 0.02547317308810128), (848, 0.025451890096776807), (1207, 0.025440199516462165), (1410, 0.025429535849464387), (3107, 0.025427125665882212), (1880, 0.025423202285637856), (3564, 0.025407451201693274), (470, 0.025394830242839762), (3294, 0.025387938397514527), (3247, 0.025385704687337633), (3231, 0.025380047551392254), (3609, 0.025377964006158722), (1979, 0.025374517270053874), (2740, 0.025364088901198806), (280, 0.025362653515547465), (583, 0.02535691334958552), (323, 0.025339131588241796), (601, 0.025337743302655077), (3121, 0.025330292280610518), (762, 0.02532738972069652), (3439, 0.025322300348803548), (602, 0.025319864615783165), (3316, 0.025309275408937643), (1837, 0.02529992202211467), (792, 0.025294866871929465), (2787, 0.025283086710403316), (3505, 0.025282782588076532), (3069, 0.025281632395630926), (3282, 0.02526359515306146), (121, 0.025258184329314246), (1853, 0.02524346533266341), (1383, 0.025236700571927614), (3556, 0.0252315519871953), (2657, 0.025222628657001853), (2660, 0.025221062256500153), (30, 0.025206548613693355), (3680, 0.02519200421000644), (2486, 0.025180006394086796), (2934, 0.025175647817148063), (2282, 0.02516508204005614), (103, 0.02516246558725627), (515, 0.025153021107581747), (1571, 0.02514892773450496), (2577, 0.025143295829955548), (436, 0.025132782133620073), (2413, 0.025131808824875413), (1902, 0.025125692123016664), (3156, 0.025119051337981875), (1390, 0.02511762114072231), (555, 0.025116680142701485), (844, 0.025114047381725006), (3347, 0.025110947465928617), (1807, 0.025094789911854053), (2477, 0.0250908637806717), (1104, 0.025085717861462742), (3039, 0.02508140989987344), (2184, 0.025056763732336444), (1738, 0.025049711216080933), (2595, 0.025040093944532084), (1463, 0.02503353144473105), (192, 0.02503085339248019), (3503, 0.02503035210867225), (1519, 0.02501682458211031), (653, 0.02501636858272957), (2199, 0.025010515912265437), (2357, 0.024991028598219032), (3136, 0.024986447992548348), (2272, 0.024971738643247962), (1188, 0.02496943871170752), (2968, 0.02495382354810839), (820, 0.024950366597064434), (1664, 0.0249493162753062), (50, 0.02494814765912856), (1036, 0.02494349108362682), (3525, 0.024941857150195344), (824, 0.02493363950339248), (3592, 0.024930047311572206), (613, 0.024926292131862794), (2453, 0.024919591688201147), (2049, 0.02490278976292793), (1744, 0.024897453503529645), (2025, 0.02488871920566758), (124, 0.024885918622762484), (1629, 0.02488379836433371), (12, 0.024873379219291447), (3433, 0.0248655250790058), (1316, 0.024854213637522674), (2759, 0.024852201292068894), (3458, 0.024838230854792927), (213, 0.024829310446583132), (416, 0.024828901869125806), (272, 0.024825954407520414), (3387, 0.02482485865749289), (3735, 0.02482388029661115), (2174, 0.024823661601566075), (186, 0.024818193691390985), (2563, 0.024809413511925685), (1813, 0.02479501855128211), (3228, 0.024785005531953105), (3174, 0.024775411538424455), (3326, 0.024737081505484072), (1797, 0.02473599281960238), (453, 0.024731160028546202), (2946, 0.02471219864739749), (3219, 0.024707852780707043), (668, 0.02469499108121334), (2726, 0.02468858755884857), (3431, 0.02468677642949335), (2697, 0.02467213929026065), (431, 0.024660244000695337), (1268, 0.024659613388389005), (1279, 0.02465739763334247), (3111, 0.024651520247299705), (3417, 0.02465033032388943), (2442, 0.024636611423219722), (924, 0.024635913145932515), (1624, 0.024633408450241038), (1839, 0.024623265694178366), (1219, 0.024619711889183313), (1085, 0.024609554380538055), (1068, 0.02460437215120923), (1583, 0.024601577316222), (1977, 0.024585239050995918), (596, 0.02458364833180361), (3297, 0.024579216670363647), (733, 0.024575560165954042), (67, 0.024569736659127588), (282, 0.024547356500008548), (3504, 0.024528491535102465), (2995, 0.024528280566114107), (3019, 0.02451618093135513), (48, 0.02451330995711042), (2972, 0.024512405654470614), (901, 0.024507657416490407), (1306, 0.024505295179018238), (3097, 0.024503467846250016), (3501, 0.024492635507110085), (2597, 0.02449163686577346), (1981, 0.024487335356597667), (2879, 0.024482427851083753), (3448, 0.024463246967203825), (3573, 0.024455348852419363), (651, 0.0244532787173773), (347, 0.024452610811364846), (19, 0.024446480367592022), (3224, 0.02443930500540048), (1887, 0.02440465842483589), (550, 0.024390045791021726), (1270, 0.024389871063611745), (1530, 0.02438059238775413), (3541, 0.024361631729006378), (1811, 0.024354315082651123), (2512, 0.024352794555986438), (1547, 0.024347185311931013), (2782, 0.024341364533142937), (2281, 0.024334812492429164), (1595, 0.0243309330692126), (1871, 0.024325248305876346), (2900, 0.024323257414484545), (2043, 0.02432221430887286), (831, 0.024321778594690535), (825, 0.024321043190235574), (1434, 0.024319206695420932), (3206, 0.024312441622944332), (3279, 0.024292365923314643), (3653, 0.024290194957149788), (2781, 0.024272377847850968), (2403, 0.02426841651596422), (2295, 0.02424253552868944), (2729, 0.02422674043959179), (3615, 0.024217327950952022), (3095, 0.024215212965504922), (3576, 0.024212972995837644), (3041, 0.024205181356704547), (3169, 0.024182981089910474), (1167, 0.02417833142320703), (3428, 0.02417495242669064), (1779, 0.02416884598567899), (2080, 0.02416091516569656), (2649, 0.024158988649360304), (3468, 0.02415273998549617), (1959, 0.024148870262137367), (1732, 0.02414576907495073), (3506, 0.02414428531735619), (3722, 0.024134185550449445), (3465, 0.0241195135553341), (231, 0.024110339200419537), (3397, 0.024105114265250437), (754, 0.02410508128734378), (3318, 0.024086752986777975), (3457, 0.024074035334481016), (3366, 0.02407331139123679), (1793, 0.024068971946810586), (2464, 0.024067088131698947), (1515, 0.024060083669632297), (3640, 0.02404904147493925), (658, 0.02403717021032569), (963, 0.024036633940080713), (2390, 0.02403190629013635), (3693, 0.02403092355741723), (2238, 0.024026140047858496), (545, 0.024019513100019124), (423, 0.02401697847238819), (3040, 0.024011050305140284), (417, 0.02401060357918689), (3393, 0.023996318252491745), (1531, 0.023991967100653086), (3572, 0.023988211375519812), (225, 0.023988200108063518), (2716, 0.023982469963921997), (2105, 0.02397798390808243), (133, 0.023976688777700157), (2820, 0.023975263042325924), (3298, 0.02396701764865672), (3568, 0.023960738089322343), (449, 0.02395944993158016), (1046, 0.023958084425615436), (188, 0.023952907102896014), (2540, 0.023944269898806228), (113, 0.023939550127251002), (461, 0.023932596317761436), (3635, 0.023927985769457663), (64, 0.023923805766836014), (2811, 0.023909104045675963), (1554, 0.02390680653688266), (1205, 0.02390313170998056), (253, 0.023899610103236116), (2771, 0.023898365367666652), (132, 0.023897869294906827), (2262, 0.023887911265541635), (3594, 0.02388542375940323), (1389, 0.023875431735121175), (1087, 0.023860456543950404), (2964, 0.02385955603642205), (1925, 0.023858226832959864), (1141, 0.0238483525206454), (328, 0.023822108929586222), (1421, 0.023818921377887846), (2484, 0.023812983736503816), (1090, 0.023806377911472262), (905, 0.023806250994267752), (2186, 0.02380449541926464), (3061, 0.02379256156688047), (465, 0.02377789905439414), (2916, 0.023767670326606156), (2824, 0.023758530335484744), (3172, 0.02375549910399464), (1590, 0.02375498590813192), (2775, 0.02375223905451012), (2902, 0.02375042656730832), (1650, 0.023748667390527813), (2579, 0.023747871724668752), (3165, 0.023747426924755666), (3341, 0.023737328950167558), (2608, 0.023736263903921313), (1632, 0.023721350448576255), (704, 0.023720600499288057), (1124, 0.023709276396827142), (62, 0.023702111567907046), (3177, 0.023699293618480208), (1998, 0.023698410886679656), (1050, 0.023672136427268856), (3571, 0.02364249255277475), (2176, 0.02364201293399591), (590, 0.023631645950084625), (3035, 0.023631568974933393), (2565, 0.023625903587187146), (2171, 0.023617746404785346), (269, 0.023615422229467067), (705, 0.023608696265869537), (1520, 0.02360310922392455), (2530, 0.023595071276971122), (2931, 0.023575509034120406), (2117, 0.023566223088877715), (3487, 0.023559181573634055), (3249, 0.023534061991497515), (3533, 0.023532546784362746), (3084, 0.023528037076518536), (88, 0.02352800340667167), (3423, 0.02352183365388459), (2447, 0.023518796144637047), (2662, 0.023516086773407784), (2715, 0.023515411071170954), (2766, 0.02350587048620612), (571, 0.02350359023644423), (44, 0.02350273889668438), (1283, 0.02350190011798676), (2537, 0.0235009757233256), (3666, 0.023499192865934958), (631, 0.023493942901808007), (3361, 0.023477359073102548), (2309, 0.023475678207351663), (2646, 0.023461205922324656), (3454, 0.02346032278112651), (3528, 0.023456236987960958), (1598, 0.02345361500099248), (3321, 0.023447542626973836), (2704, 0.023444160401824923), (2324, 0.02344009646761065), (798, 0.023419942386936368), (2333, 0.023419359684915222), (877, 0.023416046501111967), (2507, 0.023413060732005265), (2960, 0.023412756835116004), (3530, 0.02340587959163793), (1460, 0.023393553994363228), (2945, 0.023384331204022515), (3617, 0.023382208840274005), (1204, 0.023380452862914656), (707, 0.023377090904456548), (1781, 0.023376797017475574), (1156, 0.023372187103080568), (3616, 0.023342024428413), (3463, 0.02332324792315588), (2286, 0.023309272841966704), (3319, 0.0233056095019645), (3665, 0.02329754558304958), (1001, 0.023293026069898477), (20, 0.023287922414867334), (1548, 0.023285908227899867), (786, 0.02325992674626681), (2866, 0.023255594395420846), (657, 0.023248172355175983), (73, 0.023244246508514997), (2223, 0.0232324014261288), (3353, 0.023230909441965673), (3153, 0.023229931061603894), (3076, 0.02321782153450814), (255, 0.023216183664756012), (777, 0.023209212306941285), (3240, 0.023208445825797584), (804, 0.023204356429214843), (1892, 0.02318427840997626), (730, 0.023182246839014875), (3442, 0.02318110443682621), (2903, 0.02317556192950829), (2178, 0.023162943198425715), (1706, 0.02315212492771228), (422, 0.023143940273191436), (3696, 0.02314290570687643), (1442, 0.023132238877850004), (2524, 0.023131019961749037), (437, 0.023129277431103677), (3601, 0.023128846333873736), (1385, 0.02312435158410697), (2190, 0.02311770552244001), (849, 0.0231165475765621), (1665, 0.02311338665837947), (3471, 0.023108414569425303), (2907, 0.023105905416536905), (492, 0.02310292947307125), (3502, 0.02309610986834051), (793, 0.023090397197056457), (910, 0.023087314138012356), (3274, 0.023083462137767755), (3561, 0.023083116078790343), (2631, 0.023076939701770615), (1777, 0.023069253158687186), (2761, 0.02306923912539438), (1424, 0.023066025103451293), (745, 0.02306535631560345), (339, 0.023054726276236375), (2260, 0.023053235737331788), (1115, 0.023051655067178507), (1166, 0.023050933028322392), (3055, 0.023044036675290494), (3178, 0.023041319621081562), (1190, 0.023040072571491856), (2386, 0.023040043061545792), (948, 0.023031506895452143), (1565, 0.02302294040075684), (3038, 0.02301499114191851), (2947, 0.023011828122529318), (2570, 0.022998640196105955), (1991, 0.022988678248703674), (1072, 0.022987118475389767), (556, 0.022984113620788782), (3056, 0.022959635079013736), (1216, 0.022958937465074485), (2935, 0.022946257754000065), (724, 0.02293032472119842), (90, 0.02292921607578893), (1667, 0.02292916441823416), (995, 0.022928769562124945), (25, 0.022928275135047062), (2208, 0.022925165784320023), (139, 0.02292130078778061), (2651, 0.022914785283600473), (1948, 0.022913606687279278), (1147, 0.022908047329498707), (1134, 0.0228903976703867), (3017, 0.02288910327708555), (3238, 0.022886998553888795), (2009, 0.02286586653722817), (2988, 0.02284702798270844), (898, 0.022844370621863612), (1261, 0.022835736451956374), (1328, 0.02283005129866602), (1426, 0.02282941598780802), (3259, 0.022800194015890615), (1102, 0.022782349250748218), (3082, 0.022763297835283455), (999, 0.022752414456741185), (1819, 0.02274630794690982), (3726, 0.022734077127640785), (2742, 0.022730448659846587), (1352, 0.02271420621840215), (220, 0.022708599725549807), (148, 0.02270793867611935), (3244, 0.022706511984898523), (109, 0.022701683872020248), (1091, 0.022701091813522718), (1308, 0.022697667080759407), (2601, 0.022696375673201794), (560, 0.02269254102772275), (2971, 0.022679748946280734), (2815, 0.022673743129717608), (2376, 0.022660488658123815), (1428, 0.022656676721080182), (2768, 0.02265638086375489), (2895, 0.022650066671159198), (1195, 0.02264425790596385), (1585, 0.02263341453372908), (2265, 0.022631546323962456), (101, 0.022631409826509095), (2962, 0.022625428367956803), (123, 0.02261235710442806), (1884, 0.022598916102876194), (3252, 0.022583312313345302), (2125, 0.022582369238614487), (2691, 0.022576905847257033), (1643, 0.022575683638827244), (1401, 0.022570572164003617), (1882, 0.022559576298452053), (3281, 0.022554281614954565), (2137, 0.022549362225131406), (2735, 0.022542866015977693), (912, 0.022531302931625388), (1022, 0.02252324261402657), (1451, 0.0225111246437021), (1009, 0.02249296645293382), (1080, 0.022488890990074215), (701, 0.022468908922855843), (1504, 0.022466572610595356), (945, 0.022461885644074666), (348, 0.022456323060113192), (1263, 0.022450838626665328), (2343, 0.022435774046425477), (3545, 0.022429102931011493), (3727, 0.022428736238727712), (2196, 0.022409532538281755), (1425, 0.022408175076392825), (756, 0.022380484151073375), (2192, 0.022377773865072812), (134, 0.022373026790593768), (2710, 0.022358984637871483), (1846, 0.02235840720231462), (97, 0.022355625726536682), (1653, 0.02235450846666791), (1233, 0.022350905729429), (992, 0.022345381324083122), (376, 0.022337781992614464), (385, 0.022326846716539672), (3673, 0.02231927153043602), (3444, 0.022314231863090506), (1002, 0.022312236415673127), (1698, 0.022311532085563874), (2773, 0.022308629498610393), (3449, 0.022303585739754644), (2527, 0.022301194081525914), (3314, 0.022298554877898565), (340, 0.022295552050537088), (2675, 0.022287797694677598), (1209, 0.022281380699778478), (2433, 0.02227584006360208), (769, 0.02227352341680034), (427, 0.022271424132503007), (2632, 0.02227013584913699), (597, 0.02225887269591107), (1749, 0.02225629916463858), (1683, 0.02225532806442308), (1517, 0.0222476103702973), (1415, 0.022239217062503227), (865, 0.0222388437291373), (495, 0.022231819404311064), (1165, 0.022230826002038885), (2509, 0.022227638885592402), (3425, 0.022214482084886703), (1523, 0.02219326676631378), (3142, 0.02219071541424732), (1512, 0.02218123257106139), (1681, 0.022179997441482177), (2834, 0.02216807824607659), (2106, 0.022163356609930726), (399, 0.022159698600444172), (185, 0.0221539845664369), (774, 0.02213997461345488), (3647, 0.022108828648579045), (396, 0.02210658800499159), (68, 0.02210566616341692), (3157, 0.022105182853637533), (321, 0.02209909024341905), (3450, 0.0220805579068799), (2793, 0.022073596272115657), (2143, 0.022059129824043858), (1812, 0.022053735971447344), (293, 0.022052071671688427), (2765, 0.022042630413394527), (1559, 0.02203734845289295), (2887, 0.022028565654330205), (563, 0.022023356759861203), (3295, 0.022019690119789572), (1189, 0.022012375177481468), (3086, 0.022011980649250883), (3718, 0.021989117917953348), (1005, 0.02198417155793216), (837, 0.021983965091443652), (2085, 0.02196493610590989), (2259, 0.021964342227855545), (3112, 0.02196251336800281), (1772, 0.02195535466372483), (1332, 0.021952365676523394), (2133, 0.021951703222727315), (918, 0.021933123224367565), (611, 0.02192459693512842), (2937, 0.0219222092685822), (2109, 0.02192021213554931), (1092, 0.021917730269820353), (1942, 0.02190728866346299), (365, 0.021901320881775516), (3445, 0.02188452708374964), (3090, 0.021872004851274766), (3324, 0.02186968705880301), (377, 0.021864380855738774), (1144, 0.02186427872336153), (1339, 0.021849876991701406), (1101, 0.021846685380326393), (2684, 0.021836887474245916), (157, 0.021834346754534613), (361, 0.021833029330484442), (3512, 0.021831129683263627), (2350, 0.02182779313984881), (3461, 0.021819513941974837), (1202, 0.02179328695769285), (911, 0.02179298812900804), (196, 0.02178336693857626), (1935, 0.021775226866280285), (2904, 0.021771633770829864), (2703, 0.02176413998749039), (1727, 0.021756172872005458), (1075, 0.021750752169532258), (686, 0.02174635997837073), (3473, 0.021741902904297943), (1920, 0.02173254120863122), (345, 0.021718750833240878), (2079, 0.02170557887322558), (3714, 0.021695040562372696), (3581, 0.021694770205063982), (511, 0.0216876526537797), (1912, 0.02168678035343155), (1221, 0.021669513418605024), (2206, 0.02166153009607405), (2245, 0.02165674871829969), (3215, 0.021654941352924187), (930, 0.021654614237543376), (810, 0.02164818502649276), (3447, 0.021643694186215305), (2161, 0.021629186578540856), (1937, 0.02162318443250135), (3192, 0.021620463182673976), (1193, 0.02161377173492788), (3332, 0.02160358996013175), (1093, 0.021602721160050624), (1234, 0.021595661211938198), (622, 0.021593570796605385), (1770, 0.02158572048345532), (1704, 0.021575119336566882), (1891, 0.021572578540304505), (3011, 0.021571332352703563), (626, 0.02157013518705301), (1192, 0.021568225871565528), (373, 0.02156765191890772), (3725, 0.021559070614232553), (3472, 0.021552358262197327), (175, 0.021546129394221264), (187, 0.021531486622613533), (2063, 0.021518807931448957), (814, 0.021516867633312165), (2967, 0.021510870541940057), (2060, 0.021506838910740667), (319, 0.021503163224134036), (706, 0.021497385189723973), (2127, 0.021484826382091683), (1689, 0.02148199995171545), (2996, 0.021478210247733692), (881, 0.021460322400468735), (2590, 0.021442348695248317), (1879, 0.021421523132178523), (349, 0.02142027744967126), (2224, 0.021394510800676524), (1495, 0.021387244009501614), (1474, 0.02138683175612134), (26, 0.021382113288543877), (1721, 0.021376746925746714), (1710, 0.02137418441178451), (1130, 0.02137204757574892), (3492, 0.02135424031891101), (2358, 0.021343083853940865), (2443, 0.02134202317014644), (971, 0.021334882536884113), (3729, 0.02132936666178292), (381, 0.021324498246552002), (1791, 0.021323812349228234), (3367, 0.021294153676893225), (2003, 0.021289718985211908), (3538, 0.02128658972092139), (2831, 0.021277352013394705), (1614, 0.021274427419428983), (3348, 0.021258814794977085), (2814, 0.02124897480314663), (2592, 0.021235574637900403), (1596, 0.021232919113803584), (2676, 0.02123037104277993), (1159, 0.021228145661872113), (1658, 0.02122041790071995), (454, 0.021208796994683643), (1506, 0.02120468072817743), (359, 0.0212045066418876), (2317, 0.021203123565665682), (1313, 0.021201154346127835), (2932, 0.021200885897437884), (1262, 0.021199397812384398), (2868, 0.021194951269088456), (923, 0.021193537747539633), (662, 0.02119030576690712), (3517, 0.021179445794274936), (2823, 0.021176147436357512), (3116, 0.02117053418822237), (2081, 0.021159862992733522), (3137, 0.021157413171004256), (1901, 0.02115378143197993), (1269, 0.021148191452157152), (1066, 0.021132431801394444), (2338, 0.021129765128265497), (3379, 0.02111146777528055), (2653, 0.021109493140411332), (791, 0.021109451363262033), (3346, 0.021106820999661696), (1055, 0.021100757407536478), (173, 0.02109635533088016), (573, 0.02109612662843221), (2010, 0.02109609313168867), (3342, 0.02109130638151905), (2826, 0.021084392191632627), (1850, 0.021081880826051173), (1525, 0.021071105534890635), (1431, 0.02106598847797858), (2296, 0.02104856916620229), (346, 0.021038327782048716), (2215, 0.02101198539195224), (1282, 0.021011843045992303), (3006, 0.02098753299406878), (2652, 0.020977371151101654), (2420, 0.020976333743558697), (2821, 0.020975732711523802), (1820, 0.02097528144717709), (2219, 0.020974827422583366), (3704, 0.02096478635972042), (1814, 0.020956567777570396), (2822, 0.02095095830358048), (1518, 0.02095045787392042), (978, 0.02093983827451989), (3369, 0.0209378461956957), (1315, 0.02092896544166405), (3233, 0.02092801948677478), (3305, 0.020924929939492645), (3625, 0.020917240772086742), (2044, 0.02090827831765532), (2472, 0.020902913656626356), (3239, 0.020901069251388668), (523, 0.020888353974912368), (344, 0.020875488682976822), (2881, 0.02087530562314567), (2097, 0.02087219572945085), (2451, 0.020867387092591047), (1568, 0.02085577399973075), (1607, 0.020848101685318466), (674, 0.020830679040732873), (1077, 0.020828614469610884), (2407, 0.0208281782330627), (585, 0.02082788451270944), (1320, 0.02081492983564809), (1477, 0.02080685025330229), (178, 0.020803616550212088), (3016, 0.020793023175498467), (480, 0.02077950222463091), (2107, 0.02077449722785034), (1368, 0.020772698222981893), (2163, 0.020771761486833386), (2279, 0.0207633074521393), (460, 0.020760235722990093), (1438, 0.020753548178209125), (1676, 0.02075166069526023), (955, 0.02072861081684153), (3286, 0.020714582599261046), (623, 0.02070947429247793), (952, 0.020706149597627267), (1276, 0.020705812774757457), (2145, 0.02067979926486137), (3494, 0.020670470174551793), (3634, 0.020669728100115012), (3419, 0.020664388576336852), (228, 0.020656902425129055), (635, 0.020651738003609844), (2840, 0.02064643100276072), (1983, 0.020628081643320806), (852, 0.020626291682217947), (1470, 0.020618486619961185), (3559, 0.020617504109922857), (2602, 0.020612407617214515), (767, 0.020611026372222018), (3117, 0.02060885694393612), (2173, 0.02059363869859144), (2508, 0.020581412284805634), (1987, 0.020581366032604683), (3034, 0.02057908049380941), (3370, 0.020570965154320126), (1456, 0.02056763040782233), (1369, 0.020567291979934812), (2668, 0.02056539236744618), (2627, 0.020563131663503813), (324, 0.020555899017141763), (496, 0.020549307061459916), (2418, 0.020548286136360925), (1758, 0.020527201989081038), (2419, 0.020523256460865644), (3131, 0.020515480577884757), (1878, 0.02049200956879991), (2693, 0.020484610532771088), (2997, 0.020480903810587793), (2342, 0.020458525989209442), (3508, 0.02045260870418574), (464, 0.02043835480084448), (3008, 0.020429590240754233), (1986, 0.020421904375273716), (1716, 0.020412133935729354), (2547, 0.020411328016550205), (593, 0.020405602697984575), (3216, 0.020398477423210184), (630, 0.02039437315916337), (3356, 0.020390354235937665), (803, 0.020383628216422485), (1591, 0.020383466366723467), (2166, 0.02036674983432247), (141, 0.020358489417450207), (2750, 0.020357304393470433), (703, 0.02035084887310534), (1292, 0.02034793377067654), (3132, 0.020344372539086483), (1008, 0.020335658714475274), (2721, 0.020329116781290003), (2194, 0.02032101424192355), (660, 0.020313773215307085), (1412, 0.020301110366017037), (3610, 0.020279124534499003), (447, 0.020273851100059366), (146, 0.020258722066154665), (3588, 0.02025760088915804), (1254, 0.020257008172205864), (929, 0.020252919566400532), (975, 0.020242250198854714), (168, 0.020240993417327983), (3236, 0.020235988883921682), (281, 0.020207618382546696), (3272, 0.020199670836916123), (721, 0.020187203158133507), (1492, 0.020178042031697097), (2428, 0.02017262919612161), (3560, 0.02017250863779249), (45, 0.020167083306480448), (476, 0.02016663156786853), (2197, 0.020164786836230943), (55, 0.02016332005621677), (1052, 0.02016236221716519), (577, 0.020160173099706892), (1408, 0.02015464152163686), (2933, 0.02014897843852178), (3401, 0.020143655940207797), (1718, 0.020136895361031578), (3413, 0.02013600614672402), (3054, 0.020135543950444593), (1885, 0.02013391596579833), (284, 0.020129785238222432), (1651, 0.02012260479483699), (3596, 0.020104487062685254), (3483, 0.02010005362698712), (18, 0.020094239719034478), (2535, 0.02008715386203517), (2956, 0.020071772105520785), (709, 0.02006856451664931), (666, 0.020067437026502814), (1191, 0.020066903001898347), (2751, 0.020058647386554874), (1132, 0.020030431080925615), (3213, 0.020019081307635935), (2515, 0.0200115576303589), (193, 0.020010644270730966), (1943, 0.020007712382984755), (2170, 0.020006930490590193), (1768, 0.020001903635785186), (2848, 0.020001432546677637), (3398, 0.01999004931718423), (2209, 0.01998761125161993), (3248, 0.019981091746730285), (471, 0.01996939751530124), (866, 0.01996117666190387), (2367, 0.01995631439344045), (2501, 0.01994019394252088), (275, 0.019919929578829227), (1815, 0.019911513451464385), (1501, 0.019911358871171302), (2101, 0.01990912974007599), (697, 0.019905423330656244), (3590, 0.01989621546148979), (2450, 0.019883387414614664), (3150, 0.01987593677571406), (2888, 0.01987541897576803), (2371, 0.019869315086153007), (1187, 0.019865633441394675), (517, 0.019861268935728895), (320, 0.019852212512529954), (1280, 0.019852079192060175), (395, 0.01985143863229781), (1938, 0.019840375528994224), (3299, 0.019839820012798902), (1396, 0.019810543905938616), (3396, 0.01980876956618861), (1422, 0.019808671231445647), (149, 0.019794556632753167), (1936, 0.01979360407851457), (3227, 0.019793541236463045), (174, 0.019784693163592475), (841, 0.01977601019599568), (3190, 0.01977600277286354), (1541, 0.019771736556544968), (3323, 0.019771714408522413), (1708, 0.01976623983171861), (3214, 0.01976038498592257), (1700, 0.01973589011036714), (797, 0.019726065499730248), (387, 0.019726002593113016), (6, 0.0197169948525249), (2846, 0.01971643856696962), (2829, 0.01971385035436379), (229, 0.019704317322218223), (3589, 0.019704242927772855), (341, 0.019700630994356073), (2910, 0.019700341471601244), (402, 0.019696485820503616), (505, 0.01968366325384066), (2497, 0.0196774966168136), (2963, 0.019658490189664025), (3181, 0.019657686522238434), (128, 0.019655420934523916), (772, 0.01965401552371887), (2635, 0.01964913385823559), (3262, 0.01964022407638633), (78, 0.019637942452748535), (1430, 0.01963519310678925), (1248, 0.01962962392186269), (2355, 0.01962135788189765), (1771, 0.01960532222317185), (2628, 0.019601609040751807), (3663, 0.019593193334682575), (3257, 0.019591496600699837), (3167, 0.019587480197399264), (718, 0.019580143255953694), (1365, 0.01957308924641494), (3204, 0.019570097356908005), (89, 0.01956674951376204), (1741, 0.01955715926317777), (913, 0.019550162494617135), (3087, 0.01954377208184228), (2583, 0.01952470414074998), (3400, 0.019522120015958804), (2897, 0.019520778135539835), (3429, 0.01951329864783103), (2875, 0.019499326412182463), (199, 0.019497911223637164), (1967, 0.019490095239531994), (2914, 0.0194730239197129), (1386, 0.019453955679794806), (3446, 0.01945320258808761), (2560, 0.01943268661887908), (3005, 0.019426314449019495), (1073, 0.019418649183961408), (3703, 0.019413135187590018), (716, 0.019409633074057568), (600, 0.01940033572428324), (1138, 0.019399745590603423), (2912, 0.019382093927527204), (1406, 0.019358900060680397), (2369, 0.019358834111198514), (1974, 0.019358145564308184), (391, 0.019357867777613946), (2936, 0.019355826131268586), (917, 0.019355735904070432), (2798, 0.0193542246677669), (2745, 0.019350377398074874), (1174, 0.019338518136009557), (1065, 0.019330755959008832), (9, 0.019325681623712895), (3661, 0.019313862128103446), (2480, 0.01931020132736308), (506, 0.01930787342764387), (3345, 0.019290090463163774), (1711, 0.01928685371414174), (2722, 0.019281632324183087), (1609, 0.019275087591540153), (2618, 0.019268958999146435), (3269, 0.01925117581985077), (3328, 0.01924891267973907), (190, 0.01923334412074606), (1323, 0.01923143225584945), (3134, 0.01922882740566886), (2753, 0.01920534871778113), (2634, 0.019199230154400847), (215, 0.01918497864938396), (3688, 0.019154177870700808), (1362, 0.01915108053763404), (468, 0.019135201935123976), (2550, 0.019131429564441894), (1584, 0.019131146776773557), (155, 0.019127709612692095), (966, 0.019126229072540597), (2476, 0.019119093823170258), (3519, 0.019111682603399995), (1014, 0.01910665085231363), (3717, 0.019093934637672692), (288, 0.019080460383165652), (3058, 0.019060136666480224), (509, 0.01905306860467601), (2891, 0.019027331420161386), (2913, 0.019025612402940893), (3645, 0.019018011806363443), (2483, 0.019015517204144534), (331, 0.01901434295371158), (499, 0.01897810150696723), (169, 0.018977559684844707), (1731, 0.01897464767465065), (2772, 0.01897423807694021), (1537, 0.018971008903656994), (218, 0.01896819645793081), (2647, 0.018963476962447892), (1642, 0.018955889185246808), (770, 0.01891921186482982), (448, 0.018914483545772624), (2398, 0.018912444739864302), (2808, 0.01889993562722959), (3330, 0.01889935320847746), (1064, 0.01889625387723088), (2511, 0.018895112715424302), (3128, 0.018888427451552565), (1830, 0.018865512884122075), (3537, 0.01885308704015145), (1168, 0.0188403354463912), (551, 0.018824540566022688), (2830, 0.018824399939808757), (1666, 0.018822032963794717), (1037, 0.01881287415405901), (1578, 0.018809411003072665), (1782, 0.018800375693722178), (1551, 0.0187934826787857), (961, 0.01877890934460224), (95, 0.01875442036775608), (832, 0.018744317001277072), (3098, 0.01874052203216034), (483, 0.01873782393190369), (595, 0.018703843146193493), (2755, 0.018701960332142574), (1106, 0.018701452117683412), (2844, 0.018690929401813904), (3510, 0.018686856467866463), (547, 0.018684448863220453), (1713, 0.01865767982966251), (2957, 0.018654511161597654), (2810, 0.018647824494004504), (1954, 0.018638977605338915), (3641, 0.01860698972611577), (2942, 0.018606394168316578), (1556, 0.01860331922713528), (3333, 0.01859812765164024), (688, 0.01859514854238972), (3720, 0.0185825872801309), (943, 0.018575522284194672), (1242, 0.018568046576901615), (2672, 0.01854533020300967), (1964, 0.01854452979713654), (3293, 0.018538667808729214), (3639, 0.018536148717622172), (271, 0.018518950993834115), (2748, 0.018518255854038858), (130, 0.018516586020492533), (1693, 0.018515725573280385), (1171, 0.018513369686382206), (2038, 0.01850326668899819), (1326, 0.01850092365783819), (1162, 0.018499799276655404), (2827, 0.018487824634292136), (338, 0.018474398264975295), (1260, 0.01846531080958805), (1720, 0.018434686336837668), (2739, 0.01843163266109237), (619, 0.018428646591124434), (3732, 0.01842478693252241), (1982, 0.018399748295769555), (2783, 0.01839530706734753), (27, 0.018389207810476278), (1418, 0.018374036092168016), (2012, 0.01836212882151061), (2193, 0.01836164072991233), (1228, 0.018361111774433687), (2655, 0.018356894860703753), (3570, 0.01835056976778899), (3490, 0.01834711507241863), (2258, 0.01834675684963973), (164, 0.018342793620652383), (2240, 0.018333339512544233), (2384, 0.018330050685747), (1146, 0.01832961882954861), (35, 0.018327903452991505), (502, 0.018313389488126868), (2475, 0.01828660029560444), (3546, 0.018266642422975043), (3469, 0.0182587567993657), (562, 0.018246142343347226), (3650, 0.018245674899367986), (715, 0.0182434878666849), (836, 0.018229620890840636), (3101, 0.018214594750899885), (3579, 0.018203361683627354), (1746, 0.018199414638309416), (3171, 0.018174011197174343), (3432, 0.018159860820574636), (1435, 0.018158957218171273), (3493, 0.018140826024684704), (166, 0.018132117622240734), (3199, 0.018129572693833848), (2541, 0.01812255468285913), (2520, 0.01808205129408741), (2263, 0.018073546730418985), (2311, 0.01807254078908215), (941, 0.018069643269317114), (404, 0.018069599078939107), (1576, 0.018054855249112857), (1048, 0.01804685611371028), (475, 0.018043022030095605), (2335, 0.018042151568851708), (2925, 0.018037082061186198), (654, 0.018035584219206997), (1984, 0.018023579746016486), (2089, 0.018022849127746297), (3141, 0.018015770007059954), (1277, 0.017997195417130747), (2619, 0.017993836233488388), (1119, 0.017978860869301276), (1634, 0.017967324997987547), (580, 0.01794454216761663), (1778, 0.017943604472328976), (1496, 0.01793615221001396), (1620, 0.01793239340501829), (3060, 0.017915914530602872), (2222, 0.01789795095763016), (1016, 0.017896881476534388), (3194, 0.017895379084724713), (156, 0.017882672766511613), (362, 0.017861689103646713), (3292, 0.017861168814581028), (3020, 0.01785467311505289), (2788, 0.017847429810957504), (2344, 0.017836603146055396), (1475, 0.017835042772289755), (3521, 0.017832380791738586), (541, 0.01781077997085349), (1004, 0.017803050672327035), (3626, 0.01779119467432867), (2158, 0.017776142792145084), (2299, 0.017771462319008915), (2104, 0.01776531258929993), (2164, 0.01776152657875084), (256, 0.017758506117842326), (75, 0.017737488950134425), (2067, 0.01773312611149866), (1473, 0.017716541078380926), (581, 0.017691697473609727), (998, 0.017687532040267386), (29, 0.01767987295844039), (3441, 0.017657616275208392), (3123, 0.01765696436864793), (2072, 0.017655665194568872), (1521, 0.01764498620812118), (3721, 0.017637410020532727), (2986, 0.017622474962250608), (1467, 0.017619099684973216), (3176, 0.01761544740029063), (33, 0.017615431233427965), (249, 0.017615343624008302), (1725, 0.017609903813898837), (1038, 0.017588787830270902), (1615, 0.01756510913371721), (1288, 0.017563584180135337), (2271, 0.017555792802424877), (2884, 0.017543191517533724), (2973, 0.017542848942501507), (1225, 0.01751235614955778), (761, 0.017502106404752315), (1175, 0.017498859482272033), (1095, 0.01748685405807651), (2667, 0.01747980283489513), (144, 0.01747055796070903), (3386, 0.017462416819474524), (1600, 0.01745988265005481), (1906, 0.01744992115381977), (991, 0.01744133195920381), (1510, 0.017384430005000215), (1855, 0.017378324382772797), (2666, 0.017370396390847066), (3380, 0.017365804976708078), (2202, 0.017354348054123177), (698, 0.017329174737860813), (2498, 0.01731708262717807), (3700, 0.017316965973218135), (922, 0.017310951345282877), (1128, 0.017310153291141633), (1013, 0.017304328680385145), (1652, 0.017289510947482954), (2326, 0.017284297101405676), (1395, 0.017278707182878352), (1890, 0.017270926940295937), (314, 0.01726497951388789), (3198, 0.01725846453770347), (3031, 0.017232829191617782), (3678, 0.017229516135507293), (91, 0.01722147195280851), (4, 0.01720929540299173), (1861, 0.01719645892419732), (77, 0.017177895528819757), (2288, 0.01717636156953372), (3707, 0.017161727127084903), (1860, 0.017147747224448937), (1705, 0.017146933491472807), (3599, 0.017146074755126733), (3030, 0.017144878711769028), (1644, 0.017142044287678033), (2393, 0.01712157114498519), (2273, 0.017091815608593554), (1895, 0.017088823583354), (375, 0.01707375144054474), (2052, 0.017063378889933162), (3621, 0.017059569867541646), (1208, 0.017059102517908677), (1690, 0.017050334387839733), (1446, 0.01704644204961784), (2181, 0.017041163065823497), (711, 0.017028178188656158), (3526, 0.017027335368807024), (3025, 0.017009864453779243), (2709, 0.017008334477380267), (466, 0.01700094185110359), (3495, 0.016997113792936433), (2365, 0.016991559671377013), (3149, 0.016975226212182382), (3453, 0.01696767554385573), (1989, 0.01695056687775339), (2439, 0.016950390431532507), (3529, 0.01693999203924123), (3104, 0.016939051932331833), (3014, 0.01693856700460108), (7, 0.016933744113945708), (85, 0.01693026045268625), (2026, 0.016929213152661087), (1054, 0.0169092046753179), (1806, 0.016902289729939537), (2529, 0.016879000618955257), (1351, 0.01687255398224589), (2939, 0.016865150684702096), (960, 0.016846836248264618), (2441, 0.016838672130659236), (2694, 0.016819628580086086), (617, 0.016798366766738144), (1197, 0.016784951130312947), (1227, 0.01678291381766836), (2069, 0.016770869588193113), (2807, 0.016761432074186226), (430, 0.016754193144342115), (3547, 0.016751011721083543), (2905, 0.01673738123290643), (3698, 0.016736582561837136), (114, 0.01673230468648871), (3644, 0.016723969622962537), (1336, 0.016716190210730883), (1297, 0.016702272633724827), (771, 0.016686040962900505), (2423, 0.016657844534881214), (2969, 0.016643777962059948), (1798, 0.016637583108597084), (2276, 0.016606198472206523), (2533, 0.016605954964962928), (1613, 0.016592483566627222), (1619, 0.016591814628219285), (1883, 0.016588780058933567), (1471, 0.0165811902536506), (405, 0.016566045760244612), (689, 0.01656194560806485), (3207, 0.016556129271304034), (3160, 0.016552695496216015), (266, 0.01655137783381791), (1023, 0.01655092246115794), (2341, 0.016531499771251665), (1841, 0.016519477716643333), (645, 0.0165093421090902), (2574, 0.016507750078810796), (3007, 0.01646498412981438), (3496, 0.016461937759561153), (2360, 0.01645787861037426), (1453, 0.016450939070348322), (138, 0.016418818668585255), (96, 0.016417882244759374), (2054, 0.016404757042385844), (2615, 0.016387027012715476), (894, 0.016377333687873863), (749, 0.016365357789374653), (531, 0.016362685735360403), (1392, 0.01635197323429806), (343, 0.016343187467571678), (2322, 0.016337655078226293), (3670, 0.016335769086090825), (1856, 0.016332030613231654), (536, 0.016319980756541064), (753, 0.016315380776666784), (2600, 0.01631172154832952), (1457, 0.016301279914028022), (1562, 0.01629260425237513), (2151, 0.016265809092795402), (3226, 0.016254548373943287), (3266, 0.016237241321124064), (3234, 0.016223156199681774), (432, 0.016221073067012582), (3003, 0.016195878967440472), (330, 0.01617544550435788), (1601, 0.01617370190832358), (2510, 0.016157909485194737), (238, 0.0161417545243348), (1685, 0.01613055488209369), (2626, 0.01612487374868482), (1988, 0.016076128692518975), (3033, 0.016068332183276385), (2424, 0.016059532287041656), (2430, 0.016051199319919954), (2381, 0.01603062952484098), (3260, 0.016007667195470386), (390, 0.015993896917616948), (840, 0.01598877935883455), (2331, 0.015966148336960223), (578, 0.015957148856968494), (137, 0.015955231649501984), (3217, 0.01594214838618966), (2860, 0.015929725713340115), (1236, 0.015928401447879034), (210, 0.01592644955631383), (3209, 0.015902425599068185), (2545, 0.01588621382344372), (1058, 0.01586866081602929), (3620, 0.015862650603890555), (1440, 0.01584945434258452), (2471, 0.01584276968132984), (1581, 0.01582963227827154), (1611, 0.015826660372427876), (2859, 0.015820206784474967), (1859, 0.015819844260704458), (768, 0.01581282212709886), (92, 0.01579605872740027), (3695, 0.01578589495864327), (2073, 0.01577937429407291), (2609, 0.01577900826413376), (3622, 0.015767138694508857), (2007, 0.01576046714863691), (1081, 0.015731826320981003), (2876, 0.015718274211968686), (2021, 0.01571171751841493), (177, 0.015708723262948192), (1569, 0.015693215446290976), (1170, 0.015595806254393722), (508, 0.0155929788698559), (2119, 0.015574115280892389), (194, 0.015565669441152525), (921, 0.015542859766381163), (2921, 0.015506479340922563), (2154, 0.015496735218974404), (3225, 0.015491638278758685), (250, 0.015465669532672381), (3195, 0.01546432517520761), (258, 0.015454287727647776), (3451, 0.015445109236239514), (3349, 0.015425734106562197), (936, 0.015415616735390448), (100, 0.015404676784644477), (1754, 0.015399831294760151), (1996, 0.015383579906944393), (664, 0.015355207204061826), (845, 0.015350148116546983), (2460, 0.015348225123580011), (2113, 0.01531198061072026), (2328, 0.015308528525528524), (2404, 0.01530218420995147), (398, 0.015294200116128661), (285, 0.015291216723031563), (2854, 0.015254900653179058), (1021, 0.015250896970798917), (2011, 0.015232413754455821), (2374, 0.015228417598191931), (226, 0.015227734644172836), (946, 0.015225144162328421), (854, 0.015216475788176202), (2749, 0.015206863615744061), (1298, 0.015199516278492583), (2493, 0.015196112122004453), (3081, 0.015188093509129244), (3189, 0.015163764461537556), (3716, 0.015157044717288572), (969, 0.01515004394014223), (3516, 0.015124880053282028), (1177, 0.015099835342485103), (2605, 0.015099584952317217), (1220, 0.015072463075542948), (1497, 0.01507242810018403), (2979, 0.015070163469691623), (2977, 0.015068967214974843), (3077, 0.015057661502384813), (736, 0.01504236944155717), (2213, 0.015034540161806165), (87, 0.015018091486749282), (579, 0.015009543960844229), (2744, 0.015004007737858219), (3263, 0.014995030841917677), (1127, 0.014984294349976779), (3697, 0.014951148954650769), (2330, 0.014943505073955511), (3138, 0.014932851270524985), (1287, 0.014929555453133707), (2989, 0.0149279034532838), (1743, 0.014911522190198659), (1832, 0.014903811802316091), (1482, 0.01486212938949794), (2469, 0.01483027438259758), (1648, 0.0148157343018673), (1670, 0.014814094497965648), (2056, 0.01479572329298536), (3290, 0.014768669339454218), (296, 0.014768475971619496), (2160, 0.014731200808195873), (1086, 0.014721205942277733), (3334, 0.014710487021697496), (1976, 0.014693035082832248), (1956, 0.014691284616251838), (3580, 0.014678260512643072), (265, 0.014650509595406825), (3464, 0.014648987273087239), (1810, 0.014641125770149643), (2261, 0.014637466148913567), (1110, 0.014614719502384613), (2467, 0.014608510576822078), (21, 0.014595699178141977), (3085, 0.014585751429441976), (487, 0.01458553065372358), (3304, 0.01458291802730031), (1944, 0.014578486338688506), (291, 0.01457277764521717), (2112, 0.01456796383551881), (2368, 0.014565864242188342), (2852, 0.014556537026994722), (1099, 0.014509595705682013), (2316, 0.014492988873120121), (1992, 0.014468881606254504), (240, 0.01446752012405363), (2495, 0.014467112216727416), (122, 0.014453520115943651), (1864, 0.014449098853109141), (568, 0.014438656650037499), (2455, 0.014414015666125945), (411, 0.014409591670718695), (3377, 0.01437155907058841), (2051, 0.014366836761746174), (3730, 0.014362912362278808), (2304, 0.014356211448111268), (140, 0.014354345947781542), (2454, 0.014327698930576987), (1342, 0.014315193729963134), (2254, 0.014314668881908327), (773, 0.01431164789374868), (2378, 0.014300400461878264), (354, 0.014291111509760528), (3200, 0.01426373775541036), (815, 0.014243060868923817), (1594, 0.014206489042265074), (2118, 0.014199337601611853), (1476, 0.014174555238684796), (3099, 0.014146996101483032), (371, 0.01412909960535013), (176, 0.014121529550502582), (2230, 0.014111666199376508), (406, 0.01410606211044814), (1149, 0.014104510484373506), (2138, 0.014104156183636017), (2114, 0.014102571836513011), (374, 0.014087267755539833), (3268, 0.014086450156245666), (2948, 0.014045608609794681), (1210, 0.014027457205880113), (378, 0.01401128069169984), (3254, 0.013989306860139102), (1245, 0.013975814563184644), (3093, 0.013964981030075808), (154, 0.013958729688640618), (247, 0.013936622957192404), (3586, 0.01393179405376634), (2654, 0.013916721605751668), (3715, 0.01389258174752927), (795, 0.013892390095145223), (2103, 0.013873970811325034), (1346, 0.01384378262526385), (3679, 0.01384034533179683), (2711, 0.01381473917083422), (1184, 0.013772257186152086), (1997, 0.013764500026991951), (2487, 0.013759836841019961), (1507, 0.013758885004793503), (2774, 0.013758580384024357), (3070, 0.013737712973184326), (2867, 0.013713881224905126), (3092, 0.013706066764165165), (2028, 0.01369150082114438), (3709, 0.013687855136123233), (953, 0.013650741566119664), (2045, 0.013649218274206497), (873, 0.013626334477174196), (2320, 0.0135522486253551), (2564, 0.01355041743352907), (3220, 0.013546432760285889), (2610, 0.013534254237703854), (3402, 0.013530682266190126), (1109, 0.013503066043084226), (3480, 0.0134636221013676), (1, 0.013427636132117294), (3410, 0.013426167283617374), (2, 0.013417537044080248), (1526, 0.013413811042053934), (2549, 0.013407166224051154), (2853, 0.013404462825008595), (2426, 0.013382402934059233), (3221, 0.013374408477450344), (3426, 0.01336121625927254), (2247, 0.013315422108883278), (409, 0.01330529772910723), (934, 0.013279833245902598), (2449, 0.013208031111983563), (3352, 0.013179109772915112), (2940, 0.013148644920022708), (3395, 0.013135144008940336), (528, 0.013095223093427035), (2432, 0.013092343274247764), (2392, 0.013065957370716471), (3105, 0.013050110570353258), (2587, 0.013047692869774231), (56, 0.013037671662646275), (2169, 0.013006137461289646), (2446, 0.013003691415600307), (2858, 0.012990009086552528), (2225, 0.012982100088947627), (1222, 0.012962803627734755), (3733, 0.01291139689728828), (1544, 0.01290636644713234), (1465, 0.012870212634525403), (2636, 0.01286934970861861), (3411, 0.012856004527518694), (766, 0.012839797872319942), (1946, 0.012833356510980599), (3731, 0.012820856430431828), (2573, 0.012807428056493122), (530, 0.012742641973432622), (426, 0.012739356373933747), (2098, 0.012727030857110347), (2132, 0.01272201847342032), (2226, 0.012676866745902127), (2531, 0.012618605447653107), (2734, 0.012607206228346803), (2696, 0.012594162378923149), (3127, 0.012550429420189106), (2264, 0.012512385753592826), (2777, 0.01247300474265204), (3734, 0.012469081790105193), (1478, 0.012461865594461486), (3499, 0.012448686437841132), (2503, 0.012443150615833233), (3633, 0.012369665706216847), (1450, 0.012274273309785711), (1889, 0.012251773102941618), (355, 0.01223347786259995), (1865, 0.012186778290554517), (1251, 0.012157969251533882), (1049, 0.012151914219931732), (529, 0.012135057797686335), (3604, 0.012039616886189325), (498, 0.01203798221446141), (3513, 0.01203586065161106), (1790, 0.012017641840877459), (2116, 0.01198882532494231), (1828, 0.0119710691342342), (2150, 0.011961550819421532), (3229, 0.011936355962065284), (1509, 0.01193092752862671), (2864, 0.011910804235462442), (221, 0.011656791680037385), (3424, 0.011635519254950452), (1039, 0.011626236978777203), (525, 0.011622010285481252), (2919, 0.011501168277826919), (2800, 0.011500436498126848), (2690, 0.011448511641806575), (3669, 0.011441236810144488), (1070, 0.011436076652023456), (2998, 0.011430491607665587), (1773, 0.011420424930974912), (458, 0.011419571892799494), (2291, 0.011408194621805803), (3350, 0.011376682053806986), (2596, 0.011371747688721595), (3375, 0.01136979440044343), (3124, 0.011343118460069399), (2869, 0.011313790041694246), (274, 0.011312090579196903), (1214, 0.011304017074763646), (2584, 0.011271653395941432), (2536, 0.011196886740197639), (358, 0.011130596443949817), (3535, 0.011123891197591038), (2812, 0.01110840387673498), (1849, 0.011033059094763927), (277, 0.01102840668342904), (1357, 0.010846401339997768), (553, 0.010831284659917506), (2714, 0.010824368515554749), (3129, 0.010802892686345244), (1564, 0.010664521929039664), (3591, 0.01064475526906997), (1409, 0.010606314715599825), (3308, 0.010498190017629328), (3672, 0.010449098831645404), (3201, 0.010433095315041252), (1181, 0.01039641914590007), (554, 0.010370782011222877), (42, 0.010318910974814998), (3391, 0.01024744706510946), (31, 0.010180433078253358), (1605, 0.01008968527269858), (3619, 0.010059439239980136), (1933, 0.010041330466034207), (2567, 0.009959693187133932), (2561, 0.009845779591630945), (3188, 0.009483086862661604), (2959, 0.009323443133136091), (1952, 0.00930244703589102), (2966, 0.009182007216395147), (2427, 0.009181150495945464), (3285, 0.009059660354422959), (3607, 0.008899238508563233), (2094, 0.008854654250932473), (15, 0.008643810931648335), (1500, 0.008610530363181669), (2267, 0.00853737546911797), (2494, 0.008525283908391627), (2794, 0.008287877146701485), (3723, 0.008225130960188544), (1502, 0.008134635639111773), (2747, 0.007958465561750224), (2779, 0.00790298568907158), (3381, 0.007600755237439884), (3540, 0.007579319064694985), (2803, 0.0074244349345546565), (1498, 0.007046099657024076), (74, 0.006926525167301192), (2332, 0.006542486167279971), (3631, 0.006281581858239394), (3168, 0.006178735738629183), (2621, 0.005918537658860258), (3002, 0.005582417422727998), (1163, 0.005331628294760816), (2201, 0.00515125602149839), (988, 0.005005328369649079), (2591, 0.004861459197905803), (1657, 0.004853643123078341), (1869, 0.004837476485912883), (2022, 0.004780129097519327), (1612, 0.004718098883645199), (1966, 0.004700110651390119), (518, 0.004638577843744997), (2863, 0.004516042917703162), (2269, 0.0042021793415163025), (2889, 0.0041331498173314), (2337, 0.003832357432799319), (2762, 0.003779185768615311), (2623, 0.0036918677748021883), (3071, 0.0031480833719830796), (3237, 0.002962296842183341), (3256, 0.0029538280181322252), (2984, 0.002254114180424327), (2382, 0.0), (2695, 0.0), (2901, 0.0), (2953, 0.0), (3488, 0.0)]\n"
     ]
    }
   ],
   "source": [
    "# sorting the movie based on their similarity score\n",
    "sorted_similar_movie = sorted(recommendation_score, key = lambda x:x[1], reverse=True)\n",
    "print(sorted_similar_movie)"
   ]
  },
  {
   "cell_type": "code",
   "execution_count": 55,
   "id": "1426f217",
   "metadata": {},
   "outputs": [
    {
     "name": "stdout",
     "output_type": "stream",
     "text": [
      "top 30 movies suggested for you: \n",
      "\n",
      "1 . Niagara\n",
      "2 . True Lies\n",
      "3 . Funny People\n",
      "4 . The Grudge 2\n",
      "5 . Straightheads\n",
      "6 . Krull\n",
      "7 . Rachel Getting Married\n",
      "8 . Step Brothers\n",
      "9 . Fair Game\n",
      "10 . Date Movie\n",
      "11 . The Imaginarium of Doctor Parnassus\n",
      "12 . The Ice Pirates\n",
      "13 . Nowhere in Africa\n",
      "14 . Under the Tuscan Sun\n",
      "15 . Clerks\n",
      "16 . Death Race\n",
      "17 . East Is East\n",
      "18 . The X Files: I Want to Believe\n",
      "19 . Priest\n",
      "20 . The Station Agent\n",
      "21 . Spider-Man 3\n",
      "22 . The Innkeepers\n",
      "23 . Can't Stop the Music\n",
      "24 . Mrs. Winterbourne\n",
      "25 . Godzilla 2000\n",
      "26 . Modern Times\n",
      "27 . Stargate: The Ark of Truth\n",
      "28 . What Just Happened\n",
      "29 . The Rugrats Movie\n",
      "30 . My Big Fat Independent Movie\n"
     ]
    }
   ],
   "source": [
    "# print the name of similar movie based on the index\n",
    "print(\"top 30 movies suggested for you: \\n\")\n",
    "\n",
    "i = 1\n",
    "\n",
    "for movie in sorted_similar_movie:\n",
    "    index = movie[0]\n",
    "    title_from_index = df[df.index==index]['Movie_Title'].values[0]\n",
    "    if (i<31):\n",
    "        print(i,'.',title_from_index)\n",
    "        i = i+1"
   ]
  },
  {
   "cell_type": "markdown",
   "id": "72afacfc",
   "metadata": {},
   "source": [
    "# top 10 movie recommendation system"
   ]
  },
  {
   "cell_type": "code",
   "execution_count": 57,
   "id": "6f261fce",
   "metadata": {},
   "outputs": [
    {
     "name": "stdout",
     "output_type": "stream",
     "text": [
      "enter your favourite movie name:avtaar\n",
      "top 10 movies suggested for you: \n",
      "\n",
      "1 . Niagara\n",
      "2 . True Lies\n",
      "3 . Funny People\n",
      "4 . The Grudge 2\n",
      "5 . Straightheads\n",
      "6 . Krull\n",
      "7 . Rachel Getting Married\n",
      "8 . Step Brothers\n",
      "9 . Fair Game\n",
      "10 . Date Movie\n"
     ]
    }
   ],
   "source": [
    "movie_name = input(\"enter your favourite movie name:\")\n",
    "\n",
    "list_of_all_title = df['Movie_Title'].tolist()\n",
    "find_close_match = difflib.get_close_matches(movie_name,list_of_all_title)\n",
    "close_match = find_close_match[0]\n",
    "index_of_movie = df[df.Movie_Title == close_match]['Movie_ID'].values[0]\n",
    "recommendation_score = list(enumerate(similarity_score[index_of_movie]))\n",
    "sorted_similar_movie = sorted(recommendation_score, key = lambda x:x[1], reverse=True)\n",
    "print(\"top 10 movies suggested for you: \\n\")\n",
    "\n",
    "i = 1\n",
    "\n",
    "for movie in sorted_similar_movie:\n",
    "    index = movie[0]\n",
    "    title_from_index = df[df.index==index]['Movie_Title'].values[0]\n",
    "    if (i<11):\n",
    "        print(i,'.',title_from_index)\n",
    "        i = i+1"
   ]
  },
  {
   "cell_type": "code",
   "execution_count": 60,
   "id": "44c9d2da",
   "metadata": {},
   "outputs": [
    {
     "data": {
      "text/plain": [
       "0                        Four Rooms\n",
       "1                         Star Wars\n",
       "2                      Finding Nemo\n",
       "3                      Forrest Gump\n",
       "4                   American Beauty\n",
       "                   ...             \n",
       "4755               Midnight Cabaret\n",
       "4756               Growing Up Smith\n",
       "4757                         8 Days\n",
       "4758                Running Forever\n",
       "4759    To Be Frank, Sinatra at 100\n",
       "Name: Movie_Title, Length: 4760, dtype: object"
      ]
     },
     "execution_count": 60,
     "metadata": {},
     "output_type": "execute_result"
    }
   ],
   "source": [
    "df['Movie_Title']"
   ]
  },
  {
   "cell_type": "code",
   "execution_count": null,
   "id": "6212a39b",
   "metadata": {},
   "outputs": [],
   "source": []
  }
 ],
 "metadata": {
  "kernelspec": {
   "display_name": "Python 3 (ipykernel)",
   "language": "python",
   "name": "python3"
  },
  "language_info": {
   "codemirror_mode": {
    "name": "ipython",
    "version": 3
   },
   "file_extension": ".py",
   "mimetype": "text/x-python",
   "name": "python",
   "nbconvert_exporter": "python",
   "pygments_lexer": "ipython3",
   "version": "3.10.9"
  }
 },
 "nbformat": 4,
 "nbformat_minor": 5
}
